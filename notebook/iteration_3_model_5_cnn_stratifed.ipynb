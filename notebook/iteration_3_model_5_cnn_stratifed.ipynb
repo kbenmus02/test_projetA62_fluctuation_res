{
 "cells": [
  {
   "cell_type": "code",
   "execution_count": 1,
   "id": "ad865c85",
   "metadata": {},
   "outputs": [],
   "source": [
    "import import_ipynb"
   ]
  },
  {
   "cell_type": "code",
   "execution_count": 2,
   "id": "5a2ac324",
   "metadata": {},
   "outputs": [],
   "source": [
    "%run iteration_0_imports.py"
   ]
  },
  {
   "cell_type": "code",
   "execution_count": 3,
   "id": "e8567f07",
   "metadata": {},
   "outputs": [],
   "source": [
    "%run iteration_0_parameters.py"
   ]
  },
  {
   "cell_type": "code",
   "execution_count": 4,
   "id": "fcbd8b98",
   "metadata": {},
   "outputs": [
    {
     "name": "stdout",
     "output_type": "stream",
     "text": [
      "importing Jupyter notebook from iteration_0_utils.ipynb\n"
     ]
    }
   ],
   "source": [
    "import iteration_0_utils as utils"
   ]
  },
  {
   "cell_type": "code",
   "execution_count": 5,
   "id": "a411afe7",
   "metadata": {},
   "outputs": [
    {
     "name": "stdout",
     "output_type": "stream",
     "text": [
      "Variable                          Type        Data/Info\n",
      "-------------------------------------------------------\n",
      "HEALTHY                           str         H\n",
      "IMG_IN_COLOR                      int         1\n",
      "IMG_SIZE                          int         64\n",
      "Image                             module      <module 'PIL.Image' from <...>packages\\\\PIL\\\\Image.py'>\n",
      "NBR_SAMPLE                        int         20000\n",
      "PATH_DATA                         str         ../data\n",
      "PATH_DATA_EDA                     str         ../data/eda\n",
      "PATH_DATA_LIST                    str         ../data/list\n",
      "PATH_DATA_SAMPLE                  str         ../data/sample\n",
      "PATH_MODEL                        str         ../model\n",
      "PATH_ROOT                         str         ..\n",
      "PATH_SOURCE_IMG                   str         ../cell_images\n",
      "RandomForestClassifier            ABCMeta     <class 'sklearn.ensemble.<...>.RandomForestClassifier'>\n",
      "SICK                              str         S\n",
      "classification_report             function    <function classification_<...>rt at 0x0000027DDC4B1AF0>\n",
      "confusion_matrix                  function    <function confusion_matrix at 0x0000027DDC4B1280>\n",
      "cv2                               module      <module 'cv2' from 'c:\\\\u<...>kages\\\\cv2\\\\__init__.py'>\n",
      "datetime                          type        <class 'datetime.datetime'>\n",
      "f1_score                          function    <function f1_score at 0x0000027DDC4B15E0>\n",
      "gc                                module      <module 'gc' (built-in)>\n",
      "glob                              module      <module 'glob' from 'C:\\\\<...>Anaconda3\\\\lib\\\\glob.py'>\n",
      "gzip                              module      <module 'gzip' from 'C:\\\\<...>Anaconda3\\\\lib\\\\gzip.py'>\n",
      "import_ipynb                      module      <module 'import_ipynb' fr<...>ckages\\\\import_ipynb.py'>\n",
      "learning_curve                    function    <function learning_curve at 0x0000027DDC67C430>\n",
      "mlflow                            module      <module 'mlflow' from 'c:<...>es\\\\mlflow\\\\__init__.py'>\n",
      "np                                module      <module 'numpy' from 'c:\\<...>ges\\\\numpy\\\\__init__.py'>\n",
      "os                                module      <module 'os' from 'C:\\\\Te<...>\\\\Anaconda3\\\\lib\\\\os.py'>\n",
      "pd                                module      <module 'pandas' from 'c:<...>es\\\\pandas\\\\__init__.py'>\n",
      "pickle                            module      <module 'pickle' from 'C:<...>aconda3\\\\lib\\\\pickle.py'>\n",
      "plt                               module      <module 'matplotlib.pyplo<...>\\\\matplotlib\\\\pyplot.py'>\n",
      "precision_recall_fscore_support   function    <function precision_recal<...>rt at 0x0000027DDC4B18B0>\n",
      "random                            module      <module 'random' from 'C:<...>aconda3\\\\lib\\\\random.py'>\n",
      "sns                               module      <module 'seaborn' from 'c<...>s\\\\seaborn\\\\__init__.py'>\n",
      "sp                                module      <module 'scipy.sparse' fr<...>py\\\\sparse\\\\__init__.py'>\n",
      "tqdm                              type        <class 'tqdm.std.tqdm'>\n",
      "train_test_split                  function    <function train_test_split at 0x0000027DDC674790>\n",
      "utils                             module      <module 'iteration_0_util<...> at 0x0000027DAD957A30>)>\n"
     ]
    }
   ],
   "source": [
    "%whos"
   ]
  },
  {
   "cell_type": "markdown",
   "id": "01fa02d1",
   "metadata": {},
   "source": [
    "# make X, y"
   ]
  },
  {
   "cell_type": "code",
   "execution_count": 6,
   "id": "98fd2f38",
   "metadata": {},
   "outputs": [],
   "source": [
    "DATE_TIME = \"2021-11-18_20-39-00\""
   ]
  },
  {
   "cell_type": "code",
   "execution_count": 7,
   "id": "0cd663ae",
   "metadata": {},
   "outputs": [],
   "source": [
    "# get list \n",
    "list_path_sample_img = []\n",
    "list_path_sample_img.extend(glob.glob(PATH_DATA_SAMPLE+\"/\"+DATE_TIME+ \"/\"+ \"*.pklz\"))"
   ]
  },
  {
   "cell_type": "code",
   "execution_count": 8,
   "id": "d1b92d31",
   "metadata": {},
   "outputs": [],
   "source": [
    "# create dataframe with two columns: \n",
    "## path_sample_img: image path in sample\n",
    "## label: Healthy ou Sick\n",
    "def make_dataFrame(list_path_sample_img: list) -> pd.DataFrame:\n",
    "\n",
    "    df_sample_img = pd.DataFrame(columns = [\"path_sample_img\", \"label\"])\n",
    "    for path_img in tqdm(list_path_sample_img):\n",
    "\n",
    "        _, file_name, _ = utils.split_file_info(path_img)\n",
    "        label = file_name[0]\n",
    "        df_temporary = pd.DataFrame({\"path_sample_img\": path_img,\n",
    "                                     \"label\": label}, index = [0])\n",
    "        df_sample_img = pd.concat([df_sample_img, df_temporary])\n",
    "\n",
    "    # randomise and reset index\n",
    "    df_sample_img = df_sample_img.sample(frac=1).reset_index(drop = True)\n",
    "    return df_sample_img"
   ]
  },
  {
   "cell_type": "code",
   "execution_count": 9,
   "id": "55f131a1",
   "metadata": {},
   "outputs": [],
   "source": [
    "# set options \n",
    "pd.set_option('display.max_colwidth', None)\n",
    "# to rest options\n",
    "# pd.reset_option('^display.', silent=True)"
   ]
  },
  {
   "cell_type": "code",
   "execution_count": 10,
   "id": "adffddf2",
   "metadata": {},
   "outputs": [
    {
     "name": "stderr",
     "output_type": "stream",
     "text": [
      "100%|██████████████████████████████████████████████████████████████████████████| 20000/20000 [00:11<00:00, 1817.92it/s]\n"
     ]
    }
   ],
   "source": [
    "df_sample_img = make_dataFrame(list_path_sample_img)"
   ]
  },
  {
   "cell_type": "code",
   "execution_count": 11,
   "id": "e18a97f3",
   "metadata": {},
   "outputs": [
    {
     "data": {
      "text/html": [
       "<div>\n",
       "<style scoped>\n",
       "    .dataframe tbody tr th:only-of-type {\n",
       "        vertical-align: middle;\n",
       "    }\n",
       "\n",
       "    .dataframe tbody tr th {\n",
       "        vertical-align: top;\n",
       "    }\n",
       "\n",
       "    .dataframe thead th {\n",
       "        text-align: right;\n",
       "    }\n",
       "</style>\n",
       "<table border=\"1\" class=\"dataframe\">\n",
       "  <thead>\n",
       "    <tr style=\"text-align: right;\">\n",
       "      <th></th>\n",
       "      <th>path_sample_img</th>\n",
       "      <th>label</th>\n",
       "    </tr>\n",
       "  </thead>\n",
       "  <tbody>\n",
       "    <tr>\n",
       "      <th>5142</th>\n",
       "      <td>../data/sample/2021-11-18_20-39-00\\H_C106P67ThinF_IMG_20150924_102245_cell_86.pklz</td>\n",
       "      <td>H</td>\n",
       "    </tr>\n",
       "    <tr>\n",
       "      <th>211</th>\n",
       "      <td>../data/sample/2021-11-18_20-39-00\\H_C120P81ThinF_IMG_20151002_130150_cell_4.pklz</td>\n",
       "      <td>H</td>\n",
       "    </tr>\n",
       "    <tr>\n",
       "      <th>19218</th>\n",
       "      <td>../data/sample/2021-11-18_20-39-00\\H_C96P57ThinF_IMG_20150824_112442_cell_170.pklz</td>\n",
       "      <td>H</td>\n",
       "    </tr>\n",
       "    <tr>\n",
       "      <th>18530</th>\n",
       "      <td>../data/sample/2021-11-18_20-39-00\\S_C84P45ThinF_IMG_20150818_102325_cell_94.pklz</td>\n",
       "      <td>S</td>\n",
       "    </tr>\n",
       "    <tr>\n",
       "      <th>8167</th>\n",
       "      <td>../data/sample/2021-11-18_20-39-00\\H_C241NThinF_IMG_20151207_124030_cell_150.pklz</td>\n",
       "      <td>H</td>\n",
       "    </tr>\n",
       "  </tbody>\n",
       "</table>\n",
       "</div>"
      ],
      "text/plain": [
       "                                                                          path_sample_img  \\\n",
       "5142   ../data/sample/2021-11-18_20-39-00\\H_C106P67ThinF_IMG_20150924_102245_cell_86.pklz   \n",
       "211     ../data/sample/2021-11-18_20-39-00\\H_C120P81ThinF_IMG_20151002_130150_cell_4.pklz   \n",
       "19218  ../data/sample/2021-11-18_20-39-00\\H_C96P57ThinF_IMG_20150824_112442_cell_170.pklz   \n",
       "18530   ../data/sample/2021-11-18_20-39-00\\S_C84P45ThinF_IMG_20150818_102325_cell_94.pklz   \n",
       "8167    ../data/sample/2021-11-18_20-39-00\\H_C241NThinF_IMG_20151207_124030_cell_150.pklz   \n",
       "\n",
       "      label  \n",
       "5142      H  \n",
       "211       H  \n",
       "19218     H  \n",
       "18530     S  \n",
       "8167      H  "
      ]
     },
     "execution_count": 11,
     "metadata": {},
     "output_type": "execute_result"
    }
   ],
   "source": [
    "df_sample_img.sample(5)"
   ]
  },
  {
   "cell_type": "code",
   "execution_count": 12,
   "id": "31d31b95",
   "metadata": {},
   "outputs": [],
   "source": [
    "# split train, validation, test set\n",
    "df_path_sample_img_train, df_path_sample_img_test  = train_test_split(df_sample_img, test_size=0.2, random_state=1, \\\n",
    "                                                                          stratify=df_sample_img.label)\n",
    "\n",
    "df_path_sample_img_train, df_path_sample_img_valid = train_test_split(df_path_sample_img_train, test_size=0.2, \\\n",
    "                                                                      random_state=1, stratify=df_path_sample_img_train.label)"
   ]
  },
  {
   "cell_type": "code",
   "execution_count": 13,
   "id": "0cdf411e",
   "metadata": {},
   "outputs": [],
   "source": [
    "# # split train, validation, test set\n",
    "# list_path_sample_img_train, list_path_sample_img_test  = train_test_split(list_path_sample_img, test_size=0.2)\n",
    "# list_path_sample_img_train, list_path_sample_img_valid = train_test_split(list_path_sample_img_train, test_size=0.2)"
   ]
  },
  {
   "cell_type": "code",
   "execution_count": 14,
   "id": "3d9609f4",
   "metadata": {},
   "outputs": [],
   "source": [
    "def make_Xy(list_path_sample_img: list) -> (np.array, np.array):\n",
    "    X = np.ndarray( (len(list_path_sample_img), IMG_SIZE, IMG_SIZE, 3) ,dtype = \"float16\")\n",
    "    y = np.array([\"\"] * len(list_path_sample_img))\n",
    "    for i, path in tqdm(enumerate(list_path_sample_img)):\n",
    "        \n",
    "        X[i] = utils.pickle_read(path).astype(\"float16\")\n",
    "    \n",
    "        _, file_name, _ = utils.split_file_info(path)\n",
    "        y[i] = file_name[0]\n",
    "    \n",
    "    return X, y\n",
    "    "
   ]
  },
  {
   "cell_type": "code",
   "execution_count": 15,
   "id": "5a72ecd5",
   "metadata": {},
   "outputs": [
    {
     "name": "stderr",
     "output_type": "stream",
     "text": [
      "12800it [02:10, 97.91it/s] \n"
     ]
    }
   ],
   "source": [
    "X_train, y_train  = make_Xy(df_path_sample_img_train.path_sample_img)"
   ]
  },
  {
   "cell_type": "code",
   "execution_count": 16,
   "id": "d64f68a2",
   "metadata": {},
   "outputs": [
    {
     "name": "stderr",
     "output_type": "stream",
     "text": [
      "3200it [00:28, 110.73it/s]\n"
     ]
    }
   ],
   "source": [
    "X_valid, y_valid  = make_Xy(df_path_sample_img_valid.path_sample_img)"
   ]
  },
  {
   "cell_type": "code",
   "execution_count": 17,
   "id": "302ca734",
   "metadata": {},
   "outputs": [
    {
     "name": "stderr",
     "output_type": "stream",
     "text": [
      "4000it [00:35, 113.84it/s]\n"
     ]
    }
   ],
   "source": [
    "X_test, y_test  = make_Xy(df_path_sample_img_test.path_sample_img)"
   ]
  },
  {
   "cell_type": "code",
   "execution_count": 18,
   "id": "bb1d2a93",
   "metadata": {},
   "outputs": [
    {
     "name": "stdout",
     "output_type": "stream",
     "text": [
      "(array(['H', 'S'], dtype='<U1'), array([6400, 6400], dtype=int64))\n",
      "(array(['H', 'S'], dtype='<U1'), array([1600, 1600], dtype=int64))\n",
      "(array(['H', 'S'], dtype='<U1'), array([2000, 2000], dtype=int64))\n"
     ]
    }
   ],
   "source": [
    "# verification\n",
    "print(np.unique(y_train, return_counts=True))\n",
    "print(np.unique(y_valid, return_counts=True))\n",
    "print(np.unique(y_test,  return_counts=True))"
   ]
  },
  {
   "cell_type": "code",
   "execution_count": 19,
   "id": "beeda530",
   "metadata": {},
   "outputs": [
    {
     "name": "stdout",
     "output_type": "stream",
     "text": [
      "(12800, 64, 64, 3)\n",
      "(3200, 64, 64, 3)\n",
      "(4000, 64, 64, 3)\n"
     ]
    }
   ],
   "source": [
    "print(X_train.shape)\n",
    "print(X_valid.shape)\n",
    "print(X_test.shape)"
   ]
  },
  {
   "cell_type": "markdown",
   "id": "7a92fdbe",
   "metadata": {},
   "source": [
    "# model_cnn"
   ]
  },
  {
   "cell_type": "markdown",
   "id": "632aae0e",
   "metadata": {},
   "source": [
    "* Ref: https://towardsdatascience.com/detecting-malaria-with-deep-learning-9e45c1e34b60\n",
    "* https://towardsdatascience.com/understanding-and-calculating-the-number-of-parameters-in-convolution-neural-networks-cnns-fc88790d530d"
   ]
  },
  {
   "cell_type": "code",
   "execution_count": 20,
   "id": "54860013",
   "metadata": {},
   "outputs": [],
   "source": [
    "BATCH_SIZE = 500\n",
    "#percentage = 0.10\n",
    "#BATCH_SIZE = int(len(X_train) * percentage)\n",
    "\n",
    "NUM_CLASSES = 2\n",
    "EPOCHS = 25\n",
    "INPUT_SHAPE = (IMG_SIZE, IMG_SIZE, 3)"
   ]
  },
  {
   "cell_type": "code",
   "execution_count": 21,
   "id": "19b6ac0e",
   "metadata": {},
   "outputs": [],
   "source": [
    "# Encoder y\n",
    "from sklearn.preprocessing import LabelEncoder"
   ]
  },
  {
   "cell_type": "code",
   "execution_count": 22,
   "id": "8d776d9a",
   "metadata": {},
   "outputs": [],
   "source": [
    "le = LabelEncoder()"
   ]
  },
  {
   "cell_type": "code",
   "execution_count": 23,
   "id": "c9b79033",
   "metadata": {},
   "outputs": [],
   "source": [
    "y_train_enc = le.fit_transform(y_train)"
   ]
  },
  {
   "cell_type": "code",
   "execution_count": 24,
   "id": "ec7bc157",
   "metadata": {},
   "outputs": [],
   "source": [
    "y_valid_enc = le.transform(y_valid)\n",
    "y_test_enc  = le.transform(y_test)"
   ]
  },
  {
   "cell_type": "code",
   "execution_count": 25,
   "id": "112be444",
   "metadata": {},
   "outputs": [
    {
     "data": {
      "text/plain": [
       "array(['H', 'S'], dtype='<U1')"
      ]
     },
     "execution_count": 25,
     "metadata": {},
     "output_type": "execute_result"
    }
   ],
   "source": [
    "le.classes_"
   ]
  },
  {
   "cell_type": "code",
   "execution_count": 26,
   "id": "b34eb630",
   "metadata": {},
   "outputs": [],
   "source": [
    "#!pip uninstall tensorflow"
   ]
  },
  {
   "cell_type": "markdown",
   "id": "65f8c2d4",
   "metadata": {},
   "source": [
    "Créer un fichier .reg avec les instructions suivantes :\n",
    "\n",
    "===\n",
    "\n",
    "Windows Registry Editor Version 5.00\n",
    "\n",
    "[HKEY_LOCAL_MACHINE\\SYSTEM\\CurrentControlSet\\Control\\FileSystem]\n",
    "\"LongPathsEnabled\"=dword:00000001\n",
    "\n",
    "---\n",
    "\n",
    "Exécuter le .reg"
   ]
  },
  {
   "cell_type": "code",
   "execution_count": 27,
   "id": "646e9ab2",
   "metadata": {},
   "outputs": [],
   "source": [
    "#!pip install tensorflow"
   ]
  },
  {
   "cell_type": "code",
   "execution_count": 28,
   "id": "62add767",
   "metadata": {},
   "outputs": [],
   "source": [
    "import tensorflow as tf"
   ]
  },
  {
   "cell_type": "code",
   "execution_count": 29,
   "id": "5fc97c10",
   "metadata": {},
   "outputs": [],
   "source": [
    "from keras.models import Sequential"
   ]
  },
  {
   "cell_type": "code",
   "execution_count": 30,
   "id": "8798a5a5",
   "metadata": {},
   "outputs": [],
   "source": [
    "#assert False"
   ]
  },
  {
   "cell_type": "code",
   "execution_count": 31,
   "id": "4c7f239d",
   "metadata": {},
   "outputs": [],
   "source": [
    "def plot_history(history):\n",
    "    plt.figure(figsize=(16,9))\n",
    "    # plot loss\n",
    "    plt.subplot(211)\n",
    "    plt.grid()\n",
    "    plt.title('binary_crossentropy')\n",
    "    plt.plot(history.history['loss'], \"o-\", color='blue', label='train')\n",
    "    plt.plot(history.history['val_loss'], \"o-\", color='orange', label='validation')\n",
    "    plt.legend()    \n",
    "    # plot accuracy\n",
    "    plt.subplot(212)\n",
    "    plt.grid()\n",
    "    plt.title('Classification Accuracy')\n",
    "    plt.plot(history.history['accuracy'], \"o-\",color='blue', label='train')\n",
    "    plt.plot(history.history['val_accuracy'], \"o-\",color='orange', label='validation')\n",
    "    plt.legend()\n",
    "    plt.show()"
   ]
  },
  {
   "cell_type": "code",
   "execution_count": 32,
   "id": "13778f5c",
   "metadata": {},
   "outputs": [],
   "source": [
    "model_cnn_5 = Sequential()\n",
    "model_cnn_5.add(tf.keras.layers.Input(name = \"input\", shape=INPUT_SHAPE))\n",
    "model_cnn_5.add(tf.keras.layers.Conv2D(name = \"conv2D\",\n",
    "                                     filters=32,\n",
    "                                     kernel_size=(3,3),\n",
    "                                     activation=\"LeakyReLU\",\n",
    "                                     padding=\"same\",\n",
    "                                     kernel_initializer=\"he_uniform\"\n",
    "                                    ))\n",
    "model_cnn_5.add(tf.keras.layers.MaxPooling2D(name=\"pooling\", pool_size=(2,2)))\n",
    "\n",
    "model_cnn_5.add(tf.keras.layers.Conv2D(name = \"conv2D_2\",\n",
    "                                     filters=64,\n",
    "                                     kernel_size=(3,3),\n",
    "                                     activation=\"LeakyReLU\",\n",
    "                                     padding=\"same\",\n",
    "                                     kernel_initializer=\"he_uniform\"\n",
    "                                    ))\n",
    "model_cnn_5.add(tf.keras.layers.MaxPooling2D(name=\"pooling_2\", pool_size=(2,2)))\n",
    "\n",
    "model_cnn_5.add(tf.keras.layers.Conv2D(name = \"conv2D_3\",\n",
    "                                     filters=128,\n",
    "                                     kernel_size=(3,3),\n",
    "                                     activation=\"LeakyReLU\",\n",
    "                                     padding=\"same\",\n",
    "                                     kernel_initializer=\"he_uniform\"\n",
    "                                    ))\n",
    "model_cnn_5.add(tf.keras.layers.MaxPooling2D(name=\"pooling_3\", pool_size=(2,2)))\n",
    "\n",
    "model_cnn_5.add(tf.keras.layers.Flatten(name=\"flatten\"))\n",
    "model_cnn_5.add(tf.keras.layers.Dense(name=\"dense_hidden\", units = 1024, activation=\"LeakyReLU\",\n",
    "                                    kernel_initializer=\"he_uniform\" ))\n",
    "model_cnn_5.add(tf.keras.layers.Dense(name=\"dense_hidden_2\", units = 128, activation=\"LeakyReLU\",\n",
    "                                    kernel_initializer=\"he_uniform\" ))\n",
    "model_cnn_5.add(tf.keras.layers.Dense(name=\"ouput\", units = 1, activation=\"sigmoid\"))\n"
   ]
  },
  {
   "cell_type": "code",
   "execution_count": 33,
   "id": "29ac772c",
   "metadata": {},
   "outputs": [],
   "source": [
    "# compiler modele\n",
    "model_cnn_5.compile(optimizer = tf.keras.optimizers.Adam(learning_rate=1e-3),\\\n",
    "                    loss =\"binary_crossentropy\", metrics=[\"accuracy\"])"
   ]
  },
  {
   "cell_type": "code",
   "execution_count": 35,
   "id": "798ad53a",
   "metadata": {},
   "outputs": [],
   "source": [
    "from tensorflow.keras.preprocessing.image import ImageDataGenerator"
   ]
  },
  {
   "cell_type": "code",
   "execution_count": 36,
   "id": "4b4bfe3a",
   "metadata": {},
   "outputs": [],
   "source": [
    "aug = ImageDataGenerator(rotation_range=359, \\\n",
    "                         zoom_range=0.15, \\\n",
    "                         width_shift_range=0.2, height_shift_range=0.2, \\\n",
    "                         shear_range=0.15, \\\n",
    "                         horizontal_flip=True, \\\n",
    "                         vertical_flip=True, \\\n",
    "                         fill_mode=\"nearest\")"
   ]
  },
  {
   "cell_type": "code",
   "execution_count": 37,
   "id": "0157bda9",
   "metadata": {},
   "outputs": [
    {
     "data": {
      "text/plain": [
       "25"
      ]
     },
     "execution_count": 37,
     "metadata": {},
     "output_type": "execute_result"
    }
   ],
   "source": [
    "len(X_train) // BATCH_SIZE"
   ]
  },
  {
   "cell_type": "code",
   "execution_count": 38,
   "id": "4df37c30",
   "metadata": {},
   "outputs": [
    {
     "data": {
      "text/plain": [
       "'2.7.0'"
      ]
     },
     "execution_count": 38,
     "metadata": {},
     "output_type": "execute_result"
    }
   ],
   "source": [
    "tf.__version__"
   ]
  },
  {
   "cell_type": "code",
   "execution_count": 39,
   "id": "411b0e0b",
   "metadata": {},
   "outputs": [
    {
     "name": "stdout",
     "output_type": "stream",
     "text": [
      "Epoch 1/25\n",
      "25/25 [==============================] - 54s 2s/step - loss: 2.9290 - accuracy: 0.5264 - val_loss: 0.6826 - val_accuracy: 0.5906\n",
      "Epoch 2/25\n",
      "25/25 [==============================] - 43s 2s/step - loss: 0.6632 - accuracy: 0.6041 - val_loss: 0.6363 - val_accuracy: 0.6300\n",
      "Epoch 3/25\n",
      "25/25 [==============================] - 43s 2s/step - loss: 0.6372 - accuracy: 0.6389 - val_loss: 0.7078 - val_accuracy: 0.5453\n",
      "Epoch 4/25\n",
      "25/25 [==============================] - 42s 2s/step - loss: 0.6463 - accuracy: 0.6251 - val_loss: 0.6201 - val_accuracy: 0.6719\n",
      "Epoch 5/25\n",
      "25/25 [==============================] - 42s 2s/step - loss: 0.6154 - accuracy: 0.6680 - val_loss: 0.6791 - val_accuracy: 0.6050\n",
      "Epoch 6/25\n",
      "25/25 [==============================] - 42s 2s/step - loss: 0.6085 - accuracy: 0.6769 - val_loss: 0.6307 - val_accuracy: 0.6616\n",
      "Epoch 7/25\n",
      "25/25 [==============================] - 45s 2s/step - loss: 0.6125 - accuracy: 0.6668 - val_loss: 0.5863 - val_accuracy: 0.6934\n",
      "Epoch 8/25\n",
      "25/25 [==============================] - 45s 2s/step - loss: 0.6006 - accuracy: 0.6832 - val_loss: 0.6151 - val_accuracy: 0.6837\n",
      "Epoch 9/25\n",
      "25/25 [==============================] - 44s 2s/step - loss: 0.5987 - accuracy: 0.6851 - val_loss: 0.6067 - val_accuracy: 0.6616\n",
      "Epoch 10/25\n",
      "25/25 [==============================] - 44s 2s/step - loss: 0.5677 - accuracy: 0.7125 - val_loss: 0.5531 - val_accuracy: 0.7237\n",
      "Epoch 11/25\n",
      "25/25 [==============================] - 45s 2s/step - loss: 0.5444 - accuracy: 0.7270 - val_loss: 0.5364 - val_accuracy: 0.7381\n",
      "Epoch 12/25\n",
      "25/25 [==============================] - 45s 2s/step - loss: 0.5274 - accuracy: 0.7395 - val_loss: 0.5357 - val_accuracy: 0.7344\n",
      "Epoch 13/25\n",
      "25/25 [==============================] - 47s 2s/step - loss: 0.4722 - accuracy: 0.7790 - val_loss: 0.3789 - val_accuracy: 0.8391\n",
      "Epoch 14/25\n",
      "25/25 [==============================] - 47s 2s/step - loss: 0.4375 - accuracy: 0.7992 - val_loss: 0.3787 - val_accuracy: 0.8431\n",
      "Epoch 15/25\n",
      "25/25 [==============================] - 47s 2s/step - loss: 0.3616 - accuracy: 0.8460 - val_loss: 0.4301 - val_accuracy: 0.7716\n",
      "Epoch 16/25\n",
      "25/25 [==============================] - 47s 2s/step - loss: 0.4221 - accuracy: 0.8114 - val_loss: 0.2705 - val_accuracy: 0.8866\n",
      "Epoch 17/25\n",
      "25/25 [==============================] - 47s 2s/step - loss: 0.3030 - accuracy: 0.8772 - val_loss: 0.2026 - val_accuracy: 0.9212\n",
      "Epoch 18/25\n",
      "25/25 [==============================] - 44s 2s/step - loss: 0.3007 - accuracy: 0.8819 - val_loss: 0.2420 - val_accuracy: 0.9066\n",
      "Epoch 19/25\n",
      "25/25 [==============================] - 42s 2s/step - loss: 0.2915 - accuracy: 0.8876 - val_loss: 0.2089 - val_accuracy: 0.9197\n",
      "Epoch 20/25\n",
      "25/25 [==============================] - 43s 2s/step - loss: 0.2748 - accuracy: 0.8947 - val_loss: 0.1824 - val_accuracy: 0.9334\n",
      "Epoch 21/25\n",
      "25/25 [==============================] - 42s 2s/step - loss: 0.2606 - accuracy: 0.9007 - val_loss: 0.1802 - val_accuracy: 0.9397\n",
      "Epoch 22/25\n",
      "25/25 [==============================] - 43s 2s/step - loss: 0.2475 - accuracy: 0.9087 - val_loss: 0.1750 - val_accuracy: 0.9350\n",
      "Epoch 23/25\n",
      "25/25 [==============================] - 43s 2s/step - loss: 0.2411 - accuracy: 0.9080 - val_loss: 0.1680 - val_accuracy: 0.9413\n",
      "Epoch 24/25\n",
      "25/25 [==============================] - 43s 2s/step - loss: 0.2393 - accuracy: 0.9106 - val_loss: 0.1610 - val_accuracy: 0.9419\n",
      "Epoch 25/25\n",
      "25/25 [==============================] - 43s 2s/step - loss: 0.2493 - accuracy: 0.9056 - val_loss: 0.2497 - val_accuracy: 0.8984\n"
     ]
    }
   ],
   "source": [
    "history_5 = model_cnn_5.fit( \\\n",
    "                            aug.flow(X_train, y_train_enc, batch_size=BATCH_SIZE, subset=None), \\\n",
    "                            validation_data = (X_valid, y_valid_enc), \\\n",
    "                            steps_per_epoch = len(X_train) // BATCH_SIZE, \\\n",
    "                            epochs = EPOCHS\n",
    "                        )"
   ]
  },
  {
   "cell_type": "code",
   "execution_count": 40,
   "id": "10fd777b",
   "metadata": {},
   "outputs": [
    {
     "data": {
      "image/png": "[encoded data removed]",
      "text/plain": [
       "<Figure size 1152x648 with 2 Axes>"
      ]
     },
     "metadata": {
      "needs_background": "light"
     },
     "output_type": "display_data"
    }
   ],
   "source": [
    "plot_history(history_5)"
   ]
  },
  {
   "cell_type": "code",
   "execution_count": 76,
   "id": "6692b5c9",
   "metadata": {},
   "outputs": [],
   "source": [
    "y_pred_proba = model_cnn_5.predict(X_test)"
   ]
  },
  {
   "cell_type": "code",
   "execution_count": 77,
   "id": "765e73e8",
   "metadata": {},
   "outputs": [],
   "source": [
    "def get_classes(y_pred_proba: np.array, le:LabelEncoder) -> np.array:\n",
    "    y_pred_class_num = np.rint(y_pred_proba).astype(int)\n",
    "    y_pred_class_text = le.inverse_transform(y_pred_class_num.ravel())\n",
    "    return y_pred_class_text"
   ]
  },
  {
   "cell_type": "code",
   "execution_count": 78,
   "id": "165c57ff",
   "metadata": {},
   "outputs": [],
   "source": [
    "y_pred = get_classes(y_pred_proba, le)"
   ]
  },
  {
   "cell_type": "code",
   "execution_count": 81,
   "id": "e11adbf1",
   "metadata": {},
   "outputs": [],
   "source": [
    "# create dataframe metrics\n",
    "df_metrics = pd.DataFrame(precision_recall_fscore_support(y_test, y_pred), columns = [\"H\", \"S\"], \n",
    "         index=[\"Precion\", \"Recall\", \"F1\", \"Support\"])\n",
    "# add average column    \n",
    "df_metrics[\"average_macro\"] = precision_recall_fscore_support(y_test, y_pred, average = \"macro\")\n",
    "df_metrics = df_metrics.replace(np.nan, -999)\n",
    "sr_metrics = df_metrics.stack(dropna=False)\n",
    "\n",
    "df_confusion_matrix = pd.DataFrame(confusion_matrix(y_test, y_pred), columns = [\"cm_H\", \"cm_S\"], index = [\"cm_H\", \"cm_S\"])\n",
    "sr_confusion_matrix = df_confusion_matrix.stack()\n",
    "sr_metrics = pd.concat([sr_metrics, sr_confusion_matrix])"
   ]
  },
  {
   "cell_type": "code",
   "execution_count": 82,
   "id": "aa6c7b4d",
   "metadata": {},
   "outputs": [
    {
     "data": {
      "text/html": [
       "<div>\n",
       "<style scoped>\n",
       "    .dataframe tbody tr th:only-of-type {\n",
       "        vertical-align: middle;\n",
       "    }\n",
       "\n",
       "    .dataframe tbody tr th {\n",
       "        vertical-align: top;\n",
       "    }\n",
       "\n",
       "    .dataframe thead th {\n",
       "        text-align: right;\n",
       "    }\n",
       "</style>\n",
       "<table border=\"1\" class=\"dataframe\">\n",
       "  <thead>\n",
       "    <tr style=\"text-align: right;\">\n",
       "      <th></th>\n",
       "      <th>H</th>\n",
       "      <th>S</th>\n",
       "      <th>average_macro</th>\n",
       "    </tr>\n",
       "  </thead>\n",
       "  <tbody>\n",
       "    <tr>\n",
       "      <th>Precion</th>\n",
       "      <td>0.925946</td>\n",
       "      <td>0.876590</td>\n",
       "      <td>0.901268</td>\n",
       "    </tr>\n",
       "    <tr>\n",
       "      <th>Recall</th>\n",
       "      <td>0.869000</td>\n",
       "      <td>0.930500</td>\n",
       "      <td>0.899750</td>\n",
       "    </tr>\n",
       "    <tr>\n",
       "      <th>F1</th>\n",
       "      <td>0.896570</td>\n",
       "      <td>0.902741</td>\n",
       "      <td>0.899655</td>\n",
       "    </tr>\n",
       "    <tr>\n",
       "      <th>Support</th>\n",
       "      <td>2000.000000</td>\n",
       "      <td>2000.000000</td>\n",
       "      <td>-999.000000</td>\n",
       "    </tr>\n",
       "  </tbody>\n",
       "</table>\n",
       "</div>"
      ],
      "text/plain": [
       "                   H            S  average_macro\n",
       "Precion     0.925946     0.876590       0.901268\n",
       "Recall      0.869000     0.930500       0.899750\n",
       "F1          0.896570     0.902741       0.899655\n",
       "Support  2000.000000  2000.000000    -999.000000"
      ]
     },
     "execution_count": 82,
     "metadata": {},
     "output_type": "execute_result"
    }
   ],
   "source": [
    "df_metrics"
   ]
  },
  {
   "cell_type": "code",
   "execution_count": 83,
   "id": "db0563d0",
   "metadata": {},
   "outputs": [
    {
     "data": {
      "text/html": [
       "<div>\n",
       "<style scoped>\n",
       "    .dataframe tbody tr th:only-of-type {\n",
       "        vertical-align: middle;\n",
       "    }\n",
       "\n",
       "    .dataframe tbody tr th {\n",
       "        vertical-align: top;\n",
       "    }\n",
       "\n",
       "    .dataframe thead th {\n",
       "        text-align: right;\n",
       "    }\n",
       "</style>\n",
       "<table border=\"1\" class=\"dataframe\">\n",
       "  <thead>\n",
       "    <tr style=\"text-align: right;\">\n",
       "      <th></th>\n",
       "      <th>cm_H</th>\n",
       "      <th>cm_S</th>\n",
       "    </tr>\n",
       "  </thead>\n",
       "  <tbody>\n",
       "    <tr>\n",
       "      <th>cm_H</th>\n",
       "      <td>1738</td>\n",
       "      <td>262</td>\n",
       "    </tr>\n",
       "    <tr>\n",
       "      <th>cm_S</th>\n",
       "      <td>139</td>\n",
       "      <td>1861</td>\n",
       "    </tr>\n",
       "  </tbody>\n",
       "</table>\n",
       "</div>"
      ],
      "text/plain": [
       "      cm_H  cm_S\n",
       "cm_H  1738   262\n",
       "cm_S   139  1861"
      ]
     },
     "execution_count": 83,
     "metadata": {},
     "output_type": "execute_result"
    }
   ],
   "source": [
    "df_confusion_matrix"
   ]
  },
  {
   "cell_type": "markdown",
   "id": "d4581a52",
   "metadata": {},
   "source": [
    "# TODO"
   ]
  },
  {
   "cell_type": "markdown",
   "id": "4c0a420c",
   "metadata": {},
   "source": [
    "* Mettre des dropOut\n",
    "* faire équivalent de predict_classes() qui n'existe plus dans tf nouvelle version.:\n",
    "*   On pourra utiliser la proba retournée par model.predict, if >0.50 classe 1\n",
    "* evaluer avec X_test et matrice de confusion\n",
    "* reprendre les lignes de suivi des metriques avec MLFlow comme on a fait pour RandomForest\n",
    "* sauvegarder model_cnn + X_train etc.. et push dans gdrive"
   ]
  },
  {
   "cell_type": "code",
   "execution_count": null,
   "id": "17c0c8e5",
   "metadata": {},
   "outputs": [],
   "source": []
  },
  {
   "cell_type": "code",
   "execution_count": 42,
   "id": "9c4a91d7",
   "metadata": {},
   "outputs": [],
   "source": [
    "# # matrice de confusion\n",
    "# from sklearn import metrics\n",
    "# metrics.confusion_matrix(y_test_enc, y_pred, normalize=\"true\")"
   ]
  },
  {
   "cell_type": "code",
   "execution_count": null,
   "id": "db086916",
   "metadata": {},
   "outputs": [],
   "source": []
  },
  {
   "cell_type": "code",
   "execution_count": 44,
   "id": "65267787",
   "metadata": {},
   "outputs": [],
   "source": [
    "#Augmenter Batch Size = int(len(X_Tain) * %) + 1\n",
    "#Reduire le learning rate"
   ]
  },
  {
   "cell_type": "code",
   "execution_count": 45,
   "id": "9f6956d6",
   "metadata": {},
   "outputs": [],
   "source": [
    "#model_cnn_4.save(PATH_MODEL + \"/model_cnn_4.h5\")"
   ]
  },
  {
   "cell_type": "markdown",
   "id": "b98a41c7",
   "metadata": {},
   "source": [
    "Keras avec GPU AMD\n",
    "https://medium.com/@Vatsal410/keras-without-nvidia-gpus-with-plaidml-and-amd-gpu-4ba6f60025ce"
   ]
  }
 ],
 "metadata": {
  "kernelspec": {
   "display_name": "Python 3 (ipykernel)",
   "language": "python",
   "name": "python3"
  },
  "language_info": {
   "codemirror_mode": {
    "name": "ipython",
    "version": 3
   },
   "file_extension": ".py",
   "mimetype": "text/x-python",
   "name": "python",
   "nbconvert_exporter": "python",
   "pygments_lexer": "ipython3",
   "version": "3.8.5"
  },
  "toc": {
   "base_numbering": 1,
   "nav_menu": {},
   "number_sections": true,
   "sideBar": true,
   "skip_h1_title": false,
   "title_cell": "Table of Contents",
   "title_sidebar": "Contents",
   "toc_cell": false,
   "toc_position": {
    "height": "calc(100% - 180px)",
    "left": "10px",
    "top": "150px",
    "width": "349.091px"
   },
   "toc_section_display": true,
   "toc_window_display": true
  }
 },
 "nbformat": 4,
 "nbformat_minor": 5
}
