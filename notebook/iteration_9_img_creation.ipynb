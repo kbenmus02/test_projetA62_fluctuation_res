{
 "cells": [
  {
   "cell_type": "markdown",
   "metadata": {},
   "source": [
    "# Crée des images à partir des images existantes"
   ]
  },
  {
   "cell_type": "code",
   "execution_count": 1,
   "metadata": {},
   "outputs": [],
   "source": [
    "# !pip install import-ipynb"
   ]
  },
  {
   "cell_type": "code",
   "execution_count": 2,
   "metadata": {},
   "outputs": [],
   "source": [
    "import import_ipynb"
   ]
  },
  {
   "cell_type": "code",
   "execution_count": 3,
   "metadata": {},
   "outputs": [],
   "source": [
    "%run iteration_0_imports.py"
   ]
  },
  {
   "cell_type": "code",
   "execution_count": 4,
   "metadata": {},
   "outputs": [],
   "source": [
    "%run iteration_0_parameters.py"
   ]
  },
  {
   "cell_type": "code",
   "execution_count": 5,
   "metadata": {},
   "outputs": [
    {
     "name": "stdout",
     "output_type": "stream",
     "text": [
      "importing Jupyter notebook from iteration_0_utils.ipynb\n"
     ]
    }
   ],
   "source": [
    "import iteration_0_utils as utils"
   ]
  },
  {
   "cell_type": "code",
   "execution_count": 6,
   "metadata": {},
   "outputs": [
    {
     "name": "stdout",
     "output_type": "stream",
     "text": [
      "Variable                          Type        Data/Info\n",
      "-------------------------------------------------------\n",
      "HEALTHY                           str         H\n",
      "IMG_IN_COLOR                      int         1\n",
      "IMG_SIZE                          int         64\n",
      "Image                             module      <module 'PIL.Image' from <...>packages\\\\PIL\\\\Image.py'>\n",
      "NBR_SAMPLE                        int         20000\n",
      "PATH_DATA                         str         ../data\n",
      "PATH_DATA_EDA                     str         ../data/eda\n",
      "PATH_DATA_LIST                    str         ../data/list\n",
      "PATH_DATA_SAMPLE                  str         ../data/sample\n",
      "PATH_MODEL                        str         ../model\n",
      "PATH_ROOT                         str         ..\n",
      "PATH_SOURCE_IMG                   str         ../cell_images\n",
      "RandomForestClassifier            ABCMeta     <class 'sklearn.ensemble.<...>.RandomForestClassifier'>\n",
      "SICK                              str         S\n",
      "classification_report             function    <function classification_<...>rt at 0x000001FCF22DF5E0>\n",
      "confusion_matrix                  function    <function confusion_matrix at 0x000001FCF22D6670>\n",
      "cv2                               module      <module 'cv2' from 'c:\\\\u<...>kages\\\\cv2\\\\__init__.py'>\n",
      "datetime                          type        <class 'datetime.datetime'>\n",
      "f1_score                          function    <function f1_score at 0x000001FCF22D6D30>\n",
      "gc                                module      <module 'gc' (built-in)>\n",
      "glob                              module      <module 'glob' from 'c:\\\\<...>\\python38\\\\lib\\\\glob.py'>\n",
      "gzip                              module      <module 'gzip' from 'c:\\\\<...>\\python38\\\\lib\\\\gzip.py'>\n",
      "import_ipynb                      module      <module 'import_ipynb' fr<...>ckages\\\\import_ipynb.py'>\n",
      "learning_curve                    function    <function learning_curve at 0x000001FCF24BB430>\n",
      "mlflow                            module      <module 'mlflow' from 'c:<...>es\\\\mlflow\\\\__init__.py'>\n",
      "np                                module      <module 'numpy' from 'c:\\<...>ges\\\\numpy\\\\__init__.py'>\n",
      "os                                module      <module 'os' from 'c:\\\\us<...>n\\\\python38\\\\lib\\\\os.py'>\n",
      "pd                                module      <module 'pandas' from 'c:<...>es\\\\pandas\\\\__init__.py'>\n",
      "pickle                            module      <module 'pickle' from 'c:<...>ython38\\\\lib\\\\pickle.py'>\n",
      "plt                               module      <module 'matplotlib.pyplo<...>\\\\matplotlib\\\\pyplot.py'>\n",
      "precision_recall_fscore_support   function    <function precision_recal<...>rt at 0x000001FCF22DF160>\n",
      "random                            module      <module 'random' from 'c:<...>ython38\\\\lib\\\\random.py'>\n",
      "sns                               module      <module 'seaborn' from 'c<...>s\\\\seaborn\\\\__init__.py'>\n",
      "sp                                module      <module 'scipy.sparse' fr<...>py\\\\sparse\\\\__init__.py'>\n",
      "tqdm                              type        <class 'tqdm.std.tqdm'>\n",
      "train_test_split                  function    <function train_test_split at 0x000001FCF24B04C0>\n",
      "utils                             module      <module 'iteration_0_util<...> at 0x000001FCF9662C10>)>\n"
     ]
    }
   ],
   "source": [
    "%whos"
   ]
  },
  {
   "cell_type": "code",
   "execution_count": 7,
   "metadata": {},
   "outputs": [],
   "source": [
    "df_path_img_sick = pd.read_csv(PATH_DATA_LIST + \"/\" + \"df_list_path_sick_img.csv\")\n",
    "df_path_img_healthy = pd.read_csv(PATH_DATA_LIST + \"/\" + \"df_list_path_healthy_img.csv\")\n",
    "df_path_img = pd.read_csv(PATH_DATA_LIST + \"/\" + \"df_list_path_img.csv\")"
   ]
  },
  {
   "cell_type": "code",
   "execution_count": 8,
   "metadata": {},
   "outputs": [],
   "source": [
    "pd.set_option(\"display.max_columns\", None)\n",
    "pd.set_option(\"display.width\", None)\n",
    "pd.set_option(\"display.max_colwidth\", None)"
   ]
  },
  {
   "cell_type": "code",
   "execution_count": 9,
   "metadata": {},
   "outputs": [
    {
     "data": {
      "text/html": [
       "<div>\n",
       "<style scoped>\n",
       "    .dataframe tbody tr th:only-of-type {\n",
       "        vertical-align: middle;\n",
       "    }\n",
       "\n",
       "    .dataframe tbody tr th {\n",
       "        vertical-align: top;\n",
       "    }\n",
       "\n",
       "    .dataframe thead th {\n",
       "        text-align: right;\n",
       "    }\n",
       "</style>\n",
       "<table border=\"1\" class=\"dataframe\">\n",
       "  <thead>\n",
       "    <tr style=\"text-align: right;\">\n",
       "      <th></th>\n",
       "      <th>path_img</th>\n",
       "    </tr>\n",
       "  </thead>\n",
       "  <tbody>\n",
       "    <tr>\n",
       "      <th>0</th>\n",
       "      <td>../cell_images/Parasitized\\C100P61ThinF_IMG_20150918_144104_cell_162.png</td>\n",
       "    </tr>\n",
       "    <tr>\n",
       "      <th>1</th>\n",
       "      <td>../cell_images/Parasitized\\C100P61ThinF_IMG_20150918_144104_cell_163.png</td>\n",
       "    </tr>\n",
       "    <tr>\n",
       "      <th>2</th>\n",
       "      <td>../cell_images/Parasitized\\C100P61ThinF_IMG_20150918_144104_cell_164.png</td>\n",
       "    </tr>\n",
       "    <tr>\n",
       "      <th>3</th>\n",
       "      <td>../cell_images/Parasitized\\C100P61ThinF_IMG_20150918_144104_cell_165.png</td>\n",
       "    </tr>\n",
       "    <tr>\n",
       "      <th>4</th>\n",
       "      <td>../cell_images/Parasitized\\C100P61ThinF_IMG_20150918_144104_cell_166.png</td>\n",
       "    </tr>\n",
       "  </tbody>\n",
       "</table>\n",
       "</div>"
      ],
      "text/plain": [
       "                                                                   path_img\n",
       "0  ../cell_images/Parasitized\\C100P61ThinF_IMG_20150918_144104_cell_162.png\n",
       "1  ../cell_images/Parasitized\\C100P61ThinF_IMG_20150918_144104_cell_163.png\n",
       "2  ../cell_images/Parasitized\\C100P61ThinF_IMG_20150918_144104_cell_164.png\n",
       "3  ../cell_images/Parasitized\\C100P61ThinF_IMG_20150918_144104_cell_165.png\n",
       "4  ../cell_images/Parasitized\\C100P61ThinF_IMG_20150918_144104_cell_166.png"
      ]
     },
     "execution_count": 9,
     "metadata": {},
     "output_type": "execute_result"
    }
   ],
   "source": [
    "df_path_img_sick.head()"
   ]
  },
  {
   "cell_type": "code",
   "execution_count": 11,
   "metadata": {},
   "outputs": [],
   "source": [
    "NBR_SAMPLE = 10"
   ]
  },
  {
   "cell_type": "markdown",
   "metadata": {},
   "source": [
    "Flip de l'image : https://note.nkmk.me/en/python-opencv-numpy-rotate-flip/"
   ]
  },
  {
   "cell_type": "code",
   "execution_count": 12,
   "metadata": {},
   "outputs": [],
   "source": [
    "FLIP_UP_DOWN = 0\n",
    "FLIP_LEFT_RIGHT = 1\n",
    "FLIP_DIAGONAL = -1\n",
    "# cv2.flip(img_arr, FLIP_UP_DOWN)"
   ]
  },
  {
   "cell_type": "markdown",
   "metadata": {},
   "source": [
    "Suppression du padding autours de limage : https://codereview.stackexchange.com/questions/132914/crop-black-border-of-image-using-numpy"
   ]
  },
  {
   "cell_type": "code",
   "execution_count": 13,
   "metadata": {},
   "outputs": [],
   "source": [
    "def crop_img(img_arr: np.array) -> np.array:\n",
    "    \"\"\"\n",
    "    Supprime le padding autours de l'image pour une dimension minimale\n",
    "    \"\"\"\n",
    "    \n",
    "    img_arr_sum = img_arr.sum(axis=2) #Traite les 3 couleurs comme une seule.\n",
    "    # Mask of non-black pixels (assuming image has a single channel).\n",
    "    mask = img_arr_sum > 0\n",
    "\n",
    "    # Coordinates of non-black pixels.\n",
    "    coords = np.argwhere(mask)\n",
    "\n",
    "    # Bounding box of non-black pixels.\n",
    "    x0, y0 = coords.min(axis=0)\n",
    "    x1, y1 = coords.max(axis=0) + 1   # slices are exclusive at the top\n",
    "    \n",
    "    # Get the contents of the bounding box.\n",
    "    img_arr_cropped = img_arr[x0:x1, y0:y1]\n",
    "    return img_arr_cropped"
   ]
  },
  {
   "cell_type": "markdown",
   "metadata": {},
   "source": [
    "Rotation de l'image : https://stackoverflow.com/questions/43892506/opencv-python-rotate-image-without-cropping-sides"
   ]
  },
  {
   "cell_type": "code",
   "execution_count": 14,
   "metadata": {},
   "outputs": [],
   "source": [
    "def rotate_image(img_arr: np.array, angle: float) -> np.array:\n",
    "    \"\"\"\n",
    "    Rotates an image (angle in degrees) and expands image to avoid cropping\n",
    "    \"\"\"\n",
    "\n",
    "    height, width = img_arr.shape[:2] # image shape has 3 dimensions\n",
    "    image_center = (width/2, height/2) # getRotationMatrix2D needs coordinates in reverse order (width, height) compared to shape\n",
    "\n",
    "    rotation_img_arr = cv2.getRotationMatrix2D(image_center, -angle, 1.)\n",
    "\n",
    "    # rotation calculates the cos and sin, taking absolutes of those.\n",
    "    abs_cos = abs(rotation_img_arr[0,0]) \n",
    "    abs_sin = abs(rotation_img_arr[0,1])\n",
    "\n",
    "    # find the new width and height bounds\n",
    "    bound_w = int(height * abs_sin + width * abs_cos)\n",
    "    bound_h = int(height * abs_cos + width * abs_sin)\n",
    "\n",
    "    # subtract old image center (bringing image back to origo) and adding the new image center coordinates\n",
    "    rotation_img_arr[0, 2] += bound_w/2 - image_center[0]\n",
    "    rotation_img_arr[1, 2] += bound_h/2 - image_center[1]\n",
    "\n",
    "    # rotate image with the new bounds and translated rotation matrix\n",
    "    rotated_img_arr = cv2.warpAffine(img_arr, rotation_img_arr, (bound_w, bound_h))\n",
    "    return rotated_img_arr"
   ]
  },
  {
   "cell_type": "markdown",
   "metadata": {},
   "source": [
    "Stratégie de création d'image\n",
    " * Décider si on fait tourner l'image ou si on la flip\n",
    " * Si on la fait tourner, décider combien de rotation et de l'angle de chacune de ces rotations.\n",
    " * Si on la flip, décider quel flip appliquer."
   ]
  },
  {
   "cell_type": "code",
   "execution_count": 15,
   "metadata": {},
   "outputs": [],
   "source": [
    "from numpy.random import default_rng"
   ]
  },
  {
   "cell_type": "code",
   "execution_count": 34,
   "metadata": {},
   "outputs": [],
   "source": [
    "def create_random_img_old(path_img: str, result_root_path: str = PATH_SOURCE_IMG):\n",
    "    \"\"\"\n",
    "    Créer des images dans le répertoire résultat\n",
    "    \"\"\"\n",
    "    file_path, file_name, file_extention = utils.split_file_info(path_img)\n",
    "    img_arr = cv2.imread(path_img, flags = IMG_IN_COLOR)\n",
    "    file_class = file_path.split(\"/\")[-1]\n",
    "    \n",
    "    #print(file_class)\n",
    "    \n",
    "    PROCESS_FLIP = 0\n",
    "    PROCESS_ROTATION = 1\n",
    "    \n",
    "    process_choice = np.random.randint(0, 2)\n",
    "    \n",
    "    if process_choice == PROCESS_FLIP:\n",
    "        #print(\"flip\")\n",
    "        #Flip\n",
    "        flip_choice = np.random.choice([FLIP_UP_DOWN, FLIP_LEFT_RIGHT, FLIP_DIAGONAL])\n",
    "        img_flipped = cv2.flip(img_arr, flip_choice)\n",
    "        \n",
    "        img_result_file_info = result_root_path + \"/Generated_\" + file_class + \"/\" + \\\n",
    "                               file_name + \"_flip_\" + str(flip_choice) + \".\" + file_extention\n",
    "        #print(img_result_file_info)\n",
    "        \n",
    "        cv2.imwrite(img_result_file_info, img_flipped)\n",
    "        \n",
    "    elif process_choice == PROCESS_ROTATION:\n",
    "        #print(\"rot\")\n",
    "        #Rotation\n",
    "        rotation_number = np.random.randint(1, 10 + 1)\n",
    "        rng = default_rng()\n",
    "        angle_list = rng.choice(359, size=rotation_number, replace=False) + 1 #Angles entre 1 et 359\n",
    "        \n",
    "        for angle in angle_list:\n",
    "            #print(angle)\n",
    "            img_arr_rotated = rotate_image(img_arr, angle)\n",
    "            img_arr_rotated = crop_img(img_arr_rotated)\n",
    "            img_result_file_info = result_root_path + \"/Generated_\" + file_class + \"/\" + \\\n",
    "                                   file_name + \"_rot_\" + str(angle) + \".\" + file_extention\n",
    "            #print(img_result_file_info)\n",
    "            \n",
    "            cv2.imwrite(img_result_file_info, img_arr_rotated)\n",
    "            \n",
    "    else:\n",
    "        assert False\n",
    "    "
   ]
  },
  {
   "cell_type": "code",
   "execution_count": 59,
   "metadata": {},
   "outputs": [],
   "source": [
    "def ramdom_img_creation_policy():\n",
    "    process_choice = np.random.randint(0, 2)\n",
    "    \n",
    "    flip_choice = np.random.choice([FLIP_UP_DOWN, FLIP_LEFT_RIGHT, FLIP_DIAGONAL])\n",
    "    \n",
    "    rotation_number = np.random.randint(1, 10 + 1)\n",
    "    rng = default_rng()\n",
    "    angle_list = rng.choice(359, size=rotation_number, replace=False) + 1 #Angles entre 1 et 359\n",
    "    \n",
    "    return process_choice, flip_choice, angle_list"
   ]
  },
  {
   "cell_type": "code",
   "execution_count": 60,
   "metadata": {},
   "outputs": [],
   "source": [
    "def create_random_img(path_img: str, result_root_path: str, \\\n",
    "                      process_choice: int, \\\n",
    "                      flip_choice: int, \\\n",
    "                      angle_list: np.array):\n",
    "    \"\"\"\n",
    "    Créer des images dans le répertoire résultat\n",
    "    \"\"\"\n",
    "    file_path, file_name, file_extention = utils.split_file_info(path_img)\n",
    "    img_arr = cv2.imread(path_img, flags = IMG_IN_COLOR)\n",
    "    file_class = file_path.split(\"/\")[-1]\n",
    "    \n",
    "    #print(file_class)\n",
    "    \n",
    "    PROCESS_FLIP = 0\n",
    "    PROCESS_ROTATION = 1\n",
    "    \n",
    "    if process_choice == PROCESS_FLIP:\n",
    "        #print(\"flip\")\n",
    "        #Flip\n",
    "        img_flipped = cv2.flip(img_arr, flip_choice)\n",
    "        \n",
    "        img_result_file_info = result_root_path + \"/Generated_\" + file_class + \"/\" + \\\n",
    "                               file_name + \"_flip_\" + str(flip_choice) + \".\" + file_extention\n",
    "        #print(img_result_file_info)\n",
    "        \n",
    "        cv2.imwrite(img_result_file_info, img_flipped)\n",
    "        \n",
    "    elif process_choice == PROCESS_ROTATION:\n",
    "        #print(\"rot\")\n",
    "        #Rotation\n",
    "        for angle in angle_list:\n",
    "            #print(angle)\n",
    "            img_arr_rotated = rotate_image(img_arr, angle)\n",
    "            img_arr_rotated = crop_img(img_arr_rotated)\n",
    "            img_result_file_info = result_root_path + \"/Generated_\" + file_class + \"/\" + \\\n",
    "                                   file_name + \"_rot_\" + str(angle) + \".\" + file_extention\n",
    "            #print(img_result_file_info)\n",
    "            \n",
    "            cv2.imwrite(img_result_file_info, img_arr_rotated)\n",
    "            \n",
    "    else:\n",
    "        assert False\n",
    "\n",
    "        "
   ]
  },
  {
   "cell_type": "code",
   "execution_count": 63,
   "metadata": {},
   "outputs": [
    {
     "name": "stderr",
     "output_type": "stream",
     "text": [
      "1000it [01:06, 14.96it/s]\n"
     ]
    }
   ],
   "source": [
    "NBR_GENERATED = 1000\n",
    "\n",
    "for img_sick_path, img_healty_path in tqdm(zip(df_path_img_sick.sample(NBR_GENERATED).path_img, \\\n",
    "                                          df_path_img_healthy.sample(NBR_GENERATED).path_img)):\n",
    "    process_choice, flip_choice, angle_list = ramdom_img_creation_policy()\n",
    "    \n",
    "    create_random_img(img_sick_path, PATH_SOURCE_IMG, \\\n",
    "                      process_choice, flip_choice, angle_list)\n",
    "    \n",
    "    create_random_img(img_healty_path, PATH_SOURCE_IMG, \\\n",
    "                  process_choice, flip_choice, angle_list)"
   ]
  },
  {
   "cell_type": "code",
   "execution_count": null,
   "metadata": {},
   "outputs": [],
   "source": []
  }
 ],
 "metadata": {
  "kernelspec": {
   "display_name": "Python 3 (ipykernel)",
   "language": "python",
   "name": "python3"
  },
  "language_info": {
   "codemirror_mode": {
    "name": "ipython",
    "version": 3
   },
   "file_extension": ".py",
   "mimetype": "text/x-python",
   "name": "python",
   "nbconvert_exporter": "python",
   "pygments_lexer": "ipython3",
   "version": "3.8.5"
  }
 },
 "nbformat": 4,
 "nbformat_minor": 4
}
