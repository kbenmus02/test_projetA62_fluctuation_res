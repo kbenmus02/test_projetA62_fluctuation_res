{
 "cells": [
  {
   "cell_type": "code",
   "execution_count": 1,
   "id": "ad865c85",
   "metadata": {},
   "outputs": [],
   "source": [
    "import import_ipynb"
   ]
  },
  {
   "cell_type": "code",
   "execution_count": 2,
   "id": "5a2ac324",
   "metadata": {},
   "outputs": [],
   "source": [
    "%run iteration_0_imports.py"
   ]
  },
  {
   "cell_type": "code",
   "execution_count": 3,
   "id": "e8567f07",
   "metadata": {},
   "outputs": [],
   "source": [
    "%run iteration_0_parameters.py"
   ]
  },
  {
   "cell_type": "code",
   "execution_count": 4,
   "id": "fcbd8b98",
   "metadata": {},
   "outputs": [
    {
     "name": "stdout",
     "output_type": "stream",
     "text": [
      "importing Jupyter notebook from iteration_0_utils.ipynb\n"
     ]
    }
   ],
   "source": [
    "import iteration_0_utils as utils"
   ]
  },
  {
   "cell_type": "code",
   "execution_count": 5,
   "id": "a411afe7",
   "metadata": {},
   "outputs": [
    {
     "name": "stdout",
     "output_type": "stream",
     "text": [
      "Variable                          Type        Data/Info\n",
      "-------------------------------------------------------\n",
      "HEALTHY                           str         H\n",
      "IMG_IN_COLOR                      int         1\n",
      "IMG_SIZE                          int         64\n",
      "Image                             module      <module 'PIL.Image' from <...>packages\\\\PIL\\\\Image.py'>\n",
      "NBR_SAMPLE                        int         20000\n",
      "PATH_DATA                         str         ../data\n",
      "PATH_DATA_EDA                     str         ../data/eda\n",
      "PATH_DATA_LIST                    str         ../data/list\n",
      "PATH_DATA_SAMPLE                  str         ../data/sample\n",
      "PATH_MODEL                        str         ../model\n",
      "PATH_ROOT                         str         ..\n",
      "PATH_SOURCE_IMG                   str         ../cell_images\n",
      "RandomForestClassifier            ABCMeta     <class 'sklearn.ensemble.<...>.RandomForestClassifier'>\n",
      "SICK                              str         S\n",
      "classification_report             function    <function classification_<...>rt at 0x0000017B9FE53040>\n",
      "confusion_matrix                  function    <function confusion_matrix at 0x0000017B9FE4C0D0>\n",
      "cv2                               module      <module 'cv2' from 'C:\\\\U<...>kages\\\\cv2\\\\__init__.py'>\n",
      "datetime                          type        <class 'datetime.datetime'>\n",
      "f1_score                          function    <function f1_score at 0x0000017B9FE4C790>\n",
      "gc                                module      <module 'gc' (built-in)>\n",
      "glob                              module      <module 'glob' from 'C:\\\\<...>anaconda3\\\\lib\\\\glob.py'>\n",
      "gzip                              module      <module 'gzip' from 'C:\\\\<...>anaconda3\\\\lib\\\\gzip.py'>\n",
      "import_ipynb                      module      <module 'import_ipynb' fr<...>ckages\\\\import_ipynb.py'>\n",
      "learning_curve                    function    <function learning_curve at 0x0000017BA0022160>\n",
      "mlflow                            module      <module 'mlflow' from 'C:<...>es\\\\mlflow\\\\__init__.py'>\n",
      "np                                module      <module 'numpy' from 'C:\\<...>ges\\\\numpy\\\\__init__.py'>\n",
      "os                                module      <module 'os' from 'C:\\\\Us<...>\\\\anaconda3\\\\lib\\\\os.py'>\n",
      "pd                                module      <module 'pandas' from 'C:<...>es\\\\pandas\\\\__init__.py'>\n",
      "pickle                            module      <module 'pickle' from 'C:<...>aconda3\\\\lib\\\\pickle.py'>\n",
      "plt                               module      <module 'matplotlib.pyplo<...>\\\\matplotlib\\\\pyplot.py'>\n",
      "precision_recall_fscore_support   function    <function precision_recal<...>rt at 0x0000017B9FE4CB80>\n",
      "random                            module      <module 'random' from 'C:<...>aconda3\\\\lib\\\\random.py'>\n",
      "sns                               module      <module 'seaborn' from 'C<...>s\\\\seaborn\\\\__init__.py'>\n",
      "sp                                module      <module 'scipy.sparse' fr<...>py\\\\sparse\\\\__init__.py'>\n",
      "tqdm                              type        <class 'tqdm.std.tqdm'>\n",
      "train_test_split                  function    <function train_test_split at 0x0000017BA001B1F0>\n",
      "utils                             module      <module 'iteration_0_util<...> at 0x0000017B9D256B80>)>\n"
     ]
    }
   ],
   "source": [
    "%whos"
   ]
  },
  {
   "cell_type": "markdown",
   "id": "01fa02d1",
   "metadata": {},
   "source": [
    "# Load X, y"
   ]
  },
  {
   "cell_type": "code",
   "execution_count": null,
   "id": "foreign-demand",
   "metadata": {},
   "outputs": [],
   "source": [
    "import numpy as np\n",
    "import pandas as pd\n",
    "import mlflow\n",
    "import matplotlib.pyplot as plt"
   ]
  },
  {
   "cell_type": "code",
   "execution_count": 6,
   "id": "98fd2f38",
   "metadata": {},
   "outputs": [],
   "source": [
    "X_train = utils.pickle_read(PATH_MODEL + \"/\" + f\"X_train.pklz\")\n",
    "X_valid = utils.pickle_read(PATH_MODEL + \"/\" + f\"X_valid.pklz\")\n",
    "X_test  = utils.pickle_read(PATH_MODEL + \"/\" + f\"X_test.pklz\")\n",
    "\n",
    "y_train = utils.pickle_read(PATH_MODEL + \"/\" + f\"y_train.pklz\")\n",
    "y_valid = utils.pickle_read(PATH_MODEL + \"/\" + f\"y_valid.pklz\")\n",
    "y_test  = utils.pickle_read(PATH_MODEL + \"/\" + f\"y_test.pklz\")"
   ]
  },
  {
   "cell_type": "code",
   "execution_count": 7,
   "id": "offensive-mention",
   "metadata": {},
   "outputs": [
    {
     "name": "stdout",
     "output_type": "stream",
     "text": [
      "(array(['H', 'S'], dtype='<U1'), array([6400, 6400], dtype=int64))\n",
      "(array(['H', 'S'], dtype='<U1'), array([1600, 1600], dtype=int64))\n",
      "(array(['H', 'S'], dtype='<U1'), array([2000, 2000], dtype=int64))\n"
     ]
    }
   ],
   "source": [
    "# verification\n",
    "print(np.unique(y_train, return_counts=True))\n",
    "print(np.unique(y_valid, return_counts=True))\n",
    "print(np.unique(y_test,  return_counts=True))"
   ]
  },
  {
   "cell_type": "code",
   "execution_count": 8,
   "id": "beeda530",
   "metadata": {},
   "outputs": [
    {
     "name": "stdout",
     "output_type": "stream",
     "text": [
      "(12800, 64, 64, 3)\n",
      "(3200, 64, 64, 3)\n",
      "(4000, 64, 64, 3)\n"
     ]
    }
   ],
   "source": [
    "print(X_train.shape)\n",
    "print(X_valid.shape)\n",
    "print(X_test.shape)"
   ]
  },
  {
   "cell_type": "code",
   "execution_count": 9,
   "id": "b3a41319",
   "metadata": {},
   "outputs": [],
   "source": [
    "#assert false"
   ]
  },
  {
   "cell_type": "markdown",
   "id": "7a92fdbe",
   "metadata": {},
   "source": [
    "# model_cnn"
   ]
  },
  {
   "cell_type": "code",
   "execution_count": 10,
   "id": "54860013",
   "metadata": {},
   "outputs": [],
   "source": [
    "BATCH_SIZE = 500\n",
    "#percentage = 0.10\n",
    "#BATCH_SIZE = int(len(X_train) * percentage)\n",
    "\n",
    "NUM_CLASSES = 2\n",
    "EPOCHS = 25\n",
    "INPUT_SHAPE = (IMG_SIZE, IMG_SIZE, 3)"
   ]
  },
  {
   "cell_type": "code",
   "execution_count": 11,
   "id": "19b6ac0e",
   "metadata": {},
   "outputs": [],
   "source": [
    "# Encoder y\n",
    "from sklearn.preprocessing import LabelEncoder"
   ]
  },
  {
   "cell_type": "code",
   "execution_count": 12,
   "id": "8d776d9a",
   "metadata": {},
   "outputs": [],
   "source": [
    "le = LabelEncoder()"
   ]
  },
  {
   "cell_type": "code",
   "execution_count": 13,
   "id": "c9b79033",
   "metadata": {},
   "outputs": [],
   "source": [
    "y_train_enc = le.fit_transform(y_train)"
   ]
  },
  {
   "cell_type": "code",
   "execution_count": 14,
   "id": "ec7bc157",
   "metadata": {},
   "outputs": [],
   "source": [
    "y_valid_enc = le.transform(y_valid)\n",
    "y_test_enc  = le.transform(y_test)"
   ]
  },
  {
   "cell_type": "code",
   "execution_count": 15,
   "id": "112be444",
   "metadata": {},
   "outputs": [
    {
     "data": {
      "text/plain": [
       "array(['H', 'S'], dtype='<U1')"
      ]
     },
     "execution_count": 15,
     "metadata": {},
     "output_type": "execute_result"
    }
   ],
   "source": [
    "le.classes_"
   ]
  },
  {
   "cell_type": "code",
   "execution_count": 16,
   "id": "62add767",
   "metadata": {},
   "outputs": [],
   "source": [
    "import tensorflow as tf"
   ]
  },
  {
   "cell_type": "code",
   "execution_count": 17,
   "id": "5fc97c10",
   "metadata": {},
   "outputs": [],
   "source": [
    "from keras.models import Sequential"
   ]
  },
  {
   "cell_type": "code",
   "execution_count": 18,
   "id": "4c7f239d",
   "metadata": {},
   "outputs": [],
   "source": [
    "def plot_history(history):\n",
    "    plt.figure(figsize=(16,9))\n",
    "    # plot loss\n",
    "    plt.subplot(211)\n",
    "    plt.grid()\n",
    "    plt.title('binary_crossentropy')\n",
    "    plt.plot(history.history['loss'], \"o-\", color='blue', label='train')\n",
    "    plt.plot(history.history['val_loss'], \"o-\", color='orange', label='validation')\n",
    "    plt.legend()    \n",
    "    # plot accuracy\n",
    "    plt.subplot(212)\n",
    "    plt.grid()\n",
    "    plt.title('Classification Accuracy')\n",
    "    plt.plot(history.history['accuracy'], \"o-\",color='blue', label='train')\n",
    "    plt.plot(history.history['val_accuracy'], \"o-\",color='orange', label='validation')\n",
    "    plt.legend()\n",
    "    plt.show()"
   ]
  },
  {
   "cell_type": "code",
   "execution_count": 19,
   "id": "798ad53a",
   "metadata": {},
   "outputs": [],
   "source": [
    "from tensorflow.keras.preprocessing.image import ImageDataGenerator"
   ]
  },
  {
   "cell_type": "code",
   "execution_count": 20,
   "id": "4b4bfe3a",
   "metadata": {},
   "outputs": [],
   "source": [
    "aug = ImageDataGenerator(rotation_range=359, \\\n",
    "                         zoom_range=0.15, \\\n",
    "                         width_shift_range=0.2, height_shift_range=0.2, \\\n",
    "                         shear_range=0.15, \\\n",
    "                         horizontal_flip=True, \\\n",
    "                         vertical_flip=True, \\\n",
    "                         fill_mode=\"nearest\")"
   ]
  },
  {
   "cell_type": "code",
   "execution_count": 21,
   "id": "765e73e8",
   "metadata": {},
   "outputs": [],
   "source": [
    "def get_classes(y_pred_proba: np.array, le:LabelEncoder) -> np.array:\n",
    "    y_pred_class_num = np.rint(y_pred_proba).astype(int)\n",
    "    y_pred_class_text = le.inverse_transform(y_pred_class_num.ravel())\n",
    "    return y_pred_class_text"
   ]
  },
  {
   "cell_type": "code",
   "execution_count": 22,
   "id": "e11adbf1",
   "metadata": {},
   "outputs": [],
   "source": [
    "def get_metrics(y_test: np.array, y_pred: np.array)->(pd.DataFrame, pd.DataFrame):\n",
    "    # create dataframe metrics\n",
    "    df_metrics = pd.DataFrame(precision_recall_fscore_support(y_test, y_pred), columns = [\"H\", \"S\"], \n",
    "             index=[\"Precion\", \"Recall\", \"F1\", \"Support\"])\n",
    "    # add average column    \n",
    "    df_metrics[\"average_macro\"] = precision_recall_fscore_support(y_test, y_pred, average = \"macro\")\n",
    "    df_metrics = df_metrics.replace(np.nan, -999)\n",
    "    sr_metrics = df_metrics.stack(dropna=False)\n",
    "\n",
    "    df_confusion_matrix = pd.DataFrame(confusion_matrix(y_test, y_pred), columns = [\"cm_H\", \"cm_S\"], index = [\"cm_H\", \"cm_S\"])\n",
    "    sr_confusion_matrix = df_confusion_matrix.stack()\n",
    "    sr_metrics = pd.concat([sr_metrics, sr_confusion_matrix])\n",
    "    \n",
    "    return df_metrics, df_confusion_matrix"
   ]
  },
  {
   "cell_type": "code",
   "execution_count": 44,
   "id": "false-insert",
   "metadata": {},
   "outputs": [],
   "source": [
    "def evaluate_model(model, X_test, y_test):\n",
    "    y_pred_proba = model.predict(X_test)\n",
    "    y_pred = get_classes(y_pred_proba, le)\n",
    "    df_metrics, df_confusion_matrix = get_metrics(y_test, y_pred)\n",
    "    display(df_metrics)\n",
    "    display(df_confusion_matrix)\n",
    "    return df_metrics, df_confusion_matrix"
   ]
  },
  {
   "cell_type": "markdown",
   "id": "5c143e29",
   "metadata": {},
   "source": [
    "# Drop-out sur dernière couche de pooling"
   ]
  },
  {
   "cell_type": "code",
   "execution_count": 24,
   "id": "forced-merchandise",
   "metadata": {},
   "outputs": [],
   "source": [
    "def make_model_v3(seq_num: int, drop_out_rate: float) -> Sequential:\n",
    "    model_cnn = Sequential(name=\"cnn_\" + str(seq_num) + \"_drop_out_\" + str(drop_out_rate))\n",
    "    model_cnn.add(tf.keras.layers.Input(name = \"input\", shape=INPUT_SHAPE))\n",
    "    model_cnn.add(tf.keras.layers.Conv2D(name = \"conv2D\",\n",
    "                                         filters=32,\n",
    "                                         kernel_size=(3,3),\n",
    "                                         activation=\"LeakyReLU\",\n",
    "                                         padding=\"same\",\n",
    "                                         kernel_initializer=\"he_uniform\"\n",
    "                                        ))\n",
    "    model_cnn.add(tf.keras.layers.MaxPooling2D(name=\"pooling\", pool_size=(2,2)))\n",
    "\n",
    "    model_cnn.add(tf.keras.layers.Conv2D(name = \"conv2D_2\",\n",
    "                                         filters=64,\n",
    "                                         kernel_size=(3,3),\n",
    "                                         activation=\"LeakyReLU\",\n",
    "                                         padding=\"same\",\n",
    "                                         kernel_initializer=\"he_uniform\"\n",
    "                                        ))\n",
    "    model_cnn.add(tf.keras.layers.MaxPooling2D(name=\"pooling_2\", pool_size=(2,2)))\n",
    "\n",
    "    model_cnn.add(tf.keras.layers.Conv2D(name = \"conv2D_3\",\n",
    "                                         filters=128,\n",
    "                                         kernel_size=(3,3),\n",
    "                                         activation=\"LeakyReLU\",\n",
    "                                         padding=\"same\",\n",
    "                                         kernel_initializer=\"he_uniform\"\n",
    "                                        ))\n",
    "    model_cnn.add(tf.keras.layers.MaxPooling2D(name=\"pooling_3\", pool_size=(2,2)))\n",
    "    model_cnn.add(tf.keras.layers.Dropout(rate=drop_out_rate, name=\"dropout_3\"))\n",
    "\n",
    "    model_cnn.add(tf.keras.layers.Flatten(name=\"flatten\"))\n",
    "    model_cnn.add(tf.keras.layers.Dense(name=\"dense_hidden\", units = 1024, activation=\"LeakyReLU\",\n",
    "                                        kernel_initializer=\"he_uniform\" ))\n",
    "    \n",
    "    model_cnn.add(tf.keras.layers.Dense(name=\"dense_hidden_2\", units = 128, activation=\"LeakyReLU\",\n",
    "                                        kernel_initializer=\"he_uniform\" ))\n",
    "    model_cnn.add(tf.keras.layers.Dense(name=\"ouput\", units = 1, activation=\"sigmoid\"))\n",
    "\n",
    "    # compiler modele\n",
    "    model_cnn.compile(optimizer = tf.keras.optimizers.Adam(learning_rate=1e-3),\\\n",
    "                        loss =\"binary_crossentropy\", metrics=[\"accuracy\"])\n",
    "\n",
    "    return model_cnn"
   ]
  },
  {
   "cell_type": "code",
   "execution_count": 25,
   "id": "18ca19e7",
   "metadata": {},
   "outputs": [],
   "source": [
    "model_cnn = make_model_v3(13, 0.25)"
   ]
  },
  {
   "cell_type": "code",
   "execution_count": 26,
   "id": "d8682be3",
   "metadata": {},
   "outputs": [
    {
     "name": "stdout",
     "output_type": "stream",
     "text": [
      "Model: \"cnn_13_drop_out_0.25\"\n",
      "_________________________________________________________________\n",
      "Layer (type)                 Output Shape              Param #   \n",
      "=================================================================\n",
      "conv2D (Conv2D)              (None, 64, 64, 32)        896       \n",
      "_________________________________________________________________\n",
      "pooling (MaxPooling2D)       (None, 32, 32, 32)        0         \n",
      "_________________________________________________________________\n",
      "conv2D_2 (Conv2D)            (None, 32, 32, 64)        18496     \n",
      "_________________________________________________________________\n",
      "pooling_2 (MaxPooling2D)     (None, 16, 16, 64)        0         \n",
      "_________________________________________________________________\n",
      "conv2D_3 (Conv2D)            (None, 16, 16, 128)       73856     \n",
      "_________________________________________________________________\n",
      "pooling_3 (MaxPooling2D)     (None, 8, 8, 128)         0         \n",
      "_________________________________________________________________\n",
      "dropout_3 (Dropout)          (None, 8, 8, 128)         0         \n",
      "_________________________________________________________________\n",
      "flatten (Flatten)            (None, 8192)              0         \n",
      "_________________________________________________________________\n",
      "dense_hidden (Dense)         (None, 1024)              8389632   \n",
      "_________________________________________________________________\n",
      "dense_hidden_2 (Dense)       (None, 128)               131200    \n",
      "_________________________________________________________________\n",
      "ouput (Dense)                (None, 1)                 129       \n",
      "=================================================================\n",
      "Total params: 8,614,209\n",
      "Trainable params: 8,614,209\n",
      "Non-trainable params: 0\n",
      "_________________________________________________________________\n"
     ]
    }
   ],
   "source": [
    "model_cnn.summary()"
   ]
  },
  {
   "cell_type": "code",
   "execution_count": 165,
   "id": "b18c05aa",
   "metadata": {},
   "outputs": [
    {
     "name": "stderr",
     "output_type": "stream",
     "text": [
      "2022/02/11 21:35:17 INFO mlflow.utils.autologging_utils: Created MLflow autologging run with ID '69ba4996697b4ae0821b657b96901802', which will track hyperparameters, performance metrics, model artifacts, and lineage information for the current keras workflow\n"
     ]
    },
    {
     "name": "stdout",
     "output_type": "stream",
     "text": [
      "Epoch 1/25\n",
      "25/25 [==============================] - 99s 4s/step - loss: 0.2481 - accuracy: 0.9058 - val_loss: 0.1571 - val_accuracy: 0.9469\n",
      "Epoch 2/25\n",
      "25/25 [==============================] - 99s 4s/step - loss: 0.2335 - accuracy: 0.9137 - val_loss: 0.1687 - val_accuracy: 0.9444\n",
      "Epoch 3/25\n",
      "25/25 [==============================] - 100s 4s/step - loss: 0.2316 - accuracy: 0.9137 - val_loss: 0.1489 - val_accuracy: 0.9522\n",
      "Epoch 4/25\n",
      "25/25 [==============================] - 107s 4s/step - loss: 0.2346 - accuracy: 0.9124 - val_loss: 0.1577 - val_accuracy: 0.9478\n",
      "Epoch 5/25\n",
      "25/25 [==============================] - 106s 4s/step - loss: 0.2273 - accuracy: 0.9169 - val_loss: 0.1529 - val_accuracy: 0.9497\n",
      "Epoch 6/25\n",
      "25/25 [==============================] - 110s 4s/step - loss: 0.2364 - accuracy: 0.9125 - val_loss: 0.1524 - val_accuracy: 0.9503\n",
      "Epoch 7/25\n",
      "25/25 [==============================] - 116s 5s/step - loss: 0.2267 - accuracy: 0.9167 - val_loss: 0.1525 - val_accuracy: 0.9516\n",
      "Epoch 8/25\n",
      "25/25 [==============================] - 115s 5s/step - loss: 0.2225 - accuracy: 0.9173 - val_loss: 0.1463 - val_accuracy: 0.9506\n",
      "Epoch 9/25\n",
      "25/25 [==============================] - 102s 4s/step - loss: 0.2224 - accuracy: 0.9183 - val_loss: 0.1506 - val_accuracy: 0.9513\n",
      "Epoch 10/25\n",
      "25/25 [==============================] - 120s 5s/step - loss: 0.2239 - accuracy: 0.9181 - val_loss: 0.1472 - val_accuracy: 0.9563\n",
      "Epoch 11/25\n",
      "25/25 [==============================] - 112s 4s/step - loss: 0.2256 - accuracy: 0.9156 - val_loss: 0.1414 - val_accuracy: 0.9500\n",
      "Epoch 12/25\n",
      "25/25 [==============================] - 104s 4s/step - loss: 0.2261 - accuracy: 0.9191 - val_loss: 0.1803 - val_accuracy: 0.9422\n",
      "Epoch 13/25\n",
      "25/25 [==============================] - 112s 4s/step - loss: 0.2277 - accuracy: 0.9159 - val_loss: 0.1524 - val_accuracy: 0.9509\n",
      "Epoch 14/25\n",
      "25/25 [==============================] - 113s 5s/step - loss: 0.2143 - accuracy: 0.9207 - val_loss: 0.1512 - val_accuracy: 0.9528\n",
      "Epoch 15/25\n",
      "25/25 [==============================] - 122s 5s/step - loss: 0.2305 - accuracy: 0.9165 - val_loss: 0.1427 - val_accuracy: 0.9503\n",
      "Epoch 16/25\n",
      "25/25 [==============================] - 111s 4s/step - loss: 0.2087 - accuracy: 0.9254 - val_loss: 0.1346 - val_accuracy: 0.9572\n",
      "Epoch 17/25\n",
      "25/25 [==============================] - 122s 5s/step - loss: 0.2100 - accuracy: 0.9253 - val_loss: 0.1358 - val_accuracy: 0.9572\n",
      "Epoch 18/25\n",
      "25/25 [==============================] - 112s 4s/step - loss: 0.2102 - accuracy: 0.9254 - val_loss: 0.1451 - val_accuracy: 0.9522\n",
      "Epoch 19/25\n",
      "25/25 [==============================] - 100s 4s/step - loss: 0.2060 - accuracy: 0.9271 - val_loss: 0.1320 - val_accuracy: 0.9572\n",
      "Epoch 20/25\n",
      "25/25 [==============================] - 99s 4s/step - loss: 0.2053 - accuracy: 0.9265 - val_loss: 0.1306 - val_accuracy: 0.9603\n",
      "Epoch 21/25\n",
      "25/25 [==============================] - 98s 4s/step - loss: 0.2043 - accuracy: 0.9266 - val_loss: 0.1308 - val_accuracy: 0.9591\n",
      "Epoch 22/25\n",
      "25/25 [==============================] - 112s 4s/step - loss: 0.2008 - accuracy: 0.9270 - val_loss: 0.1403 - val_accuracy: 0.9550\n",
      "Epoch 23/25\n",
      "25/25 [==============================] - 114s 5s/step - loss: 0.2038 - accuracy: 0.9244 - val_loss: 0.1390 - val_accuracy: 0.9531\n",
      "Epoch 24/25\n",
      "25/25 [==============================] - 120s 5s/step - loss: 0.1953 - accuracy: 0.9293 - val_loss: 0.1373 - val_accuracy: 0.9556\n",
      "Epoch 25/25\n",
      "25/25 [==============================] - 109s 4s/step - loss: 0.2052 - accuracy: 0.9275 - val_loss: 0.1357 - val_accuracy: 0.9575\n"
     ]
    },
    {
     "name": "stderr",
     "output_type": "stream",
     "text": [
      "WARNING:absl:Found untraced functions such as leaky_re_lu_layer_call_and_return_conditional_losses, leaky_re_lu_layer_call_fn, leaky_re_lu_1_layer_call_and_return_conditional_losses, leaky_re_lu_1_layer_call_fn, leaky_re_lu_2_layer_call_and_return_conditional_losses while saving (showing 5 of 25). These functions will not be directly callable after loading.\n"
     ]
    },
    {
     "name": "stdout",
     "output_type": "stream",
     "text": [
      "INFO:tensorflow:Assets written to: C:\\Users\\kbenmus\\AppData\\Local\\Temp\\tmprh8yrroe\\model\\data\\model\\assets\n"
     ]
    },
    {
     "name": "stderr",
     "output_type": "stream",
     "text": [
      "INFO:tensorflow:Assets written to: C:\\Users\\kbenmus\\AppData\\Local\\Temp\\tmprh8yrroe\\model\\data\\model\\assets\n"
     ]
    }
   ],
   "source": [
    "mlflow.keras.autolog()\n",
    "history = model_cnn.fit( \\\n",
    "                            aug.flow(X_train, y_train_enc, batch_size=BATCH_SIZE, subset=None), \\\n",
    "                            validation_data = (X_valid, y_valid_enc), \\\n",
    "                            steps_per_epoch = len(X_train) // BATCH_SIZE, \\\n",
    "                            epochs = EPOCHS\n",
    "                       )"
   ]
  },
  {
   "cell_type": "code",
   "execution_count": 166,
   "id": "7c67d480",
   "metadata": {},
   "outputs": [
    {
     "data": {
      "image/png": "[encoded data removed]",
      "text/plain": [
       "<Figure size 1152x648 with 2 Axes>"
      ]
     },
     "metadata": {
      "needs_background": "light"
     },
     "output_type": "display_data"
    }
   ],
   "source": [
    "plot_history(history)"
   ]
  },
  {
   "cell_type": "code",
   "execution_count": 167,
   "id": "21809160",
   "metadata": {
    "scrolled": true
   },
   "outputs": [
    {
     "data": {
      "text/html": [
       "<div>\n",
       "<style scoped>\n",
       "    .dataframe tbody tr th:only-of-type {\n",
       "        vertical-align: middle;\n",
       "    }\n",
       "\n",
       "    .dataframe tbody tr th {\n",
       "        vertical-align: top;\n",
       "    }\n",
       "\n",
       "    .dataframe thead th {\n",
       "        text-align: right;\n",
       "    }\n",
       "</style>\n",
       "<table border=\"1\" class=\"dataframe\">\n",
       "  <thead>\n",
       "    <tr style=\"text-align: right;\">\n",
       "      <th></th>\n",
       "      <th>H</th>\n",
       "      <th>S</th>\n",
       "      <th>average_macro</th>\n",
       "    </tr>\n",
       "  </thead>\n",
       "  <tbody>\n",
       "    <tr>\n",
       "      <th>Precion</th>\n",
       "      <td>0.937228</td>\n",
       "      <td>0.969414</td>\n",
       "      <td>0.953321</td>\n",
       "    </tr>\n",
       "    <tr>\n",
       "      <th>Recall</th>\n",
       "      <td>0.970500</td>\n",
       "      <td>0.935000</td>\n",
       "      <td>0.952750</td>\n",
       "    </tr>\n",
       "    <tr>\n",
       "      <th>F1</th>\n",
       "      <td>0.953574</td>\n",
       "      <td>0.951896</td>\n",
       "      <td>0.952735</td>\n",
       "    </tr>\n",
       "    <tr>\n",
       "      <th>Support</th>\n",
       "      <td>2000.000000</td>\n",
       "      <td>2000.000000</td>\n",
       "      <td>-999.000000</td>\n",
       "    </tr>\n",
       "  </tbody>\n",
       "</table>\n",
       "</div>"
      ],
      "text/plain": [
       "                   H            S  average_macro\n",
       "Precion     0.937228     0.969414       0.953321\n",
       "Recall      0.970500     0.935000       0.952750\n",
       "F1          0.953574     0.951896       0.952735\n",
       "Support  2000.000000  2000.000000    -999.000000"
      ]
     },
     "metadata": {},
     "output_type": "display_data"
    },
    {
     "data": {
      "text/html": [
       "<div>\n",
       "<style scoped>\n",
       "    .dataframe tbody tr th:only-of-type {\n",
       "        vertical-align: middle;\n",
       "    }\n",
       "\n",
       "    .dataframe tbody tr th {\n",
       "        vertical-align: top;\n",
       "    }\n",
       "\n",
       "    .dataframe thead th {\n",
       "        text-align: right;\n",
       "    }\n",
       "</style>\n",
       "<table border=\"1\" class=\"dataframe\">\n",
       "  <thead>\n",
       "    <tr style=\"text-align: right;\">\n",
       "      <th></th>\n",
       "      <th>cm_H</th>\n",
       "      <th>cm_S</th>\n",
       "    </tr>\n",
       "  </thead>\n",
       "  <tbody>\n",
       "    <tr>\n",
       "      <th>cm_H</th>\n",
       "      <td>1941</td>\n",
       "      <td>59</td>\n",
       "    </tr>\n",
       "    <tr>\n",
       "      <th>cm_S</th>\n",
       "      <td>130</td>\n",
       "      <td>1870</td>\n",
       "    </tr>\n",
       "  </tbody>\n",
       "</table>\n",
       "</div>"
      ],
      "text/plain": [
       "      cm_H  cm_S\n",
       "cm_H  1941    59\n",
       "cm_S   130  1870"
      ]
     },
     "metadata": {},
     "output_type": "display_data"
    }
   ],
   "source": [
    "df_metrics, df_confusion_matrix = evaluate_model(model_cnn, X_test, y_test)"
   ]
  },
  {
   "cell_type": "code",
   "execution_count": 168,
   "id": "6206be56",
   "metadata": {},
   "outputs": [],
   "source": [
    "#echo \"# Metriques:\" > report.md\n",
    "df_metrics.to_markdown(\"../report.md\", \"a\")\n",
    "#echo \"   \" >> report.md\n",
    "df_confusion_matrix.to_markdown(\"../report2.md\", \"a\")"
   ]
  },
  {
   "cell_type": "code",
   "execution_count": 169,
   "id": "registered-israel",
   "metadata": {},
   "outputs": [],
   "source": [
    "sr_metrics = df_metrics.stack(dropna=False)"
   ]
  },
  {
   "cell_type": "code",
   "execution_count": 170,
   "id": "meaning-official",
   "metadata": {},
   "outputs": [],
   "source": [
    "sr_confusion_matrix = df_confusion_matrix.stack()"
   ]
  },
  {
   "cell_type": "code",
   "execution_count": 171,
   "id": "present-orientation",
   "metadata": {},
   "outputs": [],
   "source": [
    "sr_metrics = pd.concat([sr_metrics, sr_confusion_matrix])"
   ]
  },
  {
   "cell_type": "code",
   "execution_count": 172,
   "id": "commercial-component",
   "metadata": {},
   "outputs": [],
   "source": [
    "mlflow.set_experiment(experiment_name='Projet_A62_neptune')\n",
    "#mlflow.set_tracking_uri(\"http://localhost:5000\")"
   ]
  },
  {
   "cell_type": "code",
   "execution_count": 173,
   "id": "technological-mason",
   "metadata": {},
   "outputs": [
    {
     "name": "stderr",
     "output_type": "stream",
     "text": [
      "WARNING:absl:Found untraced functions such as leaky_re_lu_layer_call_and_return_conditional_losses, leaky_re_lu_layer_call_fn, leaky_re_lu_1_layer_call_and_return_conditional_losses, leaky_re_lu_1_layer_call_fn, leaky_re_lu_2_layer_call_and_return_conditional_losses while saving (showing 5 of 25). These functions will not be directly callable after loading.\n"
     ]
    },
    {
     "name": "stdout",
     "output_type": "stream",
     "text": [
      "INFO:tensorflow:Assets written to: C:\\Users\\kbenmus\\AppData\\Local\\Temp\\tmpplzzecge\\model\\data\\model\\assets\n"
     ]
    },
    {
     "name": "stderr",
     "output_type": "stream",
     "text": [
      "INFO:tensorflow:Assets written to: C:\\Users\\kbenmus\\AppData\\Local\\Temp\\tmpplzzecge\\model\\data\\model\\assets\n"
     ]
    }
   ],
   "source": [
    "with mlflow.start_run(nested=True) as run:\n",
    "    for idx, val in enumerate(sr_metrics):\n",
    "        mlflow.log_metric(\"_\".join(sr_metrics.index[idx]) ,val)\n",
    "    \n",
    "    mlflow.keras.log_model(model_cnn, \"model\")\n",
    "    mlflow.set_tag(\"model_cnn\", str(model_cnn))\n"
   ]
  },
  {
   "cell_type": "code",
   "execution_count": 174,
   "id": "present-spelling",
   "metadata": {},
   "outputs": [],
   "source": [
    "model_cnn.save(PATH_MODEL + \"/model_cnn.h5\")"
   ]
  },
  {
   "cell_type": "code",
   "execution_count": null,
   "id": "proved-bacon",
   "metadata": {},
   "outputs": [],
   "source": []
  },
  {
   "cell_type": "code",
   "execution_count": null,
   "id": "flexible-binding",
   "metadata": {},
   "outputs": [],
   "source": []
  },
  {
   "cell_type": "code",
   "execution_count": null,
   "id": "hundred-newsletter",
   "metadata": {},
   "outputs": [],
   "source": []
  }
 ],
 "metadata": {
  "kernelspec": {
   "display_name": "Python 3",
   "language": "python",
   "name": "python3"
  },
  "language_info": {
   "codemirror_mode": {
    "name": "ipython",
    "version": 3
   },
   "file_extension": ".py",
   "mimetype": "text/x-python",
   "name": "python",
   "nbconvert_exporter": "python",
   "pygments_lexer": "ipython3",
   "version": "3.8.5"
  },
  "toc": {
   "base_numbering": 1,
   "nav_menu": {},
   "number_sections": true,
   "sideBar": true,
   "skip_h1_title": false,
   "title_cell": "Table of Contents",
   "title_sidebar": "Contents",
   "toc_cell": false,
   "toc_position": {
    "height": "calc(100% - 180px)",
    "left": "10px",
    "top": "150px",
    "width": "349.078px"
   },
   "toc_section_display": true,
   "toc_window_display": true
  }
 },
 "nbformat": 4,
 "nbformat_minor": 5
}
