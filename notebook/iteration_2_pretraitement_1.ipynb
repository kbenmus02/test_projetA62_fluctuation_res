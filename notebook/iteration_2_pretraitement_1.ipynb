{
 "cells": [
  {
   "cell_type": "code",
   "execution_count": 1,
   "metadata": {
    "colab": {
     "base_uri": "https://localhost:8080/"
    },
    "executionInfo": {
     "elapsed": 1201,
     "status": "ok",
     "timestamp": 1638104785671,
     "user": {
      "displayName": "Rene MAROT",
      "photoUrl": "https://lh3.googleusercontent.com/a/default-user=s64",
      "userId": "11976636736374307912"
     },
     "user_tz": 300
    },
    "id": "P9lXbmvedny2",
    "outputId": "bce399f2-5c4f-427c-eaa5-3ad2b44ff310"
   },
   "outputs": [],
   "source": [
    "# from google.colab import drive\n",
    "# drive.mount('/content/drive',force_remount=True)"
   ]
  },
  {
   "cell_type": "code",
   "execution_count": 2,
   "metadata": {
    "colab": {
     "base_uri": "https://localhost:8080/"
    },
    "executionInfo": {
     "elapsed": 3398,
     "status": "ok",
     "timestamp": 1638104789067,
     "user": {
      "displayName": "Rene MAROT",
      "photoUrl": "https://lh3.googleusercontent.com/a/default-user=s64",
      "userId": "11976636736374307912"
     },
     "user_tz": 300
    },
    "id": "H8kGJ0NOdo09",
    "outputId": "3d59ada4-409a-4941-bd7b-74532f668ad1"
   },
   "outputs": [],
   "source": [
    "# !pip install import-ipynb"
   ]
  },
  {
   "cell_type": "code",
   "execution_count": 3,
   "metadata": {
    "executionInfo": {
     "elapsed": 11,
     "status": "ok",
     "timestamp": 1638104789067,
     "user": {
      "displayName": "Rene MAROT",
      "photoUrl": "https://lh3.googleusercontent.com/a/default-user=s64",
      "userId": "11976636736374307912"
     },
     "user_tz": 300
    },
    "id": "9AGWAZ5wgEGF"
   },
   "outputs": [],
   "source": [
    "import import_ipynb"
   ]
  },
  {
   "cell_type": "code",
   "execution_count": 4,
   "metadata": {
    "colab": {
     "base_uri": "https://localhost:8080/"
    },
    "executionInfo": {
     "elapsed": 179,
     "status": "ok",
     "timestamp": 1638104789235,
     "user": {
      "displayName": "Rene MAROT",
      "photoUrl": "https://lh3.googleusercontent.com/a/default-user=s64",
      "userId": "11976636736374307912"
     },
     "user_tz": 300
    },
    "id": "gQbs_MIkdrHX",
    "outputId": "57c69d2e-db7c-4d40-97b4-7c37add23611"
   },
   "outputs": [],
   "source": [
    "# %cd /content/drive/MyDrive/A62_projet_synthese_feature/feature-colab-from-git/notebook"
   ]
  },
  {
   "cell_type": "code",
   "execution_count": 5,
   "metadata": {
    "executionInfo": {
     "elapsed": 381,
     "status": "ok",
     "timestamp": 1638104789611,
     "user": {
      "displayName": "Rene MAROT",
      "photoUrl": "https://lh3.googleusercontent.com/a/default-user=s64",
      "userId": "11976636736374307912"
     },
     "user_tz": 300
    },
    "id": "QCRssuS3dt1u"
   },
   "outputs": [],
   "source": [
    "%run iteration_0_imports.py"
   ]
  },
  {
   "cell_type": "code",
   "execution_count": 6,
   "metadata": {
    "executionInfo": {
     "elapsed": 205,
     "status": "ok",
     "timestamp": 1638104789811,
     "user": {
      "displayName": "Rene MAROT",
      "photoUrl": "https://lh3.googleusercontent.com/a/default-user=s64",
      "userId": "11976636736374307912"
     },
     "user_tz": 300
    },
    "id": "6XvrVF4GdkD6"
   },
   "outputs": [],
   "source": [
    "%run iteration_0_parameters.py"
   ]
  },
  {
   "cell_type": "code",
   "execution_count": 7,
   "metadata": {
    "colab": {
     "base_uri": "https://localhost:8080/"
    },
    "executionInfo": {
     "elapsed": 4,
     "status": "ok",
     "timestamp": 1638104789811,
     "user": {
      "displayName": "Rene MAROT",
      "photoUrl": "https://lh3.googleusercontent.com/a/default-user=s64",
      "userId": "11976636736374307912"
     },
     "user_tz": 300
    },
    "id": "Ep8e8I59dkD6",
    "outputId": "b57ad777-144a-4911-e477-00f7674eb89a"
   },
   "outputs": [
    {
     "name": "stdout",
     "output_type": "stream",
     "text": [
      "importing Jupyter notebook from iteration_0_utils.ipynb\n"
     ]
    }
   ],
   "source": [
    "import iteration_0_utils as utils"
   ]
  },
  {
   "cell_type": "code",
   "execution_count": 8,
   "metadata": {
    "colab": {
     "base_uri": "https://localhost:8080/"
    },
    "executionInfo": {
     "elapsed": 7,
     "status": "ok",
     "timestamp": 1638104789941,
     "user": {
      "displayName": "Rene MAROT",
      "photoUrl": "https://lh3.googleusercontent.com/a/default-user=s64",
      "userId": "11976636736374307912"
     },
     "user_tz": 300
    },
    "id": "qC29yEDneQmm",
    "outputId": "97e14e3e-91a2-475e-8983-8cc67632e0a3"
   },
   "outputs": [
    {
     "name": "stdout",
     "output_type": "stream",
     "text": [
      "Variable                          Type        Data/Info\n",
      "-------------------------------------------------------\n",
      "HEALTHY                           str         H\n",
      "IMG_IN_COLOR                      int         1\n",
      "IMG_SIZE                          int         64\n",
      "Image                             module      <module 'PIL.Image' from <...>packages\\\\PIL\\\\Image.py'>\n",
      "NBR_SAMPLE                        int         20000\n",
      "PATH_DATA                         str         ../data\n",
      "PATH_DATA_EDA                     str         ../data/eda\n",
      "PATH_DATA_LIST                    str         ../data/list\n",
      "PATH_DATA_SAMPLE                  str         ../data/sample\n",
      "PATH_MODEL                        str         ../model\n",
      "PATH_ROOT                         str         ..\n",
      "PATH_SOURCE_IMG                   str         ../cell_images\n",
      "RandomForestClassifier            ABCMeta     <class 'sklearn.ensemble.<...>.RandomForestClassifier'>\n",
      "SICK                              str         S\n",
      "classification_report             function    <function classification_<...>rt at 0x0000026576B88B80>\n",
      "confusion_matrix                  function    <function confusion_matrix at 0x0000026576B81C10>\n",
      "cv2                               module      <module 'cv2' from 'c:\\\\u<...>kages\\\\cv2\\\\__init__.py'>\n",
      "datetime                          type        <class 'datetime.datetime'>\n",
      "f1_score                          function    <function f1_score at 0x0000026576B88310>\n",
      "gc                                module      <module 'gc' (built-in)>\n",
      "glob                              module      <module 'glob' from 'c:\\\\<...>\\python38\\\\lib\\\\glob.py'>\n",
      "gzip                              module      <module 'gzip' from 'c:\\\\<...>\\python38\\\\lib\\\\gzip.py'>\n",
      "import_ipynb                      module      <module 'import_ipynb' fr<...>ckages\\\\import_ipynb.py'>\n",
      "learning_curve                    function    <function learning_curve at 0x0000026576D7A9D0>\n",
      "mlflow                            module      <module 'mlflow' from 'c:<...>es\\\\mlflow\\\\__init__.py'>\n",
      "np                                module      <module 'numpy' from 'c:\\<...>ges\\\\numpy\\\\__init__.py'>\n",
      "os                                module      <module 'os' from 'c:\\\\us<...>n\\\\python38\\\\lib\\\\os.py'>\n",
      "pd                                module      <module 'pandas' from 'c:<...>es\\\\pandas\\\\__init__.py'>\n",
      "pickle                            module      <module 'pickle' from 'c:<...>ython38\\\\lib\\\\pickle.py'>\n",
      "plt                               module      <module 'matplotlib.pyplo<...>\\\\matplotlib\\\\pyplot.py'>\n",
      "precision_recall_fscore_support   function    <function precision_recal<...>rt at 0x0000026576B88700>\n",
      "random                            module      <module 'random' from 'c:<...>ython38\\\\lib\\\\random.py'>\n",
      "sns                               module      <module 'seaborn' from 'c<...>s\\\\seaborn\\\\__init__.py'>\n",
      "sp                                module      <module 'scipy.sparse' fr<...>py\\\\sparse\\\\__init__.py'>\n",
      "tqdm                              type        <class 'tqdm.std.tqdm'>\n",
      "train_test_split                  function    <function train_test_split at 0x0000026576D73A60>\n",
      "utils                             module      <module 'iteration_0_util<...> at 0x000002657E2235B0>)>\n"
     ]
    }
   ],
   "source": [
    "%whos"
   ]
  },
  {
   "cell_type": "code",
   "execution_count": 9,
   "metadata": {
    "executionInfo": {
     "elapsed": 141,
     "status": "ok",
     "timestamp": 1638104790077,
     "user": {
      "displayName": "Rene MAROT",
      "photoUrl": "https://lh3.googleusercontent.com/a/default-user=s64",
      "userId": "11976636736374307912"
     },
     "user_tz": 300
    },
    "id": "hJ3iVyBHdkD7"
   },
   "outputs": [],
   "source": [
    "df_path_img_sick = pd.read_csv(PATH_DATA_LIST + \"/\" + \"df_list_path_sick_img.csv\")\n",
    "df_path_img_healthy = pd.read_csv(PATH_DATA_LIST + \"/\" + \"df_list_path_healthy_img.csv\")\n",
    "df_path_img = pd.read_csv(PATH_DATA_LIST + \"/\" + \"df_list_path_img.csv\")"
   ]
  },
  {
   "cell_type": "markdown",
   "metadata": {
    "id": "UJ6qnkwzdkD7"
   },
   "source": [
    "# Prétraitement"
   ]
  },
  {
   "cell_type": "markdown",
   "metadata": {
    "id": "NbvLsRqVdkD9"
   },
   "source": [
    "## positif_global_std"
   ]
  },
  {
   "cell_type": "code",
   "execution_count": 10,
   "metadata": {},
   "outputs": [],
   "source": [
    "def image_resize(path_img: str) -> np.array:\n",
    "    img_arr = cv2.imread(path_img, flags = IMG_IN_COLOR)\n",
    "    \n",
    "    h, w, _ = img_arr.shape\n",
    "    ratio = IMG_SIZE / max(h,w) \n",
    "    img_arr_resize = cv2.resize(img_arr, dsize = (int(np.ceil(w*ratio)), int(np.ceil(h*ratio)) ))\n",
    "    return img_arr_resize"
   ]
  },
  {
   "cell_type": "code",
   "execution_count": 11,
   "metadata": {
    "executionInfo": {
     "elapsed": 6,
     "status": "ok",
     "timestamp": 1638104790077,
     "user": {
      "displayName": "Rene MAROT",
      "photoUrl": "https://lh3.googleusercontent.com/a/default-user=s64",
      "userId": "11976636736374307912"
     },
     "user_tz": 300
    },
    "id": "gUHh2T1tdkD9"
   },
   "outputs": [],
   "source": [
    "def positive_global_std(img_arr: np.array) -> np.array:\n",
    "    \n",
    "    mean = img_arr.mean()\n",
    "    std  = img_arr.std()\n",
    "    img_arr_std = (img_arr - mean) / std\n",
    "    \n",
    "    # clip les valeurs\n",
    "    #img_arr_std = np.clip(img_arr_std, -1.0, 1.0)\n",
    "    \n",
    "    # shift to 0--1\n",
    "    #img_arr_std = (img_arr_std + 1.0) / 2.0\n",
    "    \n",
    "    return img_arr_std"
   ]
  },
  {
   "cell_type": "code",
   "execution_count": 12,
   "metadata": {},
   "outputs": [],
   "source": [
    "def normalize_pixels(img_arr: np.array) -> np.array:\n",
    "    img_arr_norm = img_arr / 255.0\n",
    "    return img_arr_norm.astype(\"float16\")    "
   ]
  },
  {
   "cell_type": "code",
   "execution_count": 13,
   "metadata": {},
   "outputs": [],
   "source": [
    "def image_cripple(img_arr: np.array, max_nan_pct: float) -> np.array:\n",
    "    #Ajoute des NaN à une image pour en dégrader la qualité\n",
    "    # Si un pixel est NaN il l'est dans toutes les couleurs\n",
    "    assert len(img_arr.shape) == 3 #3D\n",
    "    assert img_arr.shape[2] == 3 #Image en 3 couleurs\n",
    "    assert (0.0 <= max_nan_pct <= 1.0)\n",
    "    \n",
    "    import random\n",
    "    result = np.array(img_arr)\n",
    "    \n",
    "    pixel_count = img_arr.shape[0] * img_arr.shape[1]\n",
    "    pixel_nan_count = int(pixel_count * max_nan_pct)\n",
    "    \n",
    "    #Liste de coordonnées aléatoires\n",
    "    pixel_nan_list = [(random.randrange(0, img_arr.shape[0]), random.randrange(0, img_arr.shape[1])) \n",
    "                      for i in range(pixel_nan_count)]\n",
    "    \n",
    "    for pixel_nan in pixel_nan_list:\n",
    "        result[pixel_nan[0], pixel_nan[1]]=np.nan\n",
    "        \n",
    "    return result"
   ]
  },
  {
   "cell_type": "markdown",
   "metadata": {},
   "source": [
    "L'algorithme de patchage est imparfait. \n",
    "\n",
    "Il prend les plus proches voisins non Nan dans 8 directions.\n",
    "\n",
    "Une meilleur méthode consisterai à trouver le contours du trou et ensuite de faire la moyenne des pixels sur le périmètre."
   ]
  },
  {
   "cell_type": "code",
   "execution_count": 14,
   "metadata": {},
   "outputs": [],
   "source": [
    "def image_patch(img_arr: np.array) -> np.array:\n",
    "    #Remplace les NaN par la valeur moyenne des pixels alentours\n",
    "    # Si un pixel est NaN il l'est dans toutes les couleurs\n",
    "    assert len(img_arr.shape) == 3 #3D\n",
    "    assert img_arr.shape[2] == 3 #Image en 3 couleurs\n",
    "\n",
    "    result=np.array(img_arr)\n",
    "    #=== Trouve les pixels à Nan\n",
    "    # Donne les lignes dans une liste et les colonnes dans une autre liste\n",
    "    pixel_nan_row_column_list = np.where(np.isnan(img_arr[:,:,0]))\n",
    "    # Crée des coordonnées (Ligne, colonne) à partir des listes précédentes.\n",
    "    pixel_nan_list = [(row, column)\n",
    "                      for row, column in zip(pixel_nan_row_column_list[0], \n",
    "                                            pixel_nan_row_column_list[1])]\n",
    "    #--- Trouve les pixels à Nan\n",
    "    \n",
    "    #=== Patch les pixels à Nan\n",
    "    for pixel_nan in pixel_nan_list:\n",
    "        pixel_neighbourhood=find_neighbourhood(pixel_nan, img_arr)\n",
    "        pixel_patched = patch_pixel(pixel_neighbourhood)\n",
    "        result[pixel_nan[0], pixel_nan[1]]=pixel_patched\n",
    "    #---Patch les pixels à Nan\n",
    "    \n",
    "    return result\n",
    "        "
   ]
  },
  {
   "cell_type": "code",
   "execution_count": 15,
   "metadata": {},
   "outputs": [],
   "source": [
    "def find_neighbourhood(pixel_nan: tuple, img_arr: np.array) -> np.array:\n",
    "    #Trouve les pixels avoisinants non Nan\n",
    "    # On cherche horizontalement, verticalement et en diagonale et on prend le 1er qu'on rencontre.\n",
    "    assert len(pixel_nan)==2                                  #Vérifie si ce sont bien des coordonnées (row, column)\n",
    "    assert np.isnan(img_arr[pixel_nan[0], pixel_nan[1]]).sum()>0 #Vérifie que c'est bien un pixel Nan\n",
    "    assert len(img_arr.shape) == 3                            #3D\n",
    "    assert img_arr.shape[2] == 3                              #Image en 3 couleurs\n",
    "    \n",
    "    pixel_neighbourhood=np.empty((3, 3, 3), dtype = type(img_arr[0,0,0]))\n",
    "    pixel_neighbourhood[:]=np.nan\n",
    "\n",
    "    for row_direction in [-1, 0, 1]:\n",
    "\n",
    "        for column_direction in [-1, 0, 1]:\n",
    "\n",
    "            if (row_direction !=0 and column_direction !=0):\n",
    "\n",
    "                #Trouve le 1er pixel non NaN dans la direction considérée\n",
    "                for i in range(max(img_arr.shape[0], img_arr.shape[1])):\n",
    "                    row = pixel_nan[0]\n",
    "                    column = pixel_nan[1]\n",
    "\n",
    "                    row = row + (i * row_direction)\n",
    "                    column = column + (i * column_direction)\n",
    "\n",
    "                    if 0 <= row < img_arr.shape[0] and 0 <= column < img_arr.shape[1]:\n",
    "                        if not np.isnan(img_arr[row, column, 0]):\n",
    "                            pixel_neighbourhood[row_direction + 1, column_direction + 1]=img_arr[row, column]\n",
    "                            break #Sort de la boucle de recherche\n",
    "\n",
    "    return pixel_neighbourhood"
   ]
  },
  {
   "cell_type": "code",
   "execution_count": 16,
   "metadata": {},
   "outputs": [],
   "source": [
    "def patch_pixel(pixel_neighbourhood: np.array) -> np.array:\n",
    "    #Calcule la moyenne des pixels avoisinants\n",
    "    #Le pixel résultat est au centre du voisinage\n",
    "    assert len(pixel_neighbourhood.shape) == 3 #3D\n",
    "    assert pixel_neighbourhood.shape[2] == 3   #3 couleurs\n",
    "    result = np.zeros(3, dtype = \"float16\")\n",
    "    \n",
    "    for i in range(len(result)):\n",
    "        result[i]=np.nanmean(pixel_neighbourhood[:,:,i])\n",
    "\n",
    "    return result    "
   ]
  },
  {
   "cell_type": "code",
   "execution_count": 17,
   "metadata": {
    "colab": {
     "base_uri": "https://localhost:8080/"
    },
    "executionInfo": {
     "elapsed": 5,
     "status": "ok",
     "timestamp": 1638104790077,
     "user": {
      "displayName": "Rene MAROT",
      "photoUrl": "https://lh3.googleusercontent.com/a/default-user=s64",
      "userId": "11976636736374307912"
     },
     "user_tz": 300
    },
    "id": "BhlWyq1pdkD-",
    "outputId": "5127da6b-15d5-46a4-cff6-924e667fe5e7"
   },
   "outputs": [],
   "source": [
    "# NBR_SAMPLE = 1000"
   ]
  },
  {
   "cell_type": "code",
   "execution_count": 18,
   "metadata": {
    "executionInfo": {
     "elapsed": 5,
     "status": "ok",
     "timestamp": 1638104790078,
     "user": {
      "displayName": "Rene MAROT",
      "photoUrl": "https://lh3.googleusercontent.com/a/default-user=s64",
      "userId": "11976636736374307912"
     },
     "user_tz": 300
    },
    "id": "mJsCL7ibdkEA"
   },
   "outputs": [],
   "source": [
    "df_path_img_healthy_sample = df_path_img_healthy.sample(n = int(NBR_SAMPLE/2), random_state=0)\n",
    "df_path_img_sick_sample    = df_path_img_sick.sample(n = int(NBR_SAMPLE/2), random_state=0)"
   ]
  },
  {
   "cell_type": "code",
   "execution_count": 19,
   "metadata": {
    "colab": {
     "base_uri": "https://localhost:8080/",
     "height": 35
    },
    "executionInfo": {
     "elapsed": 10,
     "status": "ok",
     "timestamp": 1638104790207,
     "user": {
      "displayName": "Rene MAROT",
      "photoUrl": "https://lh3.googleusercontent.com/a/default-user=s64",
      "userId": "11976636736374307912"
     },
     "user_tz": 300
    },
    "id": "LI7bOfvAdkEA",
    "outputId": "6377fbf5-04af-4304-d580-bf3ebaa1f5d7"
   },
   "outputs": [
    {
     "data": {
      "text/plain": [
       "'../data/sample'"
      ]
     },
     "execution_count": 19,
     "metadata": {},
     "output_type": "execute_result"
    }
   ],
   "source": [
    "PATH_DATA_SAMPLE"
   ]
  },
  {
   "cell_type": "code",
   "execution_count": 20,
   "metadata": {},
   "outputs": [],
   "source": [
    "def preprocess_img(path_img:str, img_size:int=IMG_SIZE) -> np.array:\n",
    "        \n",
    "    #img_arr_std = positive_global_std(image_resize(path_img))\n",
    "    img_arr_preprocessed = normalize_pixels(image_resize(path_img))\n",
    "    # padding\n",
    "    img_arr_padded = np.zeros((IMG_SIZE, IMG_SIZE, 3), dtype = type(img_arr_preprocessed[0,0,0]))\n",
    "    img_arr_padded[:img_arr_preprocessed.shape[0],:img_arr_preprocessed.shape[1],:] = img_arr_preprocessed\n",
    "    \n",
    "    return img_arr_padded"
   ]
  },
  {
   "cell_type": "code",
   "execution_count": 21,
   "metadata": {},
   "outputs": [
    {
     "name": "stdout",
     "output_type": "stream",
     "text": [
      "Requirement already satisfied: dill in c:\\users\\rené\\appdata\\local\\programs\\python\\python38\\lib\\site-packages (0.3.4)\n",
      "Export de [normalize_pixels]\n",
      "Export de [preprocess_img]\n"
     ]
    },
    {
     "name": "stderr",
     "output_type": "stream",
     "text": [
      "WARNING: Ignoring invalid distribution -atplotlib (c:\\users\\rené\\appdata\\local\\programs\\python\\python38\\lib\\site-packages)\n",
      "WARNING: Ignoring invalid distribution -atplotlib (c:\\users\\rené\\appdata\\local\\programs\\python\\python38\\lib\\site-packages)\n",
      "WARNING: Ignoring invalid distribution -atplotlib (c:\\users\\rené\\appdata\\local\\programs\\python\\python38\\lib\\site-packages)\n",
      "WARNING: Ignoring invalid distribution -atplotlib (c:\\users\\rené\\appdata\\local\\programs\\python\\python38\\lib\\site-packages)\n",
      "WARNING: Ignoring invalid distribution -atplotlib (c:\\users\\rené\\appdata\\local\\programs\\python\\python38\\lib\\site-packages)\n"
     ]
    }
   ],
   "source": [
    "# Export des fonctions pour le pré-traitement des images\n",
    "!pip install dill\n",
    "import dill\n",
    "preprocessing_function_list = [normalize_pixels, preprocess_img]\n",
    "\n",
    "for preprocessing_function in preprocessing_function_list:\n",
    "    print(\"Export de [\" + preprocessing_function.__name__ + \"]\")\n",
    "    with open(preprocessing_function.__name__ + \".dill\", \"wb\") as file:\n",
    "        dill.dump(preprocessing_function, file)"
   ]
  },
  {
   "cell_type": "code",
   "execution_count": 22,
   "metadata": {},
   "outputs": [
    {
     "data": {
      "text/plain": [
       "function"
      ]
     },
     "execution_count": 22,
     "metadata": {},
     "output_type": "execute_result"
    }
   ],
   "source": [
    "type(normalize_pixels)"
   ]
  },
  {
   "cell_type": "code",
   "execution_count": 23,
   "metadata": {
    "executionInfo": {
     "elapsed": 9,
     "status": "ok",
     "timestamp": 1638104790207,
     "user": {
      "displayName": "Rene MAROT",
      "photoUrl": "https://lh3.googleusercontent.com/a/default-user=s64",
      "userId": "11976636736374307912"
     },
     "user_tz": 300
    },
    "id": "ZQZBMpgkdkEB"
   },
   "outputs": [],
   "source": [
    "DATE_TIME = \"2021-11-18_20-39-00\"\n",
    "\n",
    "def create_sample(df_path_img:str, img_type:str, path_sample:str, date_time:str, clean_dir:bool):\n",
    "    path_sample_time = path_sample+\"/\"+date_time\n",
    "\n",
    "    os.makedirs(path_sample_time, exist_ok=True)\n",
    "    if clean_dir:\n",
    "        file_list = glob.glob(path_sample_time+\"/\"+\"*.*\")\n",
    "        for f in file_list:\n",
    "            os.remove(f)\n",
    "    \n",
    "    for path_img , _ in zip(df_path_img.path_img, tqdm(range(len(df_path_img.path_img)))):\n",
    "        \n",
    "        _, img_name, _ = utils.split_file_info(path_img)\n",
    "        \n",
    "        img_arr_padded = preprocess_img(path_img)\n",
    "        \n",
    "        utils.pickle_save(img_arr_padded, path_sample_time + \"/\" + str(img_type).upper() + \"_\" + img_name + \".pklz\")\n",
    "        "
   ]
  },
  {
   "cell_type": "code",
   "execution_count": 24,
   "metadata": {
    "colab": {
     "base_uri": "https://localhost:8080/"
    },
    "executionInfo": {
     "elapsed": 2380762,
     "status": "ok",
     "timestamp": 1638107170961,
     "user": {
      "displayName": "Rene MAROT",
      "photoUrl": "https://lh3.googleusercontent.com/a/default-user=s64",
      "userId": "11976636736374307912"
     },
     "user_tz": 300
    },
    "id": "oZyNpdLmdkEB",
    "outputId": "72b56d8b-6c42-40a6-c0d7-a05142417739"
   },
   "outputs": [
    {
     "name": "stderr",
     "output_type": "stream",
     "text": [
      "100%|████████████████████████████████████████████████████████████████████████████▉| 9999/10000 [03:26<00:00, 48.42it/s]\n"
     ]
    }
   ],
   "source": [
    "create_sample(df_path_img_healthy_sample, HEALTHY, PATH_DATA_SAMPLE, DATE_TIME, clean_dir=True)"
   ]
  },
  {
   "cell_type": "code",
   "execution_count": 25,
   "metadata": {
    "colab": {
     "base_uri": "https://localhost:8080/"
    },
    "executionInfo": {
     "elapsed": 2234295,
     "status": "ok",
     "timestamp": 1638109405245,
     "user": {
      "displayName": "Rene MAROT",
      "photoUrl": "https://lh3.googleusercontent.com/a/default-user=s64",
      "userId": "11976636736374307912"
     },
     "user_tz": 300
    },
    "id": "-8wRiHw5dkEB",
    "outputId": "6b297645-bb5e-4e75-ed34-29d3ac567e24"
   },
   "outputs": [
    {
     "name": "stderr",
     "output_type": "stream",
     "text": [
      "100%|████████████████████████████████████████████████████████████████████████████▉| 9999/10000 [03:37<00:00, 46.07it/s]\n"
     ]
    }
   ],
   "source": [
    "create_sample(df_path_img_sick_sample, SICK, PATH_DATA_SAMPLE, DATE_TIME, clean_dir=False)"
   ]
  },
  {
   "cell_type": "code",
   "execution_count": 26,
   "metadata": {
    "executionInfo": {
     "elapsed": 17318,
     "status": "ok",
     "timestamp": 1638109422552,
     "user": {
      "displayName": "Rene MAROT",
      "photoUrl": "https://lh3.googleusercontent.com/a/default-user=s64",
      "userId": "11976636736374307912"
     },
     "user_tz": 300
    },
    "id": "ffkCQIbPdkEC"
   },
   "outputs": [],
   "source": [
    "df_path_img_sample = pd.concat([df_path_img_healthy_sample, df_path_img_sick_sample], ignore_index=True)\n",
    "df_path_img_not_in_sample = pd.DataFrame([i for i in df_path_img.path_img.values if not i in df_path_img_sample.path_img.values], \n",
    "                 columns=df_path_img_sample.columns)"
   ]
  },
  {
   "cell_type": "code",
   "execution_count": 27,
   "metadata": {
    "colab": {
     "base_uri": "https://localhost:8080/"
    },
    "executionInfo": {
     "elapsed": 19,
     "status": "ok",
     "timestamp": 1638109422554,
     "user": {
      "displayName": "Rene MAROT",
      "photoUrl": "https://lh3.googleusercontent.com/a/default-user=s64",
      "userId": "11976636736374307912"
     },
     "user_tz": 300
    },
    "id": "-rJBxsQxdkEC",
    "outputId": "fe7023eb-9072-46f7-b68c-5cb1c5503d35"
   },
   "outputs": [
    {
     "data": {
      "text/plain": [
       "(7558, 1)"
      ]
     },
     "execution_count": 27,
     "metadata": {},
     "output_type": "execute_result"
    }
   ],
   "source": [
    "df_path_img_not_in_sample.shape"
   ]
  },
  {
   "cell_type": "code",
   "execution_count": 28,
   "metadata": {
    "colab": {
     "base_uri": "https://localhost:8080/",
     "height": 0
    },
    "executionInfo": {
     "elapsed": 17,
     "status": "ok",
     "timestamp": 1638109422555,
     "user": {
      "displayName": "Rene MAROT",
      "photoUrl": "https://lh3.googleusercontent.com/a/default-user=s64",
      "userId": "11976636736374307912"
     },
     "user_tz": 300
    },
    "id": "zJrlzZ81dkEC",
    "outputId": "d6b3489c-7c66-4f77-d2da-4d26dde8a608"
   },
   "outputs": [
    {
     "data": {
      "text/html": [
       "<div>\n",
       "<style scoped>\n",
       "    .dataframe tbody tr th:only-of-type {\n",
       "        vertical-align: middle;\n",
       "    }\n",
       "\n",
       "    .dataframe tbody tr th {\n",
       "        vertical-align: top;\n",
       "    }\n",
       "\n",
       "    .dataframe thead th {\n",
       "        text-align: right;\n",
       "    }\n",
       "</style>\n",
       "<table border=\"1\" class=\"dataframe\">\n",
       "  <thead>\n",
       "    <tr style=\"text-align: right;\">\n",
       "      <th></th>\n",
       "      <th>path_img</th>\n",
       "    </tr>\n",
       "  </thead>\n",
       "  <tbody>\n",
       "    <tr>\n",
       "      <th>0</th>\n",
       "      <td>../cell_images/Parasitized\\C100P61ThinF_IMG_20...</td>\n",
       "    </tr>\n",
       "    <tr>\n",
       "      <th>1</th>\n",
       "      <td>../cell_images/Parasitized\\C100P61ThinF_IMG_20...</td>\n",
       "    </tr>\n",
       "    <tr>\n",
       "      <th>2</th>\n",
       "      <td>../cell_images/Parasitized\\C100P61ThinF_IMG_20...</td>\n",
       "    </tr>\n",
       "    <tr>\n",
       "      <th>3</th>\n",
       "      <td>../cell_images/Parasitized\\C100P61ThinF_IMG_20...</td>\n",
       "    </tr>\n",
       "    <tr>\n",
       "      <th>4</th>\n",
       "      <td>../cell_images/Parasitized\\C100P61ThinF_IMG_20...</td>\n",
       "    </tr>\n",
       "  </tbody>\n",
       "</table>\n",
       "</div>"
      ],
      "text/plain": [
       "                                            path_img\n",
       "0  ../cell_images/Parasitized\\C100P61ThinF_IMG_20...\n",
       "1  ../cell_images/Parasitized\\C100P61ThinF_IMG_20...\n",
       "2  ../cell_images/Parasitized\\C100P61ThinF_IMG_20...\n",
       "3  ../cell_images/Parasitized\\C100P61ThinF_IMG_20...\n",
       "4  ../cell_images/Parasitized\\C100P61ThinF_IMG_20..."
      ]
     },
     "execution_count": 28,
     "metadata": {},
     "output_type": "execute_result"
    }
   ],
   "source": [
    "df_path_img_not_in_sample.head()"
   ]
  },
  {
   "cell_type": "code",
   "execution_count": 29,
   "metadata": {
    "colab": {
     "base_uri": "https://localhost:8080/"
    },
    "executionInfo": {
     "elapsed": 10,
     "status": "ok",
     "timestamp": 1638109422555,
     "user": {
      "displayName": "Rene MAROT",
      "photoUrl": "https://lh3.googleusercontent.com/a/default-user=s64",
      "userId": "11976636736374307912"
     },
     "user_tz": 300
    },
    "id": "t7W4RJ37dkED",
    "outputId": "89285b9a-e05e-41d6-f01b-3e7edd8b894a"
   },
   "outputs": [
    {
     "data": {
      "text/plain": [
       "array([['../cell_images/Uninfected\\\\C62P23N_ThinF_IMG_20150818_132811_cell_9.png']],\n",
       "      dtype=object)"
      ]
     },
     "execution_count": 29,
     "metadata": {},
     "output_type": "execute_result"
    }
   ],
   "source": [
    "df_path_img_not_in_sample.sample(1).values"
   ]
  },
  {
   "cell_type": "code",
   "execution_count": null,
   "metadata": {},
   "outputs": [],
   "source": []
  }
 ],
 "metadata": {
  "accelerator": "GPU",
  "colab": {
   "collapsed_sections": [],
   "name": "iteration_01_2_pretraitement_1.ipynb",
   "provenance": [
    {
     "file_id": "https://github.com/YounesZ/A62-EquipeCV/blob/feature-colab-integration/notebook/iteration_01_2_pretraitement_1.ipynb",
     "timestamp": 1637800145320
    }
   ]
  },
  "kernelspec": {
   "display_name": "Python 3",
   "language": "python",
   "name": "python3"
  },
  "language_info": {
   "codemirror_mode": {
    "name": "ipython",
    "version": 3
   },
   "file_extension": ".py",
   "mimetype": "text/x-python",
   "name": "python",
   "nbconvert_exporter": "python",
   "pygments_lexer": "ipython3",
   "version": "3.8.2"
  },
  "toc": {
   "base_numbering": 1,
   "nav_menu": {},
   "number_sections": true,
   "sideBar": true,
   "skip_h1_title": false,
   "title_cell": "Table of Contents",
   "title_sidebar": "Contents",
   "toc_cell": false,
   "toc_position": {},
   "toc_section_display": true,
   "toc_window_display": false
  }
 },
 "nbformat": 4,
 "nbformat_minor": 5
}
