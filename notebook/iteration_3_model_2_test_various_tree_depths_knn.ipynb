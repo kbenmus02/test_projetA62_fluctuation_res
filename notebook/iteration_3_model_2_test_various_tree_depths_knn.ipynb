{
 "cells": [
  {
   "cell_type": "code",
   "execution_count": 1,
   "id": "4fa8be8a",
   "metadata": {
    "colab": {
     "base_uri": "https://localhost:8080/"
    },
    "executionInfo": {
     "elapsed": 1171,
     "status": "ok",
     "timestamp": 1638109713407,
     "user": {
      "displayName": "Rene MAROT",
      "photoUrl": "https://lh3.googleusercontent.com/a/default-user=s64",
      "userId": "11976636736374307912"
     },
     "user_tz": 300
    },
    "id": "mWbT3ByGjWVq",
    "outputId": "e3e30821-7ca9-4395-c794-46c005e5c125"
   },
   "outputs": [],
   "source": [
    "# from google.colab import drive\n",
    "# drive.mount('/content/drive',force_remount=True)"
   ]
  },
  {
   "cell_type": "code",
   "execution_count": 2,
   "id": "1000472c",
   "metadata": {
    "colab": {
     "base_uri": "https://localhost:8080/"
    },
    "executionInfo": {
     "elapsed": 3134,
     "status": "ok",
     "timestamp": 1638109716538,
     "user": {
      "displayName": "Rene MAROT",
      "photoUrl": "https://lh3.googleusercontent.com/a/default-user=s64",
      "userId": "11976636736374307912"
     },
     "user_tz": 300
    },
    "id": "4nywuULljavL",
    "outputId": "99fdc144-63f3-43d0-9960-666fc90947b4"
   },
   "outputs": [],
   "source": [
    "# !pip install import-ipynb"
   ]
  },
  {
   "cell_type": "code",
   "execution_count": 3,
   "id": "9c23e95a",
   "metadata": {
    "executionInfo": {
     "elapsed": 6,
     "status": "ok",
     "timestamp": 1638109716538,
     "user": {
      "displayName": "Rene MAROT",
      "photoUrl": "https://lh3.googleusercontent.com/a/default-user=s64",
      "userId": "11976636736374307912"
     },
     "user_tz": 300
    },
    "id": "2Q53jFqrjguA"
   },
   "outputs": [],
   "source": [
    "import import_ipynb"
   ]
  },
  {
   "cell_type": "code",
   "execution_count": 4,
   "id": "329556f9",
   "metadata": {
    "colab": {
     "base_uri": "https://localhost:8080/"
    },
    "executionInfo": {
     "elapsed": 7,
     "status": "ok",
     "timestamp": 1638109716539,
     "user": {
      "displayName": "Rene MAROT",
      "photoUrl": "https://lh3.googleusercontent.com/a/default-user=s64",
      "userId": "11976636736374307912"
     },
     "user_tz": 300
    },
    "id": "PL4y3jX7jhq5",
    "outputId": "0c604956-5ba6-4e95-c50b-95083a87393a"
   },
   "outputs": [],
   "source": [
    "# %cd /content/drive/MyDrive/A62_projet_synthese_feature/feature-colab-from-git/notebook"
   ]
  },
  {
   "cell_type": "code",
   "execution_count": 5,
   "id": "e96010e7",
   "metadata": {
    "executionInfo": {
     "elapsed": 422,
     "status": "ok",
     "timestamp": 1638109716957,
     "user": {
      "displayName": "Rene MAROT",
      "photoUrl": "https://lh3.googleusercontent.com/a/default-user=s64",
      "userId": "11976636736374307912"
     },
     "user_tz": 300
    },
    "id": "tutorial-remainder"
   },
   "outputs": [],
   "source": [
    "%run iteration_0_imports.py"
   ]
  },
  {
   "cell_type": "code",
   "execution_count": 6,
   "id": "b15eeae2",
   "metadata": {
    "executionInfo": {
     "elapsed": 11,
     "status": "ok",
     "timestamp": 1638109716960,
     "user": {
      "displayName": "Rene MAROT",
      "photoUrl": "https://lh3.googleusercontent.com/a/default-user=s64",
      "userId": "11976636736374307912"
     },
     "user_tz": 300
    },
    "id": "bottom-davis"
   },
   "outputs": [],
   "source": [
    "%run iteration_0_parameters.py"
   ]
  },
  {
   "cell_type": "code",
   "execution_count": 7,
   "id": "bd1dae69",
   "metadata": {
    "colab": {
     "base_uri": "https://localhost:8080/"
    },
    "executionInfo": {
     "elapsed": 10,
     "status": "ok",
     "timestamp": 1638109716960,
     "user": {
      "displayName": "Rene MAROT",
      "photoUrl": "https://lh3.googleusercontent.com/a/default-user=s64",
      "userId": "11976636736374307912"
     },
     "user_tz": 300
    },
    "id": "remarkable-allocation",
    "outputId": "944cabff-d789-4318-80f8-4c49b9526910"
   },
   "outputs": [
    {
     "name": "stdout",
     "output_type": "stream",
     "text": [
      "importing Jupyter notebook from iteration_0_utils.ipynb\n"
     ]
    }
   ],
   "source": [
    "import iteration_0_utils as utils"
   ]
  },
  {
   "cell_type": "code",
   "execution_count": 8,
   "id": "7f1667fd",
   "metadata": {
    "colab": {
     "base_uri": "https://localhost:8080/"
    },
    "executionInfo": {
     "elapsed": 10,
     "status": "ok",
     "timestamp": 1638109716961,
     "user": {
      "displayName": "Rene MAROT",
      "photoUrl": "https://lh3.googleusercontent.com/a/default-user=s64",
      "userId": "11976636736374307912"
     },
     "user_tz": 300
    },
    "id": "-_APVUTbka3o",
    "outputId": "30b97fc3-8763-4ac2-f83b-e9eaf158f969",
    "scrolled": true
   },
   "outputs": [
    {
     "name": "stdout",
     "output_type": "stream",
     "text": [
      "Variable                          Type        Data/Info\n",
      "-------------------------------------------------------\n",
      "HEALTHY                           str         H\n",
      "IMG_IN_COLOR                      int         1\n",
      "IMG_SIZE                          int         64\n",
      "Image                             module      <module 'PIL.Image' from <...>packages\\\\PIL\\\\Image.py'>\n",
      "NBR_SAMPLE                        int         20000\n",
      "PATH_DATA                         str         ../data\n",
      "PATH_DATA_EDA                     str         ../data/eda\n",
      "PATH_DATA_LIST                    str         ../data/list\n",
      "PATH_DATA_SAMPLE                  str         ../data/sample\n",
      "PATH_MODEL                        str         ../model\n",
      "PATH_ROOT                         str         ..\n",
      "PATH_SOURCE_IMG                   str         ../cell_images\n",
      "RandomForestClassifier            ABCMeta     <class 'sklearn.ensemble.<...>.RandomForestClassifier'>\n",
      "SICK                              str         S\n",
      "classification_report             function    <function classification_<...>rt at 0x0000023821B888B0>\n",
      "confusion_matrix                  function    <function confusion_matrix at 0x0000023821B88040>\n",
      "cv2                               module      <module 'cv2' from 'c:\\\\u<...>kages\\\\cv2\\\\__init__.py'>\n",
      "datetime                          type        <class 'datetime.datetime'>\n",
      "f1_score                          function    <function f1_score at 0x0000023821B883A0>\n",
      "gc                                module      <module 'gc' (built-in)>\n",
      "glob                              module      <module 'glob' from 'C:\\\\<...>Anaconda3\\\\lib\\\\glob.py'>\n",
      "gzip                              module      <module 'gzip' from 'C:\\\\<...>Anaconda3\\\\lib\\\\gzip.py'>\n",
      "import_ipynb                      module      <module 'import_ipynb' fr<...>ckages\\\\import_ipynb.py'>\n",
      "learning_curve                    function    <function learning_curve at 0x0000023821D561F0>\n",
      "mlflow                            module      <module 'mlflow' from 'c:<...>es\\\\mlflow\\\\__init__.py'>\n",
      "np                                module      <module 'numpy' from 'c:\\<...>ges\\\\numpy\\\\__init__.py'>\n",
      "os                                module      <module 'os' from 'C:\\\\Te<...>\\\\Anaconda3\\\\lib\\\\os.py'>\n",
      "pd                                module      <module 'pandas' from 'c:<...>es\\\\pandas\\\\__init__.py'>\n",
      "pickle                            module      <module 'pickle' from 'C:<...>aconda3\\\\lib\\\\pickle.py'>\n",
      "plt                               module      <module 'matplotlib.pyplo<...>\\\\matplotlib\\\\pyplot.py'>\n",
      "precision_recall_fscore_support   function    <function precision_recal<...>rt at 0x0000023821B88670>\n",
      "random                            module      <module 'random' from 'C:<...>aconda3\\\\lib\\\\random.py'>\n",
      "sns                               module      <module 'seaborn' from 'c<...>s\\\\seaborn\\\\__init__.py'>\n",
      "sp                                module      <module 'scipy.sparse' fr<...>py\\\\sparse\\\\__init__.py'>\n",
      "tqdm                              type        <class 'tqdm.std.tqdm'>\n",
      "train_test_split                  function    <function train_test_split at 0x0000023821D4F550>\n",
      "utils                             module      <module 'iteration_0_util<...> at 0x000002387300D7F0>)>\n"
     ]
    }
   ],
   "source": [
    "%whos"
   ]
  },
  {
   "cell_type": "code",
   "execution_count": 9,
   "id": "da59fa1f",
   "metadata": {
    "colab": {
     "base_uri": "https://localhost:8080/",
     "height": 35
    },
    "executionInfo": {
     "elapsed": 178,
     "status": "ok",
     "timestamp": 1638109717130,
     "user": {
      "displayName": "Rene MAROT",
      "photoUrl": "https://lh3.googleusercontent.com/a/default-user=s64",
      "userId": "11976636736374307912"
     },
     "user_tz": 300
    },
    "id": "developing-correspondence",
    "outputId": "cdfa1b1f-05eb-4543-b8f0-c9c3bc56b89d"
   },
   "outputs": [
    {
     "data": {
      "text/plain": [
       "'\\nPATH_SAMPLE = \"data/sample\"\\nHEALTHY = \"H\"\\nSICK = \"S\"\\nIMG_SIZE = 400\\n'"
      ]
     },
     "execution_count": 9,
     "metadata": {},
     "output_type": "execute_result"
    }
   ],
   "source": [
    "DATE_TIME = \"2021-11-18_20-39-00\"\n",
    "\n",
    "\"\"\"\n",
    "PATH_SAMPLE = \"data/sample\"\n",
    "HEALTHY = \"H\"\n",
    "SICK = \"S\"\n",
    "IMG_SIZE = 400\n",
    "\"\"\""
   ]
  },
  {
   "cell_type": "markdown",
   "id": "8ab58286",
   "metadata": {
    "id": "statewide-motel"
   },
   "source": [
    "# Modele"
   ]
  },
  {
   "cell_type": "code",
   "execution_count": 10,
   "id": "6671626d",
   "metadata": {
    "colab": {
     "base_uri": "https://localhost:8080/",
     "height": 35
    },
    "executionInfo": {
     "elapsed": 18,
     "status": "ok",
     "timestamp": 1638109717130,
     "user": {
      "displayName": "Rene MAROT",
      "photoUrl": "https://lh3.googleusercontent.com/a/default-user=s64",
      "userId": "11976636736374307912"
     },
     "user_tz": 300
    },
    "id": "better-james",
    "outputId": "111c4f87-7b2c-4939-dc2e-a01d022b8983"
   },
   "outputs": [
    {
     "data": {
      "text/plain": [
       "'../data/sample'"
      ]
     },
     "execution_count": 10,
     "metadata": {},
     "output_type": "execute_result"
    }
   ],
   "source": [
    "PATH_DATA_SAMPLE"
   ]
  },
  {
   "cell_type": "code",
   "execution_count": 11,
   "id": "5fe47424",
   "metadata": {
    "colab": {
     "base_uri": "https://localhost:8080/"
    },
    "executionInfo": {
     "elapsed": 17,
     "status": "ok",
     "timestamp": 1638109717130,
     "user": {
      "displayName": "Rene MAROT",
      "photoUrl": "https://lh3.googleusercontent.com/a/default-user=s64",
      "userId": "11976636736374307912"
     },
     "user_tz": 300
    },
    "id": "saving-white",
    "outputId": "88c716da-70f3-461d-e8b5-a80f0e01a0ea"
   },
   "outputs": [
    {
     "data": {
      "text/plain": [
       "20000"
      ]
     },
     "execution_count": 11,
     "metadata": {},
     "output_type": "execute_result"
    }
   ],
   "source": [
    "NBR_SAMPLE"
   ]
  },
  {
   "cell_type": "code",
   "execution_count": 12,
   "id": "4e9ec3e2",
   "metadata": {
    "colab": {
     "base_uri": "https://localhost:8080/",
     "height": 35
    },
    "executionInfo": {
     "elapsed": 17,
     "status": "ok",
     "timestamp": 1638109717131,
     "user": {
      "displayName": "Rene MAROT",
      "photoUrl": "https://lh3.googleusercontent.com/a/default-user=s64",
      "userId": "11976636736374307912"
     },
     "user_tz": 300
    },
    "id": "charming-deviation",
    "outputId": "f8cf357c-6ff2-4cc7-f098-e6132f442ca3"
   },
   "outputs": [
    {
     "data": {
      "text/plain": [
       "'2021-11-18_20-39-00'"
      ]
     },
     "execution_count": 12,
     "metadata": {},
     "output_type": "execute_result"
    }
   ],
   "source": [
    "DATE_TIME"
   ]
  },
  {
   "cell_type": "code",
   "execution_count": 13,
   "id": "8f25e346",
   "metadata": {
    "colab": {
     "base_uri": "https://localhost:8080/"
    },
    "executionInfo": {
     "elapsed": 16,
     "status": "ok",
     "timestamp": 1638109717131,
     "user": {
      "displayName": "Rene MAROT",
      "photoUrl": "https://lh3.googleusercontent.com/a/default-user=s64",
      "userId": "11976636736374307912"
     },
     "user_tz": 300
    },
    "id": "detailed-lodging",
    "outputId": "a7140e03-4b86-4121-f208-4ed447f91bf5"
   },
   "outputs": [
    {
     "data": {
      "text/plain": [
       "64"
      ]
     },
     "execution_count": 13,
     "metadata": {},
     "output_type": "execute_result"
    }
   ],
   "source": [
    "IMG_SIZE"
   ]
  },
  {
   "cell_type": "markdown",
   "id": "1caaffdd",
   "metadata": {},
   "source": [
    "## Read X y"
   ]
  },
  {
   "cell_type": "code",
   "execution_count": 14,
   "id": "52935942",
   "metadata": {},
   "outputs": [],
   "source": [
    "X_train = utils.pickle_read(PATH_MODEL + \"/\" + \"X_train.pklz\")\n",
    "X_test = utils.pickle_read(PATH_MODEL + \"/\" + \"X_test.pklz\")\n",
    "y_train = utils.pickle_read(PATH_MODEL + \"/\" + \"y_train.pklz\")\n",
    "y_test = utils.pickle_read(PATH_MODEL + \"/\" + \"y_test.pklz\")"
   ]
  },
  {
   "cell_type": "markdown",
   "id": "5409f7c7",
   "metadata": {
    "id": "bulgarian-villa"
   },
   "source": [
    "## Random forest"
   ]
  },
  {
   "cell_type": "code",
   "execution_count": 15,
   "id": "8efc7acb",
   "metadata": {
    "id": "ahead-bulgarian"
   },
   "outputs": [],
   "source": [
    "model_rf = RandomForestClassifier(random_state = 0)"
   ]
  },
  {
   "cell_type": "code",
   "execution_count": 16,
   "id": "1150b012",
   "metadata": {},
   "outputs": [
    {
     "data": {
      "text/plain": [
       "RandomForestClassifier(random_state=0)"
      ]
     },
     "execution_count": 16,
     "metadata": {},
     "output_type": "execute_result"
    }
   ],
   "source": [
    "# fit model\n",
    "model_rf.fit(X_train, y_train)"
   ]
  },
  {
   "cell_type": "code",
   "execution_count": 17,
   "id": "a5ac489b",
   "metadata": {},
   "outputs": [],
   "source": [
    "utils.pickle_save(model_rf, PATH_MODEL + \"/model_rf_rm_2021-01-16_14h28.pklz\")"
   ]
  },
  {
   "cell_type": "code",
   "execution_count": 18,
   "id": "d8be3386",
   "metadata": {},
   "outputs": [],
   "source": [
    "# Assert False"
   ]
  },
  {
   "cell_type": "code",
   "execution_count": 19,
   "id": "82f0c0ee",
   "metadata": {},
   "outputs": [],
   "source": [
    "y_pred = model_rf.predict(X_test)"
   ]
  },
  {
   "cell_type": "markdown",
   "id": "d5247133",
   "metadata": {},
   "source": [
    "## Obtenir les métriques"
   ]
  },
  {
   "cell_type": "code",
   "execution_count": 20,
   "id": "3d04d72f",
   "metadata": {},
   "outputs": [],
   "source": [
    "# create dataframe metrics\n",
    "df_metrics = pd.DataFrame(precision_recall_fscore_support(y_test, y_pred), columns = [\"H\", \"S\"], \n",
    "         index=[\"Precion\", \"Recall\", \"F1\", \"Support\"])\n",
    "# add average column    \n",
    "df_metrics[\"average_macro\"] = precision_recall_fscore_support(y_test, y_pred, average = \"macro\")\n",
    "df_metrics = df_metrics.replace(np.nan, -999)\n",
    "sr_metrics = df_metrics.stack(dropna=False)\n",
    "\n",
    "df_confusion_matrix = pd.DataFrame(confusion_matrix(y_test, y_pred), columns = [\"cm_H\", \"cm_S\"], index = [\"cm_H\", \"cm_S\"])\n",
    "sr_confusion_matrix = df_confusion_matrix.stack()\n",
    "sr_metrics = pd.concat([sr_metrics, sr_confusion_matrix])"
   ]
  },
  {
   "cell_type": "code",
   "execution_count": 21,
   "id": "6a0e968c",
   "metadata": {},
   "outputs": [
    {
     "data": {
      "text/html": [
       "<div>\n",
       "<style scoped>\n",
       "    .dataframe tbody tr th:only-of-type {\n",
       "        vertical-align: middle;\n",
       "    }\n",
       "\n",
       "    .dataframe tbody tr th {\n",
       "        vertical-align: top;\n",
       "    }\n",
       "\n",
       "    .dataframe thead th {\n",
       "        text-align: right;\n",
       "    }\n",
       "</style>\n",
       "<table border=\"1\" class=\"dataframe\">\n",
       "  <thead>\n",
       "    <tr style=\"text-align: right;\">\n",
       "      <th></th>\n",
       "      <th>H</th>\n",
       "      <th>S</th>\n",
       "      <th>average_macro</th>\n",
       "    </tr>\n",
       "  </thead>\n",
       "  <tbody>\n",
       "    <tr>\n",
       "      <th>Precion</th>\n",
       "      <td>0.784314</td>\n",
       "      <td>0.781203</td>\n",
       "      <td>0.782759</td>\n",
       "    </tr>\n",
       "    <tr>\n",
       "      <th>Recall</th>\n",
       "      <td>0.780000</td>\n",
       "      <td>0.785500</td>\n",
       "      <td>0.782750</td>\n",
       "    </tr>\n",
       "    <tr>\n",
       "      <th>F1</th>\n",
       "      <td>0.782151</td>\n",
       "      <td>0.783346</td>\n",
       "      <td>0.782748</td>\n",
       "    </tr>\n",
       "    <tr>\n",
       "      <th>Support</th>\n",
       "      <td>2000.000000</td>\n",
       "      <td>2000.000000</td>\n",
       "      <td>-999.000000</td>\n",
       "    </tr>\n",
       "  </tbody>\n",
       "</table>\n",
       "</div>"
      ],
      "text/plain": [
       "                   H            S  average_macro\n",
       "Precion     0.784314     0.781203       0.782759\n",
       "Recall      0.780000     0.785500       0.782750\n",
       "F1          0.782151     0.783346       0.782748\n",
       "Support  2000.000000  2000.000000    -999.000000"
      ]
     },
     "execution_count": 21,
     "metadata": {},
     "output_type": "execute_result"
    }
   ],
   "source": [
    "df_metrics"
   ]
  },
  {
   "cell_type": "code",
   "execution_count": 22,
   "id": "90369683",
   "metadata": {},
   "outputs": [
    {
     "data": {
      "text/html": [
       "<div>\n",
       "<style scoped>\n",
       "    .dataframe tbody tr th:only-of-type {\n",
       "        vertical-align: middle;\n",
       "    }\n",
       "\n",
       "    .dataframe tbody tr th {\n",
       "        vertical-align: top;\n",
       "    }\n",
       "\n",
       "    .dataframe thead th {\n",
       "        text-align: right;\n",
       "    }\n",
       "</style>\n",
       "<table border=\"1\" class=\"dataframe\">\n",
       "  <thead>\n",
       "    <tr style=\"text-align: right;\">\n",
       "      <th></th>\n",
       "      <th>cm_H</th>\n",
       "      <th>cm_S</th>\n",
       "    </tr>\n",
       "  </thead>\n",
       "  <tbody>\n",
       "    <tr>\n",
       "      <th>cm_H</th>\n",
       "      <td>1560</td>\n",
       "      <td>440</td>\n",
       "    </tr>\n",
       "    <tr>\n",
       "      <th>cm_S</th>\n",
       "      <td>429</td>\n",
       "      <td>1571</td>\n",
       "    </tr>\n",
       "  </tbody>\n",
       "</table>\n",
       "</div>"
      ],
      "text/plain": [
       "      cm_H  cm_S\n",
       "cm_H  1560   440\n",
       "cm_S   429  1571"
      ]
     },
     "execution_count": 22,
     "metadata": {},
     "output_type": "execute_result"
    }
   ],
   "source": [
    "df_confusion_matrix"
   ]
  },
  {
   "cell_type": "markdown",
   "id": "d39ce40c",
   "metadata": {},
   "source": [
    "## Tracker les métriques"
   ]
  },
  {
   "cell_type": "markdown",
   "id": "f98725ba",
   "metadata": {},
   "source": [
    "* **N.B**:\n",
    "    * **Dans un terminal lancer la commande : mlflow ui**"
   ]
  },
  {
   "cell_type": "code",
   "execution_count": 23,
   "id": "2bd55276",
   "metadata": {},
   "outputs": [],
   "source": [
    "mlflow.set_experiment(experiment_name='Projet_A62')\n",
    "mlflow.set_tracking_uri(\"http://localhost:5000\")"
   ]
  },
  {
   "cell_type": "code",
   "execution_count": 25,
   "id": "8ac992e9",
   "metadata": {},
   "outputs": [],
   "source": [
    "with mlflow.start_run(nested=True) as run:\n",
    "    for idx, val in enumerate(sr_metrics):\n",
    "        mlflow.log_metric(\"_\".join(sr_metrics.index[idx]) ,val)\n",
    "    \n",
    "    mlflow.sklearn.log_model(model_rf, \"model\")\n",
    "    mlflow.set_tag(\"model_rf\", str(model_rf))"
   ]
  },
  {
   "cell_type": "code",
   "execution_count": 26,
   "id": "0085b84e",
   "metadata": {},
   "outputs": [],
   "source": [
    "# Sauvegarder le modèle\n",
    "os.makedirs(PATH_MODEL, exist_ok=True)\n",
    "utils.pickle_save(model_rf, PATH_MODEL + \"/\" + \"model_rf.pklz\")"
   ]
  },
  {
   "cell_type": "code",
   "execution_count": null,
   "id": "394802ea",
   "metadata": {},
   "outputs": [],
   "source": []
  },
  {
   "cell_type": "code",
   "execution_count": null,
   "id": "69c4dfc8",
   "metadata": {},
   "outputs": [],
   "source": []
  },
  {
   "cell_type": "markdown",
   "id": "31dbbfd5",
   "metadata": {},
   "source": [
    "### Courbe d'apprentissage"
   ]
  },
  {
   "cell_type": "code",
   "execution_count": 27,
   "id": "e1a34bb7",
   "metadata": {},
   "outputs": [],
   "source": [
    "def spot_overfit_needed_data(model, X_train, y_train, cv = 5, scoring= \"f1_macro\"):\n",
    "\n",
    "    N, train_score, val_score = learning_curve(model, X_train, y_train, cv = cv, \n",
    "                                               train_sizes =np.linspace(0.1, 1, 10),\n",
    "                                                scoring = scoring)\n",
    "\n",
    "    plt.figure(figsize=(12,8))\n",
    "    plt.grid()\n",
    "    axes = plt.gca()\n",
    "    axes.set_ylim([0.5,1.05])\n",
    "    plt.plot(N, train_score.mean(axis = 1), \"o-\", label = \"train_score\")\n",
    "    plt.plot(N, val_score.mean(axis = 1)  , \"o-\", label = \"validation_score\")\n",
    "    plt.legend()\n",
    "    plt.show()\n"
   ]
  },
  {
   "cell_type": "code",
   "execution_count": null,
   "id": "11eb5eda",
   "metadata": {},
   "outputs": [],
   "source": []
  },
  {
   "cell_type": "markdown",
   "id": "8b9a9edc",
   "metadata": {},
   "source": [
    "# Tests pour voir pourquoi le 100% train_score"
   ]
  },
  {
   "cell_type": "code",
   "execution_count": 28,
   "id": "2f062a99",
   "metadata": {},
   "outputs": [],
   "source": [
    "X_train = utils.pickle_read(PATH_MODEL + \"/\" + \"X_train.pklz\")\n",
    "X_test = utils.pickle_read(PATH_MODEL + \"/\" + \"X_test.pklz\")\n",
    "y_train = utils.pickle_read(PATH_MODEL + \"/\" + \"y_train.pklz\")\n",
    "y_test = utils.pickle_read(PATH_MODEL + \"/\" + \"y_test.pklz\")"
   ]
  },
  {
   "cell_type": "markdown",
   "id": "0a72ed2f",
   "metadata": {},
   "source": [
    "## tester les hyper-parametres"
   ]
  },
  {
   "cell_type": "code",
   "execution_count": 29,
   "id": "5dc2d05b",
   "metadata": {},
   "outputs": [],
   "source": [
    "from sklearn.metrics import roc_curve, roc_auc_score, auc"
   ]
  },
  {
   "cell_type": "code",
   "execution_count": 30,
   "id": "1682da39",
   "metadata": {},
   "outputs": [],
   "source": [
    "n_estimators = [1, 2, 4, 8, 16, 32, 64, 100, 200]"
   ]
  },
  {
   "cell_type": "code",
   "execution_count": 31,
   "id": "70cbde07",
   "metadata": {},
   "outputs": [
    {
     "name": "stderr",
     "output_type": "stream",
     "text": [
      "100%|████████████████████████████████████████████████████████████████████████████████████| 9/9 [01:41<00:00, 11.32s/it]\n"
     ]
    }
   ],
   "source": [
    "train_results = []\n",
    "test_results = []\n",
    "for estimator in tqdm(n_estimators):\n",
    "    model_rf = RandomForestClassifier(n_estimators=estimator, n_jobs=-1)\n",
    "    # entrainer le modele\n",
    "    model_rf.fit(X_train, y_train)\n",
    "    \n",
    "    # train set\n",
    "    # faire les prediciton des probas\n",
    "    rf_probas_train = model_rf.predict_proba(X_train)[:,1]\n",
    "    train_results.append(roc_auc_score(y_train, rf_probas_train))\n",
    "    \n",
    "    # test set\n",
    "    # faire les prediciton des probas\n",
    "    rf_probas_test  = model_rf.predict_proba(X_test)[:,1]    \n",
    "    test_results.append(roc_auc_score(y_test, rf_probas_test))"
   ]
  },
  {
   "cell_type": "code",
   "execution_count": 32,
   "id": "9928e3ab",
   "metadata": {},
   "outputs": [
    {
     "data": {
      "image/png": "[encoded data removed]",
      "text/plain": [
       "<Figure size 864x576 with 1 Axes>"
      ]
     },
     "metadata": {
      "needs_background": "light"
     },
     "output_type": "display_data"
    }
   ],
   "source": [
    "plt.figure(figsize=(12,8))\n",
    "plt.grid()\n",
    "plt.plot(n_estimators, train_results, label = \"train\")\n",
    "plt.plot(n_estimators, test_results,  label = \"test\")\n",
    "plt.xlabel('estimators', fontsize=18)\n",
    "plt.ylabel('roc_auc_score', fontsize=18)\n",
    "plt.show()"
   ]
  },
  {
   "cell_type": "code",
   "execution_count": 33,
   "id": "4c05e66b",
   "metadata": {},
   "outputs": [],
   "source": [
    "max_depths = np.linspace(1, 32, 32, endpoint=True)"
   ]
  },
  {
   "cell_type": "code",
   "execution_count": 35,
   "id": "b7a08308",
   "metadata": {},
   "outputs": [
    {
     "data": {
      "text/plain": [
       "array([ 1.,  2.,  3.,  4.,  5.,  6.,  7.,  8.,  9., 10., 11., 12., 13.,\n",
       "       14., 15., 16., 17., 18., 19., 20., 21., 22., 23., 24., 25., 26.,\n",
       "       27., 28., 29., 30., 31., 32.])"
      ]
     },
     "execution_count": 35,
     "metadata": {},
     "output_type": "execute_result"
    }
   ],
   "source": [
    "max_depths"
   ]
  },
  {
   "cell_type": "code",
   "execution_count": 36,
   "id": "1922de05",
   "metadata": {},
   "outputs": [
    {
     "name": "stderr",
     "output_type": "stream",
     "text": [
      "100%|██████████████████████████████████████████████████████████████████████████████████| 32/32 [06:59<00:00, 13.11s/it]\n"
     ]
    }
   ],
   "source": [
    "train_results = []\n",
    "test_results = []\n",
    "for max_depth in tqdm(max_depths):\n",
    "    model_rf = RandomForestClassifier(max_depth = max_depth, n_jobs=-1)\n",
    "    \n",
    "    # entrainer le modele\n",
    "    model_rf.fit(X_train, y_train)\n",
    "    \n",
    "    # train set\n",
    "    # faire les prediciton des probas\n",
    "    rf_probas_train = model_rf.predict_proba(X_train)[:,1]\n",
    "    train_results.append(roc_auc_score(y_train, rf_probas_train))\n",
    "    \n",
    "    # test set\n",
    "    # faire les prediciton des probas\n",
    "    rf_probas_test = model_rf.predict_proba(X_test)[:,1]\n",
    "    test_results.append(roc_auc_score(y_test, rf_probas_test))"
   ]
  },
  {
   "cell_type": "code",
   "execution_count": 37,
   "id": "2c3ffeea",
   "metadata": {},
   "outputs": [
    {
     "data": {
      "image/png": "[encoded data removed]",
      "text/plain": [
       "<Figure size 864x576 with 1 Axes>"
      ]
     },
     "metadata": {
      "needs_background": "light"
     },
     "output_type": "display_data"
    }
   ],
   "source": [
    "plt.figure(figsize=(12,8))\n",
    "plt.grid()\n",
    "plt.plot(max_depths, train_results, label = \"train\")\n",
    "plt.plot(max_depths, test_results,  label = \"test\")\n",
    "plt.xlabel('max_depth', fontsize=18)\n",
    "plt.ylabel('roc_auc_score', fontsize=18)\n",
    "plt.show()"
   ]
  },
  {
   "cell_type": "code",
   "execution_count": 38,
   "id": "4323e20a",
   "metadata": {},
   "outputs": [
    {
     "data": {
      "text/plain": [
       "RandomForestClassifier(max_depth=32, random_state=0)"
      ]
     },
     "execution_count": 38,
     "metadata": {},
     "output_type": "execute_result"
    }
   ],
   "source": [
    "model_rf05 = RandomForestClassifier(random_state=0, max_depth=5)\n",
    "model_rf15 = RandomForestClassifier(random_state=0, max_depth=15)\n",
    "model_rf32 = RandomForestClassifier(random_state=0, max_depth=32)\n",
    "model_rf05.fit(X_train, y_train)\n",
    "model_rf15.fit(X_train, y_train)\n",
    "model_rf32.fit(X_train, y_train)"
   ]
  },
  {
   "cell_type": "code",
   "execution_count": 39,
   "id": "fd83e900",
   "metadata": {},
   "outputs": [
    {
     "data": {
      "image/png": "[encoded data removed]",
      "text/plain": [
       "<Figure size 864x576 with 1 Axes>"
      ]
     },
     "metadata": {
      "needs_background": "light"
     },
     "output_type": "display_data"
    }
   ],
   "source": [
    "spot_overfit_needed_data(model_rf05, X_train, y_train)"
   ]
  },
  {
   "cell_type": "code",
   "execution_count": 40,
   "id": "3482839b",
   "metadata": {},
   "outputs": [
    {
     "data": {
      "image/png": "[encoded data removed]",
      "text/plain": [
       "<Figure size 864x576 with 1 Axes>"
      ]
     },
     "metadata": {
      "needs_background": "light"
     },
     "output_type": "display_data"
    }
   ],
   "source": [
    "spot_overfit_needed_data(model_rf15, X_train, y_train)"
   ]
  },
  {
   "cell_type": "code",
   "execution_count": 41,
   "id": "8686672c",
   "metadata": {},
   "outputs": [
    {
     "data": {
      "image/png": "[encoded data removed]",
      "text/plain": [
       "<Figure size 864x576 with 1 Axes>"
      ]
     },
     "metadata": {
      "needs_background": "light"
     },
     "output_type": "display_data"
    }
   ],
   "source": [
    "spot_overfit_needed_data(model_rf32, X_train, y_train)"
   ]
  },
  {
   "cell_type": "code",
   "execution_count": 42,
   "id": "fb4e70eb",
   "metadata": {},
   "outputs": [
    {
     "data": {
      "text/plain": [
       "RandomForestClassifier(random_state=0)"
      ]
     },
     "execution_count": 42,
     "metadata": {},
     "output_type": "execute_result"
    }
   ],
   "source": [
    "model_org = RandomForestClassifier(random_state = 0)\n",
    "model_org.fit(X_train, y_train)"
   ]
  },
  {
   "cell_type": "code",
   "execution_count": 43,
   "id": "f900a057",
   "metadata": {},
   "outputs": [
    {
     "data": {
      "image/png": "[encoded data removed]",
      "text/plain": [
       "<Figure size 864x576 with 1 Axes>"
      ]
     },
     "metadata": {
      "needs_background": "light"
     },
     "output_type": "display_data"
    }
   ],
   "source": [
    "spot_overfit_needed_data(model_org, X_train, y_train)"
   ]
  },
  {
   "cell_type": "markdown",
   "id": "c5700581",
   "metadata": {},
   "source": [
    "## Knn"
   ]
  },
  {
   "cell_type": "code",
   "execution_count": 44,
   "id": "4066c0c2",
   "metadata": {},
   "outputs": [],
   "source": [
    "from sklearn.neighbors import KNeighborsClassifier"
   ]
  },
  {
   "cell_type": "code",
   "execution_count": 45,
   "id": "6c2b23e9",
   "metadata": {},
   "outputs": [],
   "source": [
    "knn = KNeighborsClassifier()"
   ]
  },
  {
   "cell_type": "code",
   "execution_count": 46,
   "id": "d7d39377",
   "metadata": {},
   "outputs": [
    {
     "data": {
      "text/plain": [
       "KNeighborsClassifier()"
      ]
     },
     "execution_count": 46,
     "metadata": {},
     "output_type": "execute_result"
    }
   ],
   "source": [
    "knn.fit(X_train, y_train)"
   ]
  },
  {
   "cell_type": "code",
   "execution_count": 47,
   "id": "9cd764e0",
   "metadata": {},
   "outputs": [
    {
     "data": {
      "image/png": "[encoded data removed]",
      "text/plain": [
       "<Figure size 864x576 with 1 Axes>"
      ]
     },
     "metadata": {
      "needs_background": "light"
     },
     "output_type": "display_data"
    }
   ],
   "source": [
    "spot_overfit_needed_data(knn, X_train, y_train)"
   ]
  },
  {
   "cell_type": "code",
   "execution_count": null,
   "id": "cfcdcc89",
   "metadata": {},
   "outputs": [],
   "source": []
  }
 ],
 "metadata": {
  "colab": {
   "collapsed_sections": [],
   "name": "iteration_01_3_model_1.ipynb",
   "provenance": [
    {
     "file_id": "https://github.com/YounesZ/A62-EquipeCV/blob/feature-colab-integration/notebook/iteration_01_3_model_1.ipynb",
     "timestamp": 1637801011348
    }
   ]
  },
  "kernelspec": {
   "display_name": "Python 3",
   "language": "python",
   "name": "python3"
  },
  "language_info": {
   "codemirror_mode": {
    "name": "ipython",
    "version": 3
   },
   "file_extension": ".py",
   "mimetype": "text/x-python",
   "name": "python",
   "nbconvert_exporter": "python",
   "pygments_lexer": "ipython3",
   "version": "3.8.5"
  },
  "toc": {
   "base_numbering": 1,
   "nav_menu": {},
   "number_sections": true,
   "sideBar": true,
   "skip_h1_title": false,
   "title_cell": "Table of Contents",
   "title_sidebar": "Contents",
   "toc_cell": false,
   "toc_position": {},
   "toc_section_display": true,
   "toc_window_display": false
  }
 },
 "nbformat": 4,
 "nbformat_minor": 5
}
