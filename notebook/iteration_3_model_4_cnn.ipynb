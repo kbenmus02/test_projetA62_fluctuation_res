{
 "cells": [
  {
   "cell_type": "code",
   "execution_count": 1,
   "id": "ad865c85",
   "metadata": {},
   "outputs": [],
   "source": [
    "import import_ipynb"
   ]
  },
  {
   "cell_type": "code",
   "execution_count": 2,
   "id": "5a2ac324",
   "metadata": {},
   "outputs": [],
   "source": [
    "%run iteration_0_imports.py"
   ]
  },
  {
   "cell_type": "code",
   "execution_count": 3,
   "id": "e8567f07",
   "metadata": {},
   "outputs": [],
   "source": [
    "%run iteration_0_parameters.py"
   ]
  },
  {
   "cell_type": "code",
   "execution_count": 4,
   "id": "fcbd8b98",
   "metadata": {},
   "outputs": [
    {
     "name": "stdout",
     "output_type": "stream",
     "text": [
      "importing Jupyter notebook from iteration_0_utils.ipynb\n"
     ]
    }
   ],
   "source": [
    "import iteration_0_utils as utils"
   ]
  },
  {
   "cell_type": "code",
   "execution_count": 5,
   "id": "a411afe7",
   "metadata": {},
   "outputs": [
    {
     "name": "stdout",
     "output_type": "stream",
     "text": [
      "Variable                          Type        Data/Info\n",
      "-------------------------------------------------------\n",
      "HEALTHY                           str         H\n",
      "IMG_IN_COLOR                      int         1\n",
      "IMG_SIZE                          int         64\n",
      "Image                             module      <module 'PIL.Image' from <...>packages\\\\PIL\\\\Image.py'>\n",
      "NBR_SAMPLE                        int         20000\n",
      "PATH_DATA                         str         ../data\n",
      "PATH_DATA_EDA                     str         ../data/eda\n",
      "PATH_DATA_LIST                    str         ../data/list\n",
      "PATH_DATA_SAMPLE                  str         ../data/sample\n",
      "PATH_MODEL                        str         ../model\n",
      "PATH_ROOT                         str         ..\n",
      "PATH_SOURCE_IMG                   str         ../cell_images\n",
      "RandomForestClassifier            ABCMeta     <class 'sklearn.ensemble.<...>.RandomForestClassifier'>\n",
      "SICK                              str         S\n",
      "classification_report             function    <function classification_<...>rt at 0x000002245C20CC10>\n",
      "confusion_matrix                  function    <function confusion_matrix at 0x000002245C20C3A0>\n",
      "cv2                               module      <module 'cv2' from 'C:\\\\U<...>kages\\\\cv2\\\\__init__.py'>\n",
      "datetime                          type        <class 'datetime.datetime'>\n",
      "f1_score                          function    <function f1_score at 0x000002245C20C700>\n",
      "gc                                module      <module 'gc' (built-in)>\n",
      "glob                              module      <module 'glob' from 'C:\\\\<...>Anaconda3\\\\lib\\\\glob.py'>\n",
      "gzip                              module      <module 'gzip' from 'C:\\\\<...>Anaconda3\\\\lib\\\\gzip.py'>\n",
      "import_ipynb                      module      <module 'import_ipynb' fr<...>ckages\\\\import_ipynb.py'>\n",
      "learning_curve                    function    <function learning_curve at 0x000002245C3D8550>\n",
      "mlflow                            module      <module 'mlflow' from 'C:<...>es\\\\mlflow\\\\__init__.py'>\n",
      "np                                module      <module 'numpy' from 'C:\\<...>ges\\\\numpy\\\\__init__.py'>\n",
      "os                                module      <module 'os' from 'C:\\\\Te<...>\\\\Anaconda3\\\\lib\\\\os.py'>\n",
      "pd                                module      <module 'pandas' from 'C:<...>es\\\\pandas\\\\__init__.py'>\n",
      "pickle                            module      <module 'pickle' from 'C:<...>aconda3\\\\lib\\\\pickle.py'>\n",
      "plt                               module      <module 'matplotlib.pyplo<...>\\\\matplotlib\\\\pyplot.py'>\n",
      "precision_recall_fscore_support   function    <function precision_recal<...>rt at 0x000002245C20C9D0>\n",
      "random                            module      <module 'random' from 'C:<...>aconda3\\\\lib\\\\random.py'>\n",
      "sns                               module      <module 'seaborn' from 'C<...>s\\\\seaborn\\\\__init__.py'>\n",
      "sp                                module      <module 'scipy.sparse' fr<...>py\\\\sparse\\\\__init__.py'>\n",
      "tqdm                              type        <class 'tqdm.std.tqdm'>\n",
      "train_test_split                  function    <function train_test_split at 0x000002245C3D38B0>\n",
      "utils                             module      <module 'iteration_0_util<...> at 0x000002245FE6CEB0>)>\n"
     ]
    }
   ],
   "source": [
    "%whos"
   ]
  },
  {
   "cell_type": "markdown",
   "id": "01fa02d1",
   "metadata": {},
   "source": [
    "# make X, y"
   ]
  },
  {
   "cell_type": "code",
   "execution_count": 6,
   "id": "98fd2f38",
   "metadata": {},
   "outputs": [],
   "source": [
    "DATE_TIME = \"2021-11-18_20-39-00\""
   ]
  },
  {
   "cell_type": "code",
   "execution_count": 7,
   "id": "0cd663ae",
   "metadata": {},
   "outputs": [],
   "source": [
    "# get list \n",
    "list_path_sample_img = []\n",
    "list_path_sample_img.extend(glob.glob(PATH_DATA_SAMPLE+\"/\"+DATE_TIME+ \"/\"+ \"*.pklz\"))"
   ]
  },
  {
   "cell_type": "code",
   "execution_count": 8,
   "id": "0cdf411e",
   "metadata": {},
   "outputs": [],
   "source": [
    "# split train, validation, test set\n",
    "list_path_sample_img_train, list_path_sample_img_test  = train_test_split(list_path_sample_img, test_size=0.2)\n",
    "list_path_sample_img_train, list_path_sample_img_valid = train_test_split(list_path_sample_img_train, test_size=0.2)"
   ]
  },
  {
   "cell_type": "code",
   "execution_count": 9,
   "id": "3d9609f4",
   "metadata": {},
   "outputs": [],
   "source": [
    "def make_Xy(list_path_sample_img: list) -> (np.array, np.array):\n",
    "    X = np.ndarray( (len(list_path_sample_img), IMG_SIZE, IMG_SIZE, 3) ,dtype = \"float16\")\n",
    "    y = np.array([\"\"] * len(list_path_sample_img))\n",
    "    for i, path in tqdm(enumerate(list_path_sample_img)):\n",
    "        \n",
    "        X[i] = utils.pickle_read(path).astype(\"float16\")\n",
    "    \n",
    "        _, file_name, _ = utils.split_file_info(path)\n",
    "        y[i] = file_name[0]\n",
    "    \n",
    "    return X, y\n",
    "    "
   ]
  },
  {
   "cell_type": "code",
   "execution_count": 10,
   "id": "5a72ecd5",
   "metadata": {},
   "outputs": [
    {
     "name": "stderr",
     "output_type": "stream",
     "text": [
      "12800it [00:09, 1318.14it/s]\n"
     ]
    }
   ],
   "source": [
    "X_train, y_train  = make_Xy(list_path_sample_img_train)"
   ]
  },
  {
   "cell_type": "code",
   "execution_count": 11,
   "id": "d64f68a2",
   "metadata": {},
   "outputs": [
    {
     "name": "stderr",
     "output_type": "stream",
     "text": [
      "3200it [00:02, 1250.76it/s]\n"
     ]
    }
   ],
   "source": [
    "X_valid, y_valid  = make_Xy(list_path_sample_img_valid)"
   ]
  },
  {
   "cell_type": "code",
   "execution_count": 12,
   "id": "302ca734",
   "metadata": {},
   "outputs": [
    {
     "name": "stderr",
     "output_type": "stream",
     "text": [
      "4000it [00:03, 1298.23it/s]\n"
     ]
    }
   ],
   "source": [
    "X_test, y_test  = make_Xy(list_path_sample_img_test)"
   ]
  },
  {
   "cell_type": "markdown",
   "id": "7a92fdbe",
   "metadata": {},
   "source": [
    "# model_cnn"
   ]
  },
  {
   "cell_type": "markdown",
   "id": "632aae0e",
   "metadata": {},
   "source": [
    "* Ref: https://towardsdatascience.com/detecting-malaria-with-deep-learning-9e45c1e34b60\n",
    "* https://towardsdatascience.com/understanding-and-calculating-the-number-of-parameters-in-convolution-neural-networks-cnns-fc88790d530d"
   ]
  },
  {
   "cell_type": "code",
   "execution_count": 13,
   "id": "54860013",
   "metadata": {},
   "outputs": [],
   "source": [
    "BATCH_SIZE = 500\n",
    "NUM_CLASSES = 2\n",
    "EPOCHS = 25\n",
    "INPUT_SHAPE = (IMG_SIZE, IMG_SIZE, 3)"
   ]
  },
  {
   "cell_type": "code",
   "execution_count": 14,
   "id": "19b6ac0e",
   "metadata": {},
   "outputs": [],
   "source": [
    "# Encoder y\n",
    "from sklearn.preprocessing import LabelEncoder"
   ]
  },
  {
   "cell_type": "code",
   "execution_count": 15,
   "id": "8d776d9a",
   "metadata": {},
   "outputs": [],
   "source": [
    "le = LabelEncoder()"
   ]
  },
  {
   "cell_type": "code",
   "execution_count": 16,
   "id": "c9b79033",
   "metadata": {},
   "outputs": [],
   "source": [
    "y_train_enc = le.fit_transform(y_train)"
   ]
  },
  {
   "cell_type": "code",
   "execution_count": 17,
   "id": "ec7bc157",
   "metadata": {},
   "outputs": [],
   "source": [
    "y_valid_enc = le.transform(y_valid)\n",
    "y_test_enc  = le.transform(y_test)"
   ]
  },
  {
   "cell_type": "code",
   "execution_count": 18,
   "id": "112be444",
   "metadata": {},
   "outputs": [
    {
     "data": {
      "text/plain": [
       "array(['H', 'S'], dtype='<U1')"
      ]
     },
     "execution_count": 18,
     "metadata": {},
     "output_type": "execute_result"
    }
   ],
   "source": [
    "le.classes_"
   ]
  },
  {
   "cell_type": "code",
   "execution_count": 19,
   "id": "b34eb630",
   "metadata": {},
   "outputs": [],
   "source": [
    "#!pip uninstall tensorflow"
   ]
  },
  {
   "cell_type": "markdown",
   "id": "65f8c2d4",
   "metadata": {},
   "source": [
    "Créer un fichier .reg avec les instructions suivantes :\n",
    "\n",
    "===\n",
    "\n",
    "Windows Registry Editor Version 5.00\n",
    "\n",
    "[HKEY_LOCAL_MACHINE\\SYSTEM\\CurrentControlSet\\Control\\FileSystem]\n",
    "\"LongPathsEnabled\"=dword:00000001\n",
    "\n",
    "---\n",
    "\n",
    "Exécuter le .reg"
   ]
  },
  {
   "cell_type": "code",
   "execution_count": 20,
   "id": "646e9ab2",
   "metadata": {},
   "outputs": [],
   "source": [
    "#!pip install tensorflow"
   ]
  },
  {
   "cell_type": "code",
   "execution_count": 21,
   "id": "62add767",
   "metadata": {},
   "outputs": [],
   "source": [
    "import tensorflow as tf"
   ]
  },
  {
   "cell_type": "code",
   "execution_count": 22,
   "id": "5fc97c10",
   "metadata": {},
   "outputs": [],
   "source": [
    "from keras.models import Sequential"
   ]
  },
  {
   "cell_type": "code",
   "execution_count": 23,
   "id": "8798a5a5",
   "metadata": {},
   "outputs": [],
   "source": [
    "#assert False"
   ]
  },
  {
   "cell_type": "code",
   "execution_count": 24,
   "id": "4c7f239d",
   "metadata": {},
   "outputs": [],
   "source": [
    "def plot_history(history):\n",
    "    plt.figure(figsize=(16,9))\n",
    "    # plot loss\n",
    "    plt.subplot(211)\n",
    "    plt.grid()\n",
    "    plt.title('binary_crossentropy')\n",
    "    plt.plot(history.history['loss'], \"o-\", color='blue', label='train')\n",
    "    plt.plot(history.history['val_loss'], \"o-\", color='orange', label='validation')\n",
    "    plt.legend()    \n",
    "    # plot accuracy\n",
    "    plt.subplot(212)\n",
    "    plt.grid()\n",
    "    plt.title('Classification Accuracy')\n",
    "    plt.plot(history.history['accuracy'], \"o-\",color='blue', label='train')\n",
    "    plt.plot(history.history['val_accuracy'], \"o-\",color='orange', label='validation')\n",
    "    plt.legend()\n",
    "    plt.show()"
   ]
  },
  {
   "cell_type": "code",
   "execution_count": 25,
   "id": "13778f5c",
   "metadata": {},
   "outputs": [],
   "source": [
    "model_cnn_4 = Sequential()\n",
    "model_cnn_4.add(tf.keras.layers.Input(name = \"input\", shape=INPUT_SHAPE))\n",
    "model_cnn_4.add(tf.keras.layers.Conv2D(name = \"conv2D\",\n",
    "                                     filters=32,\n",
    "                                     kernel_size=(3,3),\n",
    "                                     activation=\"LeakyReLU\",\n",
    "                                     padding=\"same\",\n",
    "                                     kernel_initializer=\"he_uniform\"\n",
    "                                    ))\n",
    "model_cnn_4.add(tf.keras.layers.MaxPooling2D(name=\"pooling\", pool_size=(2,2)))\n",
    "model_cnn_4.add(tf.keras.layers.Conv2D(name = \"conv2D_2\",\n",
    "                                     filters=64,\n",
    "                                     kernel_size=(3,3),\n",
    "                                     activation=\"LeakyReLU\",\n",
    "                                     padding=\"same\",\n",
    "                                     kernel_initializer=\"he_uniform\"\n",
    "                                    ))\n",
    "model_cnn_4.add(tf.keras.layers.MaxPooling2D(name=\"pooling_2\", pool_size=(2,2)))\n",
    "model_cnn_4.add(tf.keras.layers.Flatten(name=\"flatten\"))\n",
    "model_cnn_4.add(tf.keras.layers.Dense(name=\"dense_hidden\", units = 256, activation=\"LeakyReLU\",\n",
    "                                    kernel_initializer=\"he_uniform\" ))\n",
    "model_cnn_4.add(tf.keras.layers.Dense(name=\"dense_hidden_2\", units = 128, activation=\"LeakyReLU\",\n",
    "                                    kernel_initializer=\"he_uniform\" ))\n",
    "model_cnn_4.add(tf.keras.layers.Dense(name=\"ouput\", units = 1, activation=\"sigmoid\"))\n"
   ]
  },
  {
   "cell_type": "code",
   "execution_count": 26,
   "id": "29ac772c",
   "metadata": {},
   "outputs": [],
   "source": [
    "# compiler modele\n",
    "model_cnn_4.compile(optimizer = \"adam\", loss =\"binary_crossentropy\", metrics=[\"accuracy\"])"
   ]
  },
  {
   "cell_type": "code",
   "execution_count": 27,
   "id": "2d4567cc",
   "metadata": {},
   "outputs": [
    {
     "name": "stdout",
     "output_type": "stream",
     "text": [
      "Model: \"sequential\"\n",
      "_________________________________________________________________\n",
      " Layer (type)                Output Shape              Param #   \n",
      "=================================================================\n",
      " conv2D (Conv2D)             (None, 64, 64, 32)        896       \n",
      "                                                                 \n",
      " pooling (MaxPooling2D)      (None, 32, 32, 32)        0         \n",
      "                                                                 \n",
      " conv2D_2 (Conv2D)           (None, 32, 32, 64)        18496     \n",
      "                                                                 \n",
      " pooling_2 (MaxPooling2D)    (None, 16, 16, 64)        0         \n",
      "                                                                 \n",
      " flatten (Flatten)           (None, 16384)             0         \n",
      "                                                                 \n",
      " dense_hidden (Dense)        (None, 256)               4194560   \n",
      "                                                                 \n",
      " dense_hidden_2 (Dense)      (None, 128)               32896     \n",
      "                                                                 \n",
      " ouput (Dense)               (None, 1)                 129       \n",
      "                                                                 \n",
      "=================================================================\n",
      "Total params: 4,246,977\n",
      "Trainable params: 4,246,977\n",
      "Non-trainable params: 0\n",
      "_________________________________________________________________\n"
     ]
    }
   ],
   "source": [
    "model_cnn_4.summary()"
   ]
  },
  {
   "cell_type": "code",
   "execution_count": 28,
   "id": "7d599c42",
   "metadata": {},
   "outputs": [
    {
     "data": {
      "text/plain": [
       "(12800, 64, 64, 3)"
      ]
     },
     "execution_count": 28,
     "metadata": {},
     "output_type": "execute_result"
    }
   ],
   "source": [
    "X_train.shape"
   ]
  },
  {
   "cell_type": "code",
   "execution_count": 29,
   "id": "798ad53a",
   "metadata": {},
   "outputs": [],
   "source": [
    "from tensorflow.keras.preprocessing.image import ImageDataGenerator"
   ]
  },
  {
   "cell_type": "code",
   "execution_count": 30,
   "id": "4b4bfe3a",
   "metadata": {},
   "outputs": [],
   "source": [
    "aug = ImageDataGenerator(rotation_range=359, \\\n",
    "                         zoom_range=0.15, \\\n",
    "                         width_shift_range=0.2, height_shift_range=0.2, \\\n",
    "                         shear_range=0.15, \\\n",
    "                         horizontal_flip=True, \\\n",
    "                         vertical_flip=True, \\\n",
    "                         fill_mode=\"nearest\")"
   ]
  },
  {
   "cell_type": "code",
   "execution_count": 31,
   "id": "da858520",
   "metadata": {},
   "outputs": [
    {
     "data": {
      "text/plain": [
       "\"\\nmodel.fit(datagen.flow(x_train, y_train, batch_size=32,\\n         subset='training'),\\n         validation_data=datagen.flow(x_train, y_train,\\n         batch_size=8, subset='validation'),\\n         steps_per_epoch=len(x_train) / 32, epochs=epochs)\\n\""
      ]
     },
     "execution_count": 31,
     "metadata": {},
     "output_type": "execute_result"
    }
   ],
   "source": [
    "\"\"\"\n",
    "model.fit(datagen.flow(x_train, y_train, batch_size=32,\n",
    "         subset='training'),\n",
    "         validation_data=datagen.flow(x_train, y_train,\n",
    "         batch_size=8, subset='validation'),\n",
    "         steps_per_epoch=len(x_train) / 32, epochs=epochs)\n",
    "\"\"\""
   ]
  },
  {
   "cell_type": "code",
   "execution_count": 32,
   "id": "3740d074",
   "metadata": {},
   "outputs": [
    {
     "name": "stdout",
     "output_type": "stream",
     "text": [
      "Epoch 1/25\n",
      "25/25 [==============================] - 37s 1s/step - loss: 1.9781 - accuracy: 0.5324 - val_loss: 0.6667 - val_accuracy: 0.6078\n",
      "Epoch 2/25\n",
      "25/25 [==============================] - 34s 1s/step - loss: 0.6506 - accuracy: 0.6237 - val_loss: 0.6515 - val_accuracy: 0.6306\n",
      "Epoch 3/25\n",
      "25/25 [==============================] - 34s 1s/step - loss: 0.6310 - accuracy: 0.6515 - val_loss: 0.6179 - val_accuracy: 0.6803\n",
      "Epoch 4/25\n",
      "25/25 [==============================] - 34s 1s/step - loss: 0.6166 - accuracy: 0.6730 - val_loss: 0.6033 - val_accuracy: 0.6950\n",
      "Epoch 5/25\n",
      "25/25 [==============================] - 34s 1s/step - loss: 0.6074 - accuracy: 0.6789 - val_loss: 0.6211 - val_accuracy: 0.6616\n",
      "Epoch 6/25\n",
      "25/25 [==============================] - 34s 1s/step - loss: 0.6091 - accuracy: 0.6708 - val_loss: 0.5917 - val_accuracy: 0.6875\n",
      "Epoch 7/25\n",
      "25/25 [==============================] - 34s 1s/step - loss: 0.5843 - accuracy: 0.6964 - val_loss: 0.5585 - val_accuracy: 0.7231\n",
      "Epoch 8/25\n",
      "25/25 [==============================] - 34s 1s/step - loss: 0.5692 - accuracy: 0.7070 - val_loss: 0.6002 - val_accuracy: 0.6847\n",
      "Epoch 9/25\n",
      "25/25 [==============================] - 34s 1s/step - loss: 0.5617 - accuracy: 0.7098 - val_loss: 0.5562 - val_accuracy: 0.7266\n",
      "Epoch 10/25\n",
      "25/25 [==============================] - 34s 1s/step - loss: 0.5445 - accuracy: 0.7307 - val_loss: 0.5092 - val_accuracy: 0.7528\n",
      "Epoch 11/25\n",
      "25/25 [==============================] - 34s 1s/step - loss: 0.5043 - accuracy: 0.7542 - val_loss: 0.5135 - val_accuracy: 0.7531\n",
      "Epoch 12/25\n",
      "25/25 [==============================] - 34s 1s/step - loss: 0.4977 - accuracy: 0.7626 - val_loss: 0.4941 - val_accuracy: 0.7547\n",
      "Epoch 13/25\n",
      "25/25 [==============================] - 36s 1s/step - loss: 0.4742 - accuracy: 0.7771 - val_loss: 0.4425 - val_accuracy: 0.7978\n",
      "Epoch 14/25\n",
      "25/25 [==============================] - 35s 1s/step - loss: 0.4524 - accuracy: 0.7904 - val_loss: 0.4284 - val_accuracy: 0.8022\n",
      "Epoch 15/25\n",
      "25/25 [==============================] - 35s 1s/step - loss: 0.4594 - accuracy: 0.7895 - val_loss: 0.4336 - val_accuracy: 0.8059\n",
      "Epoch 16/25\n",
      "25/25 [==============================] - 35s 1s/step - loss: 0.4260 - accuracy: 0.8081 - val_loss: 0.4325 - val_accuracy: 0.7922\n",
      "Epoch 17/25\n",
      "25/25 [==============================] - 36s 1s/step - loss: 0.4208 - accuracy: 0.8115 - val_loss: 0.4054 - val_accuracy: 0.8225\n",
      "Epoch 18/25\n",
      "25/25 [==============================] - 37s 1s/step - loss: 0.3844 - accuracy: 0.8384 - val_loss: 0.4643 - val_accuracy: 0.7647\n",
      "Epoch 19/25\n",
      "25/25 [==============================] - 36s 1s/step - loss: 0.4768 - accuracy: 0.7876 - val_loss: 0.4409 - val_accuracy: 0.7934\n",
      "Epoch 20/25\n",
      "25/25 [==============================] - 34s 1s/step - loss: 0.3795 - accuracy: 0.8380 - val_loss: 0.3616 - val_accuracy: 0.8487\n",
      "Epoch 21/25\n",
      "25/25 [==============================] - 34s 1s/step - loss: 0.3588 - accuracy: 0.8471 - val_loss: 0.3434 - val_accuracy: 0.8553\n",
      "Epoch 22/25\n",
      "25/25 [==============================] - 34s 1s/step - loss: 0.3440 - accuracy: 0.8538 - val_loss: 0.3448 - val_accuracy: 0.8559\n",
      "Epoch 23/25\n",
      "25/25 [==============================] - 34s 1s/step - loss: 0.3464 - accuracy: 0.8562 - val_loss: 0.3950 - val_accuracy: 0.8288\n",
      "Epoch 24/25\n",
      "25/25 [==============================] - 34s 1s/step - loss: 0.3618 - accuracy: 0.8472 - val_loss: 0.3276 - val_accuracy: 0.8619\n",
      "Epoch 25/25\n",
      "25/25 [==============================] - 34s 1s/step - loss: 0.3187 - accuracy: 0.8740 - val_loss: 0.3149 - val_accuracy: 0.8794\n"
     ]
    }
   ],
   "source": [
    "# Image de validation augmentées aussi par erreur.\n",
    "history_4 = model_cnn_4.fit( \\\n",
    "                            aug.flow(X_train, y_train_enc, batch_size=BATCH_SIZE, subset=None), \\\n",
    "                            validation_data = aug.flow(X_valid, y_valid_enc, subset=None), \\\n",
    "                            steps_per_epoch = len(X_train) // BATCH_SIZE, \\\n",
    "                            epochs = EPOCHS\n",
    "                        )"
   ]
  },
  {
   "cell_type": "code",
   "execution_count": 33,
   "id": "f66935fa",
   "metadata": {},
   "outputs": [
    {
     "data": {
      "image/png": "[encoded data removed]",
      "text/plain": [
       "<Figure size 1152x648 with 2 Axes>"
      ]
     },
     "metadata": {
      "needs_background": "light"
     },
     "output_type": "display_data"
    }
   ],
   "source": [
    "plot_history(history_4)"
   ]
  },
  {
   "cell_type": "code",
   "execution_count": 34,
   "id": "0157bda9",
   "metadata": {},
   "outputs": [
    {
     "data": {
      "text/plain": [
       "25"
      ]
     },
     "execution_count": 34,
     "metadata": {},
     "output_type": "execute_result"
    }
   ],
   "source": [
    "len(X_train) // BATCH_SIZE"
   ]
  },
  {
   "cell_type": "code",
   "execution_count": 36,
   "id": "a027317f",
   "metadata": {},
   "outputs": [
    {
     "data": {
      "text/plain": [
       "'\\nhistory_4 = model_cnn_4.fit_generator(                             aug.flow(X_train, y_train_enc, batch_size=BATCH_SIZE, subset=None),                             validation_data = (X_valid, y_valid_enc),                             steps_per_epoch = len(X_train) // BATCH_SIZE,                             epochs = EPOCHS\\n                        )\\n'"
      ]
     },
     "execution_count": 36,
     "metadata": {},
     "output_type": "execute_result"
    }
   ],
   "source": [
    "\"\"\"\n",
    "history_4 = model_cnn_4.fit_generator( \\\n",
    "                            aug.flow(X_train, y_train_enc, batch_size=BATCH_SIZE, subset=None), \\\n",
    "                            validation_data = (X_valid, y_valid_enc), \\\n",
    "                            steps_per_epoch = len(X_train) // BATCH_SIZE, \\\n",
    "                            epochs = EPOCHS\n",
    "                        )\n",
    "\"\"\""
   ]
  },
  {
   "cell_type": "code",
   "execution_count": 37,
   "id": "9ceb5469",
   "metadata": {},
   "outputs": [],
   "source": [
    "#plot_history(history_4)"
   ]
  },
  {
   "cell_type": "code",
   "execution_count": 38,
   "id": "411b0e0b",
   "metadata": {},
   "outputs": [
    {
     "name": "stdout",
     "output_type": "stream",
     "text": [
      "Epoch 1/25\n",
      "25/25 [==============================] - 32s 1s/step - loss: 0.3065 - accuracy: 0.8811 - val_loss: 0.3426 - val_accuracy: 0.8641\n",
      "Epoch 2/25\n",
      "25/25 [==============================] - 32s 1s/step - loss: 0.2837 - accuracy: 0.8901 - val_loss: 0.3494 - val_accuracy: 0.8475\n",
      "Epoch 3/25\n",
      "25/25 [==============================] - 32s 1s/step - loss: 0.2810 - accuracy: 0.8923 - val_loss: 0.2296 - val_accuracy: 0.9141\n",
      "Epoch 4/25\n",
      "25/25 [==============================] - 32s 1s/step - loss: 0.2744 - accuracy: 0.8940 - val_loss: 0.2030 - val_accuracy: 0.9247\n",
      "Epoch 5/25\n",
      "25/25 [==============================] - 32s 1s/step - loss: 0.2685 - accuracy: 0.8966 - val_loss: 0.2066 - val_accuracy: 0.9234\n",
      "Epoch 6/25\n",
      "25/25 [==============================] - 32s 1s/step - loss: 0.2619 - accuracy: 0.8991 - val_loss: 0.2024 - val_accuracy: 0.9294\n",
      "Epoch 7/25\n",
      "25/25 [==============================] - 32s 1s/step - loss: 0.2655 - accuracy: 0.8989 - val_loss: 0.2222 - val_accuracy: 0.9216\n",
      "Epoch 8/25\n",
      "25/25 [==============================] - 32s 1s/step - loss: 0.2510 - accuracy: 0.9068 - val_loss: 0.2109 - val_accuracy: 0.9244\n",
      "Epoch 9/25\n",
      "25/25 [==============================] - 32s 1s/step - loss: 0.2464 - accuracy: 0.9060 - val_loss: 0.2251 - val_accuracy: 0.9181\n",
      "Epoch 10/25\n",
      "25/25 [==============================] - 33s 1s/step - loss: 0.2512 - accuracy: 0.9038 - val_loss: 0.2204 - val_accuracy: 0.9191\n",
      "Epoch 11/25\n",
      "25/25 [==============================] - 32s 1s/step - loss: 0.2623 - accuracy: 0.8998 - val_loss: 0.2283 - val_accuracy: 0.9131\n",
      "Epoch 12/25\n",
      "25/25 [==============================] - 34s 1s/step - loss: 0.2564 - accuracy: 0.9003 - val_loss: 0.1877 - val_accuracy: 0.9309\n",
      "Epoch 13/25\n",
      "25/25 [==============================] - 35s 1s/step - loss: 0.2944 - accuracy: 0.8866 - val_loss: 0.2548 - val_accuracy: 0.8994\n",
      "Epoch 14/25\n",
      "25/25 [==============================] - 34s 1s/step - loss: 0.2658 - accuracy: 0.8964 - val_loss: 0.2561 - val_accuracy: 0.9103\n",
      "Epoch 15/25\n",
      "25/25 [==============================] - 33s 1s/step - loss: 0.2490 - accuracy: 0.9067 - val_loss: 0.2534 - val_accuracy: 0.8997\n",
      "Epoch 16/25\n",
      "25/25 [==============================] - 35s 1s/step - loss: 0.2428 - accuracy: 0.9096 - val_loss: 0.1975 - val_accuracy: 0.9281\n",
      "Epoch 17/25\n",
      "25/25 [==============================] - 35s 1s/step - loss: 0.2645 - accuracy: 0.8999 - val_loss: 0.2636 - val_accuracy: 0.8988\n",
      "Epoch 18/25\n",
      "25/25 [==============================] - 36s 1s/step - loss: 0.2482 - accuracy: 0.9052 - val_loss: 0.2029 - val_accuracy: 0.9244\n",
      "Epoch 19/25\n",
      "25/25 [==============================] - 35s 1s/step - loss: 0.2337 - accuracy: 0.9149 - val_loss: 0.1899 - val_accuracy: 0.9334\n",
      "Epoch 20/25\n",
      "25/25 [==============================] - 34s 1s/step - loss: 0.2388 - accuracy: 0.9095 - val_loss: 0.2164 - val_accuracy: 0.9162\n",
      "Epoch 21/25\n",
      "25/25 [==============================] - 34s 1s/step - loss: 0.2495 - accuracy: 0.9068 - val_loss: 0.2000 - val_accuracy: 0.9234\n",
      "Epoch 22/25\n",
      "25/25 [==============================] - 34s 1s/step - loss: 0.2316 - accuracy: 0.9126 - val_loss: 0.2031 - val_accuracy: 0.9256\n",
      "Epoch 23/25\n",
      "25/25 [==============================] - 34s 1s/step - loss: 0.2297 - accuracy: 0.9126 - val_loss: 0.2434 - val_accuracy: 0.9034\n",
      "Epoch 24/25\n",
      "25/25 [==============================] - 33s 1s/step - loss: 0.2308 - accuracy: 0.9151 - val_loss: 0.2889 - val_accuracy: 0.8800\n",
      "Epoch 25/25\n",
      "25/25 [==============================] - 34s 1s/step - loss: 0.2334 - accuracy: 0.9122 - val_loss: 0.2011 - val_accuracy: 0.9228\n"
     ]
    }
   ],
   "source": [
    "history_4 = model_cnn_4.fit( \\\n",
    "                            aug.flow(X_train, y_train_enc, batch_size=BATCH_SIZE, subset=None), \\\n",
    "                            validation_data = (X_valid, y_valid_enc), \\\n",
    "                            steps_per_epoch = len(X_train) // BATCH_SIZE, \\\n",
    "                            epochs = EPOCHS\n",
    "                        )"
   ]
  },
  {
   "cell_type": "code",
   "execution_count": 39,
   "id": "fbaf07ed",
   "metadata": {},
   "outputs": [
    {
     "data": {
      "image/png": "[encoded data removed]",
      "text/plain": [
       "<Figure size 1152x648 with 2 Axes>"
      ]
     },
     "metadata": {
      "needs_background": "light"
     },
     "output_type": "display_data"
    }
   ],
   "source": [
    "plot_history(history_4)"
   ]
  },
  {
   "cell_type": "code",
   "execution_count": null,
   "id": "9f6956d6",
   "metadata": {},
   "outputs": [],
   "source": [
    "#model_cnn_4.save(PATH_MODEL + \"/model_cnn_4.h5\")"
   ]
  },
  {
   "cell_type": "markdown",
   "id": "b98a41c7",
   "metadata": {},
   "source": [
    "Keras avec GPU AMD\n",
    "https://medium.com/@Vatsal410/keras-without-nvidia-gpus-with-plaidml-and-amd-gpu-4ba6f60025ce"
   ]
  }
 ],
 "metadata": {
  "kernelspec": {
   "display_name": "keras",
   "language": "python",
   "name": "keras"
  },
  "language_info": {
   "codemirror_mode": {
    "name": "ipython",
    "version": 3
   },
   "file_extension": ".py",
   "mimetype": "text/x-python",
   "name": "python",
   "nbconvert_exporter": "python",
   "pygments_lexer": "ipython3",
   "version": "3.8.5"
  },
  "toc": {
   "base_numbering": 1,
   "nav_menu": {},
   "number_sections": true,
   "sideBar": true,
   "skip_h1_title": false,
   "title_cell": "Table of Contents",
   "title_sidebar": "Contents",
   "toc_cell": false,
   "toc_position": {
    "height": "calc(100% - 180px)",
    "left": "10px",
    "top": "150px",
    "width": "349.091px"
   },
   "toc_section_display": true,
   "toc_window_display": true
  }
 },
 "nbformat": 4,
 "nbformat_minor": 5
}
