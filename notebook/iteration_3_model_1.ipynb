{
 "cells": [
  {
   "cell_type": "code",
   "execution_count": 1,
   "id": "2436cd61",
   "metadata": {
    "colab": {
     "base_uri": "https://localhost:8080/"
    },
    "executionInfo": {
     "elapsed": 1171,
     "status": "ok",
     "timestamp": 1638109713407,
     "user": {
      "displayName": "Rene MAROT",
      "photoUrl": "https://lh3.googleusercontent.com/a/default-user=s64",
      "userId": "11976636736374307912"
     },
     "user_tz": 300
    },
    "id": "mWbT3ByGjWVq",
    "outputId": "e3e30821-7ca9-4395-c794-46c005e5c125"
   },
   "outputs": [],
   "source": [
    "# from google.colab import drive\n",
    "# drive.mount('/content/drive',force_remount=True)"
   ]
  },
  {
   "cell_type": "code",
   "execution_count": 2,
   "id": "91ff2834",
   "metadata": {
    "colab": {
     "base_uri": "https://localhost:8080/"
    },
    "executionInfo": {
     "elapsed": 3134,
     "status": "ok",
     "timestamp": 1638109716538,
     "user": {
      "displayName": "Rene MAROT",
      "photoUrl": "https://lh3.googleusercontent.com/a/default-user=s64",
      "userId": "11976636736374307912"
     },
     "user_tz": 300
    },
    "id": "4nywuULljavL",
    "outputId": "99fdc144-63f3-43d0-9960-666fc90947b4"
   },
   "outputs": [],
   "source": [
    "# !pip install import-ipynb"
   ]
  },
  {
   "cell_type": "code",
   "execution_count": 3,
   "id": "4529f853",
   "metadata": {
    "executionInfo": {
     "elapsed": 6,
     "status": "ok",
     "timestamp": 1638109716538,
     "user": {
      "displayName": "Rene MAROT",
      "photoUrl": "https://lh3.googleusercontent.com/a/default-user=s64",
      "userId": "11976636736374307912"
     },
     "user_tz": 300
    },
    "id": "2Q53jFqrjguA"
   },
   "outputs": [],
   "source": [
    "import import_ipynb"
   ]
  },
  {
   "cell_type": "code",
   "execution_count": 4,
   "id": "9b6fd9c8",
   "metadata": {
    "colab": {
     "base_uri": "https://localhost:8080/"
    },
    "executionInfo": {
     "elapsed": 7,
     "status": "ok",
     "timestamp": 1638109716539,
     "user": {
      "displayName": "Rene MAROT",
      "photoUrl": "https://lh3.googleusercontent.com/a/default-user=s64",
      "userId": "11976636736374307912"
     },
     "user_tz": 300
    },
    "id": "PL4y3jX7jhq5",
    "outputId": "0c604956-5ba6-4e95-c50b-95083a87393a"
   },
   "outputs": [],
   "source": [
    "# %cd /content/drive/MyDrive/A62_projet_synthese_feature/feature-colab-from-git/notebook"
   ]
  },
  {
   "cell_type": "code",
   "execution_count": 5,
   "id": "a87d640f",
   "metadata": {
    "executionInfo": {
     "elapsed": 422,
     "status": "ok",
     "timestamp": 1638109716957,
     "user": {
      "displayName": "Rene MAROT",
      "photoUrl": "https://lh3.googleusercontent.com/a/default-user=s64",
      "userId": "11976636736374307912"
     },
     "user_tz": 300
    },
    "id": "tutorial-remainder"
   },
   "outputs": [],
   "source": [
    "%run iteration_0_imports.py"
   ]
  },
  {
   "cell_type": "code",
   "execution_count": 6,
   "id": "6abd4c00",
   "metadata": {
    "executionInfo": {
     "elapsed": 11,
     "status": "ok",
     "timestamp": 1638109716960,
     "user": {
      "displayName": "Rene MAROT",
      "photoUrl": "https://lh3.googleusercontent.com/a/default-user=s64",
      "userId": "11976636736374307912"
     },
     "user_tz": 300
    },
    "id": "bottom-davis"
   },
   "outputs": [],
   "source": [
    "%run iteration_0_parameters.py"
   ]
  },
  {
   "cell_type": "code",
   "execution_count": 7,
   "id": "f80edb8c",
   "metadata": {
    "colab": {
     "base_uri": "https://localhost:8080/"
    },
    "executionInfo": {
     "elapsed": 10,
     "status": "ok",
     "timestamp": 1638109716960,
     "user": {
      "displayName": "Rene MAROT",
      "photoUrl": "https://lh3.googleusercontent.com/a/default-user=s64",
      "userId": "11976636736374307912"
     },
     "user_tz": 300
    },
    "id": "remarkable-allocation",
    "outputId": "944cabff-d789-4318-80f8-4c49b9526910"
   },
   "outputs": [
    {
     "name": "stdout",
     "output_type": "stream",
     "text": [
      "importing Jupyter notebook from iteration_0_utils.ipynb\n"
     ]
    }
   ],
   "source": [
    "import iteration_0_utils as utils"
   ]
  },
  {
   "cell_type": "code",
   "execution_count": 8,
   "id": "c87624f2",
   "metadata": {
    "colab": {
     "base_uri": "https://localhost:8080/"
    },
    "executionInfo": {
     "elapsed": 10,
     "status": "ok",
     "timestamp": 1638109716961,
     "user": {
      "displayName": "Rene MAROT",
      "photoUrl": "https://lh3.googleusercontent.com/a/default-user=s64",
      "userId": "11976636736374307912"
     },
     "user_tz": 300
    },
    "id": "-_APVUTbka3o",
    "outputId": "30b97fc3-8763-4ac2-f83b-e9eaf158f969",
    "scrolled": false
   },
   "outputs": [
    {
     "name": "stdout",
     "output_type": "stream",
     "text": [
      "Variable                          Type        Data/Info\n",
      "-------------------------------------------------------\n",
      "HEALTHY                           str         H\n",
      "IMG_IN_COLOR                      int         1\n",
      "IMG_SIZE                          int         64\n",
      "Image                             module      <module 'PIL.Image' from <...>packages\\\\PIL\\\\Image.py'>\n",
      "NBR_SAMPLE                        int         20000\n",
      "PATH_DATA                         str         ../data\n",
      "PATH_DATA_EDA                     str         ../data/eda\n",
      "PATH_DATA_LIST                    str         ../data/list\n",
      "PATH_DATA_SAMPLE                  str         ../data/sample\n",
      "PATH_MODEL                        str         ../model\n",
      "PATH_ROOT                         str         ..\n",
      "PATH_SOURCE_IMG                   str         ../cell_images\n",
      "RandomForestClassifier            ABCMeta     <class 'sklearn.ensemble.<...>.RandomForestClassifier'>\n",
      "SICK                              str         S\n",
      "classification_report             function    <function classification_<...>rt at 0x000001CF1BDE88B0>\n",
      "confusion_matrix                  function    <function confusion_matrix at 0x000001CF1BDE8040>\n",
      "cv2                               module      <module 'cv2' from 'c:\\\\u<...>kages\\\\cv2\\\\__init__.py'>\n",
      "datetime                          type        <class 'datetime.datetime'>\n",
      "f1_score                          function    <function f1_score at 0x000001CF1BDE83A0>\n",
      "gc                                module      <module 'gc' (built-in)>\n",
      "glob                              module      <module 'glob' from 'C:\\\\<...>Anaconda3\\\\lib\\\\glob.py'>\n",
      "gzip                              module      <module 'gzip' from 'C:\\\\<...>Anaconda3\\\\lib\\\\gzip.py'>\n",
      "import_ipynb                      module      <module 'import_ipynb' fr<...>ckages\\\\import_ipynb.py'>\n",
      "learning_curve                    function    <function learning_curve at 0x000001CF1BFB51F0>\n",
      "mlflow                            module      <module 'mlflow' from 'c:<...>es\\\\mlflow\\\\__init__.py'>\n",
      "np                                module      <module 'numpy' from 'c:\\<...>ges\\\\numpy\\\\__init__.py'>\n",
      "os                                module      <module 'os' from 'C:\\\\Te<...>\\\\Anaconda3\\\\lib\\\\os.py'>\n",
      "pd                                module      <module 'pandas' from 'c:<...>es\\\\pandas\\\\__init__.py'>\n",
      "pickle                            module      <module 'pickle' from 'C:<...>aconda3\\\\lib\\\\pickle.py'>\n",
      "plt                               module      <module 'matplotlib.pyplo<...>\\\\matplotlib\\\\pyplot.py'>\n",
      "precision_recall_fscore_support   function    <function precision_recal<...>rt at 0x000001CF1BDE8670>\n",
      "random                            module      <module 'random' from 'C:<...>aconda3\\\\lib\\\\random.py'>\n",
      "sns                               module      <module 'seaborn' from 'c<...>s\\\\seaborn\\\\__init__.py'>\n",
      "sp                                module      <module 'scipy.sparse' fr<...>py\\\\sparse\\\\__init__.py'>\n",
      "tqdm                              type        <class 'tqdm.std.tqdm'>\n",
      "train_test_split                  function    <function train_test_split at 0x000001CF1BFAE550>\n",
      "utils                             module      <module 'iteration_0_util<...> at 0x000001CF6D54FEE0>)>\n"
     ]
    }
   ],
   "source": [
    "%whos"
   ]
  },
  {
   "cell_type": "code",
   "execution_count": 9,
   "id": "397a2aa3",
   "metadata": {
    "colab": {
     "base_uri": "https://localhost:8080/",
     "height": 35
    },
    "executionInfo": {
     "elapsed": 178,
     "status": "ok",
     "timestamp": 1638109717130,
     "user": {
      "displayName": "Rene MAROT",
      "photoUrl": "https://lh3.googleusercontent.com/a/default-user=s64",
      "userId": "11976636736374307912"
     },
     "user_tz": 300
    },
    "id": "developing-correspondence",
    "outputId": "cdfa1b1f-05eb-4543-b8f0-c9c3bc56b89d"
   },
   "outputs": [
    {
     "data": {
      "text/plain": [
       "'\\nPATH_SAMPLE = \"data/sample\"\\nHEALTHY = \"H\"\\nSICK = \"S\"\\nIMG_SIZE = 400\\n'"
      ]
     },
     "execution_count": 9,
     "metadata": {},
     "output_type": "execute_result"
    }
   ],
   "source": [
    "DATE_TIME = \"2021-11-18_20-39-00\"\n",
    "\n",
    "\"\"\"\n",
    "PATH_SAMPLE = \"data/sample\"\n",
    "HEALTHY = \"H\"\n",
    "SICK = \"S\"\n",
    "IMG_SIZE = 400\n",
    "\"\"\""
   ]
  },
  {
   "cell_type": "markdown",
   "id": "df9dde4b",
   "metadata": {
    "id": "statewide-motel"
   },
   "source": [
    "# Modele"
   ]
  },
  {
   "cell_type": "markdown",
   "id": "f7d270df",
   "metadata": {
    "id": "higher-citation"
   },
   "source": [
    "## make X, y"
   ]
  },
  {
   "cell_type": "code",
   "execution_count": 10,
   "id": "8f68ac43",
   "metadata": {
    "colab": {
     "base_uri": "https://localhost:8080/",
     "height": 35
    },
    "executionInfo": {
     "elapsed": 18,
     "status": "ok",
     "timestamp": 1638109717130,
     "user": {
      "displayName": "Rene MAROT",
      "photoUrl": "https://lh3.googleusercontent.com/a/default-user=s64",
      "userId": "11976636736374307912"
     },
     "user_tz": 300
    },
    "id": "better-james",
    "outputId": "111c4f87-7b2c-4939-dc2e-a01d022b8983"
   },
   "outputs": [
    {
     "data": {
      "text/plain": [
       "'../data/sample'"
      ]
     },
     "execution_count": 10,
     "metadata": {},
     "output_type": "execute_result"
    }
   ],
   "source": [
    "PATH_DATA_SAMPLE"
   ]
  },
  {
   "cell_type": "code",
   "execution_count": 11,
   "id": "71807460",
   "metadata": {
    "colab": {
     "base_uri": "https://localhost:8080/"
    },
    "executionInfo": {
     "elapsed": 17,
     "status": "ok",
     "timestamp": 1638109717130,
     "user": {
      "displayName": "Rene MAROT",
      "photoUrl": "https://lh3.googleusercontent.com/a/default-user=s64",
      "userId": "11976636736374307912"
     },
     "user_tz": 300
    },
    "id": "saving-white",
    "outputId": "88c716da-70f3-461d-e8b5-a80f0e01a0ea"
   },
   "outputs": [
    {
     "data": {
      "text/plain": [
       "20000"
      ]
     },
     "execution_count": 11,
     "metadata": {},
     "output_type": "execute_result"
    }
   ],
   "source": [
    "NBR_SAMPLE"
   ]
  },
  {
   "cell_type": "code",
   "execution_count": 12,
   "id": "bc7505a2",
   "metadata": {
    "colab": {
     "base_uri": "https://localhost:8080/",
     "height": 35
    },
    "executionInfo": {
     "elapsed": 17,
     "status": "ok",
     "timestamp": 1638109717131,
     "user": {
      "displayName": "Rene MAROT",
      "photoUrl": "https://lh3.googleusercontent.com/a/default-user=s64",
      "userId": "11976636736374307912"
     },
     "user_tz": 300
    },
    "id": "charming-deviation",
    "outputId": "f8cf357c-6ff2-4cc7-f098-e6132f442ca3"
   },
   "outputs": [
    {
     "data": {
      "text/plain": [
       "'2021-11-18_20-39-00'"
      ]
     },
     "execution_count": 12,
     "metadata": {},
     "output_type": "execute_result"
    }
   ],
   "source": [
    "DATE_TIME"
   ]
  },
  {
   "cell_type": "code",
   "execution_count": 13,
   "id": "5a03635f",
   "metadata": {
    "colab": {
     "base_uri": "https://localhost:8080/"
    },
    "executionInfo": {
     "elapsed": 16,
     "status": "ok",
     "timestamp": 1638109717131,
     "user": {
      "displayName": "Rene MAROT",
      "photoUrl": "https://lh3.googleusercontent.com/a/default-user=s64",
      "userId": "11976636736374307912"
     },
     "user_tz": 300
    },
    "id": "detailed-lodging",
    "outputId": "a7140e03-4b86-4121-f208-4ed447f91bf5"
   },
   "outputs": [
    {
     "data": {
      "text/plain": [
       "64"
      ]
     },
     "execution_count": 13,
     "metadata": {},
     "output_type": "execute_result"
    }
   ],
   "source": [
    "IMG_SIZE"
   ]
  },
  {
   "cell_type": "code",
   "execution_count": 14,
   "id": "0f01088f",
   "metadata": {
    "executionInfo": {
     "elapsed": 114159,
     "status": "ok",
     "timestamp": 1638109831275,
     "user": {
      "displayName": "Rene MAROT",
      "photoUrl": "https://lh3.googleusercontent.com/a/default-user=s64",
      "userId": "11976636736374307912"
     },
     "user_tz": 300
    },
    "id": "periodic-scoop"
   },
   "outputs": [],
   "source": [
    "# get list \n",
    "list_path_sample_img = []\n",
    "list_path_sample_img.extend(glob.glob(PATH_DATA_SAMPLE+\"/\"+DATE_TIME+ \"/\"+ \"*.pklz\"))"
   ]
  },
  {
   "cell_type": "code",
   "execution_count": 15,
   "id": "4232fdde",
   "metadata": {},
   "outputs": [],
   "source": [
    "X = np.zeros(shape=(NBR_SAMPLE, IMG_SIZE * IMG_SIZE * 3), dtype = \"float16\")"
   ]
  },
  {
   "cell_type": "code",
   "execution_count": 16,
   "id": "89495d0a",
   "metadata": {
    "id": "hairy-aruba"
   },
   "outputs": [],
   "source": [
    "y = np.array([\"\"] * NBR_SAMPLE)"
   ]
  },
  {
   "cell_type": "code",
   "execution_count": 17,
   "id": "bde00461",
   "metadata": {
    "id": "handled-resort"
   },
   "outputs": [
    {
     "name": "stderr",
     "output_type": "stream",
     "text": [
      "20000it [00:15, 1273.26it/s]\n"
     ]
    }
   ],
   "source": [
    "for i, path in tqdm(enumerate(list_path_sample_img)):\n",
    "    \n",
    "    X[i] = utils.pickle_read(path).ravel()\n",
    "    \n",
    "    _, file_name, _ = utils.split_file_info(path)\n",
    "    y[i] = file_name[0]\n",
    "    "
   ]
  },
  {
   "cell_type": "code",
   "execution_count": 18,
   "id": "d8cea417",
   "metadata": {
    "id": "electoral-appreciation",
    "scrolled": true
   },
   "outputs": [],
   "source": [
    "# save X y\n",
    "# os.makedirs(PATH_MODEL, exist_ok=True)\n",
    "# utils.pickle_save(X, PATH_MODEL + \"/\" + f\"X.pklz\")\n",
    "# utils.pickle_save(y, PATH_MODEL + \"/\" + f\"y.pklz\")\n",
    "# del X\n",
    "# del y\n",
    "# gc.collect()\n",
    "# gc.collect()"
   ]
  },
  {
   "cell_type": "markdown",
   "id": "8a4bde02",
   "metadata": {},
   "source": [
    "## Split X y"
   ]
  },
  {
   "cell_type": "code",
   "execution_count": 19,
   "id": "87c7c598",
   "metadata": {
    "id": "greek-sharp"
   },
   "outputs": [],
   "source": [
    "X_train, X_test, y_train, y_test = train_test_split(X, y, test_size = 0.2, stratify=y, random_state = 0) "
   ]
  },
  {
   "cell_type": "code",
   "execution_count": 20,
   "id": "3e493291",
   "metadata": {},
   "outputs": [],
   "source": [
    "os.makedirs(PATH_MODEL, exist_ok=True)\n",
    "utils.pickle_save(X_train, PATH_MODEL + \"/\" + f\"X_train.pklz\")\n",
    "utils.pickle_save(X_test, PATH_MODEL + \"/\" + f\"X_test.pklz\")\n",
    "\n",
    "utils.pickle_save(y_train, PATH_MODEL + \"/\" + f\"y_train.pklz\")\n",
    "utils.pickle_save(y_test, PATH_MODEL + \"/\" + f\"y_test.pklz\")"
   ]
  },
  {
   "cell_type": "code",
   "execution_count": 21,
   "id": "7a973047",
   "metadata": {
    "scrolled": true
   },
   "outputs": [
    {
     "data": {
      "text/plain": [
       "0"
      ]
     },
     "execution_count": 21,
     "metadata": {},
     "output_type": "execute_result"
    }
   ],
   "source": [
    "del X\n",
    "del y\n",
    "del X_train\n",
    "del X_test\n",
    "del y_train\n",
    "del y_test\n",
    "gc.collect()\n",
    "gc.collect()"
   ]
  },
  {
   "cell_type": "code",
   "execution_count": null,
   "id": "7b1781b4",
   "metadata": {},
   "outputs": [],
   "source": []
  }
 ],
 "metadata": {
  "colab": {
   "collapsed_sections": [],
   "name": "iteration_01_3_model_1.ipynb",
   "provenance": [
    {
     "file_id": "https://github.com/YounesZ/A62-EquipeCV/blob/feature-colab-integration/notebook/iteration_01_3_model_1.ipynb",
     "timestamp": 1637801011348
    }
   ]
  },
  "kernelspec": {
   "display_name": "Python 3 (ipykernel)",
   "language": "python",
   "name": "python3"
  },
  "language_info": {
   "codemirror_mode": {
    "name": "ipython",
    "version": 3
   },
   "file_extension": ".py",
   "mimetype": "text/x-python",
   "name": "python",
   "nbconvert_exporter": "python",
   "pygments_lexer": "ipython3",
   "version": "3.8.5"
  },
  "toc": {
   "base_numbering": 1,
   "nav_menu": {},
   "number_sections": true,
   "sideBar": true,
   "skip_h1_title": false,
   "title_cell": "Table of Contents",
   "title_sidebar": "Contents",
   "toc_cell": false,
   "toc_position": {},
   "toc_section_display": true,
   "toc_window_display": false
  }
 },
 "nbformat": 4,
 "nbformat_minor": 5
}
