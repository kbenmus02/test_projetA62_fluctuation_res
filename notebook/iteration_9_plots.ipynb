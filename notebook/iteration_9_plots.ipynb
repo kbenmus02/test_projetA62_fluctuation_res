{
 "cells": [
  {
   "cell_type": "code",
   "execution_count": 1,
   "id": "693162df",
   "metadata": {},
   "outputs": [],
   "source": [
    "import import_ipynb"
   ]
  },
  {
   "cell_type": "code",
   "execution_count": 2,
   "id": "4118869d",
   "metadata": {},
   "outputs": [],
   "source": [
    "%run iteration_0_imports.py"
   ]
  },
  {
   "cell_type": "code",
   "execution_count": 3,
   "id": "5e2d7318",
   "metadata": {},
   "outputs": [],
   "source": [
    "%run iteration_0_parameters.py"
   ]
  },
  {
   "cell_type": "code",
   "execution_count": 4,
   "id": "6fef4004",
   "metadata": {},
   "outputs": [
    {
     "name": "stdout",
     "output_type": "stream",
     "text": [
      "importing Jupyter notebook from iteration_0_utils.ipynb\n"
     ]
    }
   ],
   "source": [
    "import iteration_0_utils as utils"
   ]
  },
  {
   "cell_type": "code",
   "execution_count": 5,
   "id": "3eaf775a",
   "metadata": {},
   "outputs": [
    {
     "name": "stdout",
     "output_type": "stream",
     "text": [
      "Variable                          Type        Data/Info\n",
      "-------------------------------------------------------\n",
      "HEALTHY                           str         H\n",
      "IMG_IN_COLOR                      int         1\n",
      "IMG_SIZE                          int         64\n",
      "Image                             module      <module 'PIL.Image' from <...>packages\\\\PIL\\\\Image.py'>\n",
      "NBR_SAMPLE                        int         20000\n",
      "PATH_DATA                         str         ../data\n",
      "PATH_DATA_EDA                     str         ../data/eda\n",
      "PATH_DATA_LIST                    str         ../data/list\n",
      "PATH_DATA_SAMPLE                  str         ../data/sample\n",
      "PATH_MODEL                        str         ../model\n",
      "PATH_ROOT                         str         ..\n",
      "PATH_SOURCE_IMG                   str         ../cell_images\n",
      "RandomForestClassifier            ABCMeta     <class 'sklearn.ensemble.<...>.RandomForestClassifier'>\n",
      "SICK                              str         S\n",
      "classification_report             function    <function classification_<...>rt at 0x000002A9DA10DEE0>\n",
      "confusion_matrix                  function    <function confusion_matrix at 0x000002A9DA106F70>\n",
      "cv2                               module      <module 'cv2' from 'C:\\\\U<...>kages\\\\cv2\\\\__init__.py'>\n",
      "datetime                          type        <class 'datetime.datetime'>\n",
      "f1_score                          function    <function f1_score at 0x000002A9DA10D670>\n",
      "gc                                module      <module 'gc' (built-in)>\n",
      "glob                              module      <module 'glob' from 'C:\\\\<...>anaconda3\\\\lib\\\\glob.py'>\n",
      "gzip                              module      <module 'gzip' from 'C:\\\\<...>anaconda3\\\\lib\\\\gzip.py'>\n",
      "import_ipynb                      module      <module 'import_ipynb' fr<...>ckages\\\\import_ipynb.py'>\n",
      "learning_curve                    function    <function learning_curve at 0x000002A9DA2E0040>\n",
      "mlflow                            module      <module 'mlflow' from 'C:<...>es\\\\mlflow\\\\__init__.py'>\n",
      "np                                module      <module 'numpy' from 'C:\\<...>ges\\\\numpy\\\\__init__.py'>\n",
      "os                                module      <module 'os' from 'C:\\\\Us<...>\\\\anaconda3\\\\lib\\\\os.py'>\n",
      "pd                                module      <module 'pandas' from 'C:<...>es\\\\pandas\\\\__init__.py'>\n",
      "pickle                            module      <module 'pickle' from 'C:<...>aconda3\\\\lib\\\\pickle.py'>\n",
      "plt                               module      <module 'matplotlib.pyplo<...>\\\\matplotlib\\\\pyplot.py'>\n",
      "precision_recall_fscore_support   function    <function precision_recal<...>rt at 0x000002A9DA10DA60>\n",
      "random                            module      <module 'random' from 'C:<...>aconda3\\\\lib\\\\random.py'>\n",
      "sns                               module      <module 'seaborn' from 'C<...>s\\\\seaborn\\\\__init__.py'>\n",
      "sp                                module      <module 'scipy.sparse' fr<...>py\\\\sparse\\\\__init__.py'>\n",
      "tqdm                              type        <class 'tqdm.std.tqdm'>\n",
      "train_test_split                  function    <function train_test_split at 0x000002A9DA2D90D0>\n",
      "utils                             module      <module 'iteration_0_util<...> at 0x000002A9DD819E20>)>\n"
     ]
    }
   ],
   "source": [
    "%whos"
   ]
  },
  {
   "cell_type": "code",
   "execution_count": 6,
   "id": "8188144a",
   "metadata": {},
   "outputs": [],
   "source": [
    "# read files\n",
    "list_files = glob.glob(f\"{PATH_DATA}/results/\"+'*.pklz')"
   ]
  },
  {
   "cell_type": "code",
   "execution_count": 9,
   "id": "9624eceb",
   "metadata": {},
   "outputs": [],
   "source": [
    "results = []\n",
    "for file in list_files:\n",
    "    random_state = file.split(\"_\")[1].split(\".\")[0]\n",
    "    N, train_score, validation_score = utils.pickle_read(f\"{PATH_DATA}/results/results_{random_state}.pklz\")\n",
    "    results.append([N, train_score, validation_score, int(random_state)])"
   ]
  },
  {
   "cell_type": "code",
   "execution_count": 11,
   "id": "d896ff59",
   "metadata": {},
   "outputs": [
    {
     "name": "stderr",
     "output_type": "stream",
     "text": [
      "C:\\Users\\kbenmus\\anaconda3\\lib\\site-packages\\numpy\\core\\_asarray.py:136: VisibleDeprecationWarning: Creating an ndarray from ragged nested sequences (which is a list-or-tuple of lists-or-tuples-or ndarrays with different lengths or shapes) is deprecated. If you meant to do this, you must specify 'dtype=object' when creating the ndarray\n",
      "  return array(a, dtype, copy=False, order=order, subok=True)\n"
     ]
    }
   ],
   "source": [
    "N , train_score_mean, validation_score_mean, _ = np.mean(results, axis = 0)"
   ]
  },
  {
   "cell_type": "code",
   "execution_count": 15,
   "id": "f6f2fdee",
   "metadata": {},
   "outputs": [],
   "source": [
    "results_std = [i[:-1] for i in results]\n",
    "N_std, train_std, valid_std = np.std(results_std, axis = 0)"
   ]
  },
  {
   "cell_type": "code",
   "execution_count": 23,
   "id": "86a94299",
   "metadata": {},
   "outputs": [
    {
     "data": {
      "image/png": "[encoded data removed]",
      "text/plain": [
       "<Figure size 1152x648 with 1 Axes>"
      ]
     },
     "metadata": {
      "needs_background": "light"
     },
     "output_type": "display_data"
    }
   ],
   "source": [
    "plt.figure(figsize=(16,9))\n",
    "plt.grid()\n",
    "axes = plt.gca()\n",
    "axes.set_ylim([0.6,1.05])\n",
    "\n",
    "plt.plot(N, train_score_mean, \"o-\", label = \"train_score_mean\")\n",
    "plt.plot(N, validation_score_mean  , \"o-\", label = \"validation_score_mean\")\n",
    "plt.fill_between(N, train_score_mean + train_std, train_score_mean - train_std, color = \"grey\")\n",
    "plt.fill_between(N, validation_score_mean + valid_std, validation_score_mean - valid_std, color = \"grey\", alpha = 0.2)\n",
    "\n",
    "plt.legend()\n",
    "\n",
    "plt.show()"
   ]
  },
  {
   "cell_type": "code",
   "execution_count": null,
   "id": "57fc85d4",
   "metadata": {},
   "outputs": [],
   "source": []
  },
  {
   "cell_type": "code",
   "execution_count": null,
   "id": "ac868486",
   "metadata": {},
   "outputs": [],
   "source": []
  },
  {
   "cell_type": "code",
   "execution_count": null,
   "id": "40ae4fc8",
   "metadata": {},
   "outputs": [],
   "source": []
  },
  {
   "cell_type": "code",
   "execution_count": null,
   "id": "4eaa3951",
   "metadata": {},
   "outputs": [],
   "source": []
  },
  {
   "cell_type": "code",
   "execution_count": null,
   "id": "4649c712",
   "metadata": {},
   "outputs": [],
   "source": []
  },
  {
   "cell_type": "code",
   "execution_count": null,
   "id": "7d4e923f",
   "metadata": {},
   "outputs": [],
   "source": []
  },
  {
   "cell_type": "code",
   "execution_count": null,
   "id": "58c9d7bb",
   "metadata": {},
   "outputs": [],
   "source": []
  },
  {
   "cell_type": "code",
   "execution_count": null,
   "id": "d414ae63",
   "metadata": {},
   "outputs": [],
   "source": []
  },
  {
   "cell_type": "code",
   "execution_count": null,
   "id": "e003071f",
   "metadata": {},
   "outputs": [],
   "source": []
  }
 ],
 "metadata": {
  "kernelspec": {
   "display_name": "Python 3 (ipykernel)",
   "language": "python",
   "name": "python3"
  },
  "language_info": {
   "codemirror_mode": {
    "name": "ipython",
    "version": 3
   },
   "file_extension": ".py",
   "mimetype": "text/x-python",
   "name": "python",
   "nbconvert_exporter": "python",
   "pygments_lexer": "ipython3",
   "version": "3.8.5"
  },
  "toc": {
   "base_numbering": 1,
   "nav_menu": {},
   "number_sections": true,
   "sideBar": true,
   "skip_h1_title": false,
   "title_cell": "Table of Contents",
   "title_sidebar": "Contents",
   "toc_cell": false,
   "toc_position": {},
   "toc_section_display": true,
   "toc_window_display": false
  }
 },
 "nbformat": 4,
 "nbformat_minor": 5
}
