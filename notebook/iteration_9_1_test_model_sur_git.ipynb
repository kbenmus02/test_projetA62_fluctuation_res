{
 "cells": [
  {
   "cell_type": "code",
   "execution_count": 5,
   "id": "6630924c",
   "metadata": {},
   "outputs": [
    {
     "name": "stdout",
     "output_type": "stream",
     "text": [
      "Requirement already satisfied: import_ipynb in c:\\users\\kbenmus\\anaconda3\\lib\\site-packages (0.1.3)\n"
     ]
    }
   ],
   "source": [
    "# !pip install import_ipynb"
   ]
  },
  {
   "cell_type": "code",
   "execution_count": 6,
   "id": "72cc1651",
   "metadata": {},
   "outputs": [],
   "source": [
    "# import import_ipynb"
   ]
  },
  {
   "cell_type": "code",
   "execution_count": 7,
   "id": "36d29b84",
   "metadata": {},
   "outputs": [],
   "source": [
    "# %run iteration_0_imports.py"
   ]
  },
  {
   "cell_type": "code",
   "execution_count": 8,
   "id": "01c009ad",
   "metadata": {},
   "outputs": [],
   "source": [
    "# %run iteration_0_parameters.py"
   ]
  },
  {
   "cell_type": "code",
   "execution_count": 9,
   "id": "09342b77",
   "metadata": {},
   "outputs": [],
   "source": [
    "# import iteration_0_utils as utils"
   ]
  },
  {
   "cell_type": "code",
   "execution_count": 13,
   "id": "73441382",
   "metadata": {},
   "outputs": [
    {
     "name": "stdout",
     "output_type": "stream",
     "text": [
      "RandomForestClassifier(random_state=0)\n"
     ]
    }
   ],
   "source": [
    "# model_rf = utils.pickle_read(PATH_MODEL+\"/\"+\"model_rf.pklz\")\n",
    "# print(model_rf)"
   ]
  },
  {
   "cell_type": "code",
   "execution_count": null,
   "id": "160463ae",
   "metadata": {},
   "outputs": [],
   "source": [
    "print(\"ici dans NOTEBOOK!!\")"
   ]
  },
  {
   "cell_type": "code",
   "execution_count": 1,
   "id": "5d643def",
   "metadata": {},
   "outputs": [
    {
     "name": "stdout",
     "output_type": "stream",
     "text": [
      "\"from NOTEBOOK\"\n"
     ]
    }
   ],
   "source": [
    "!echo \"from NOTEBOOK\""
   ]
  },
  {
   "cell_type": "code",
   "execution_count": null,
   "id": "8975ffae",
   "metadata": {},
   "outputs": [],
   "source": []
  }
 ],
 "metadata": {
  "kernelspec": {
   "display_name": "Python 3 (ipykernel)",
   "language": "python",
   "name": "python3"
  },
  "language_info": {
   "codemirror_mode": {
    "name": "ipython",
    "version": 3
   },
   "file_extension": ".py",
   "mimetype": "text/x-python",
   "name": "python",
   "nbconvert_exporter": "python",
   "pygments_lexer": "ipython3",
   "version": "3.8.5"
  },
  "toc": {
   "base_numbering": 1,
   "nav_menu": {},
   "number_sections": true,
   "sideBar": true,
   "skip_h1_title": false,
   "title_cell": "Table of Contents",
   "title_sidebar": "Contents",
   "toc_cell": false,
   "toc_position": {},
   "toc_section_display": true,
   "toc_window_display": false
  }
 },
 "nbformat": 4,
 "nbformat_minor": 5
}
