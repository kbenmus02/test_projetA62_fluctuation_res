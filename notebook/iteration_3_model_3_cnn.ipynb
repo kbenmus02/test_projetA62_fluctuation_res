{
 "cells": [
  {
   "cell_type": "code",
   "execution_count": 1,
   "id": "24f68e21",
   "metadata": {},
   "outputs": [],
   "source": [
    "import import_ipynb"
   ]
  },
  {
   "cell_type": "code",
   "execution_count": 2,
   "id": "86313d4c",
   "metadata": {},
   "outputs": [],
   "source": [
    "%run iteration_0_imports.py"
   ]
  },
  {
   "cell_type": "code",
   "execution_count": 3,
   "id": "f6c766be",
   "metadata": {},
   "outputs": [],
   "source": [
    "%run iteration_0_parameters.py"
   ]
  },
  {
   "cell_type": "code",
   "execution_count": 4,
   "id": "5d0b0d34",
   "metadata": {},
   "outputs": [
    {
     "name": "stdout",
     "output_type": "stream",
     "text": [
      "importing Jupyter notebook from iteration_0_utils.ipynb\n"
     ]
    }
   ],
   "source": [
    "import iteration_0_utils as utils"
   ]
  },
  {
   "cell_type": "code",
   "execution_count": 5,
   "id": "f67255e9",
   "metadata": {},
   "outputs": [
    {
     "name": "stdout",
     "output_type": "stream",
     "text": [
      "Variable                          Type        Data/Info\n",
      "-------------------------------------------------------\n",
      "HEALTHY                           str         H\n",
      "IMG_IN_COLOR                      int         1\n",
      "IMG_SIZE                          int         64\n",
      "Image                             module      <module 'PIL.Image' from <...>packages\\\\PIL\\\\Image.py'>\n",
      "NBR_SAMPLE                        int         20000\n",
      "PATH_DATA                         str         ../data\n",
      "PATH_DATA_EDA                     str         ../data/eda\n",
      "PATH_DATA_LIST                    str         ../data/list\n",
      "PATH_DATA_SAMPLE                  str         ../data/sample\n",
      "PATH_MODEL                        str         ../model\n",
      "PATH_ROOT                         str         ..\n",
      "PATH_SOURCE_IMG                   str         ../cell_images\n",
      "RandomForestClassifier            ABCMeta     <class 'sklearn.ensemble.<...>.RandomForestClassifier'>\n",
      "SICK                              str         S\n",
      "classification_report             function    <function classification_<...>rt at 0x00000124D4EFCAF0>\n",
      "confusion_matrix                  function    <function confusion_matrix at 0x00000124D4EFC280>\n",
      "cv2                               module      <module 'cv2' from 'C:\\\\U<...>kages\\\\cv2\\\\__init__.py'>\n",
      "datetime                          type        <class 'datetime.datetime'>\n",
      "f1_score                          function    <function f1_score at 0x00000124D4EFC5E0>\n",
      "gc                                module      <module 'gc' (built-in)>\n",
      "glob                              module      <module 'glob' from 'C:\\\\<...>Anaconda3\\\\lib\\\\glob.py'>\n",
      "gzip                              module      <module 'gzip' from 'C:\\\\<...>Anaconda3\\\\lib\\\\gzip.py'>\n",
      "import_ipynb                      module      <module 'import_ipynb' fr<...>ckages\\\\import_ipynb.py'>\n",
      "learning_curve                    function    <function learning_curve at 0x00000124D50C8430>\n",
      "mlflow                            module      <module 'mlflow' from 'C:<...>es\\\\mlflow\\\\__init__.py'>\n",
      "np                                module      <module 'numpy' from 'C:\\<...>ges\\\\numpy\\\\__init__.py'>\n",
      "os                                module      <module 'os' from 'C:\\\\Te<...>\\\\Anaconda3\\\\lib\\\\os.py'>\n",
      "pd                                module      <module 'pandas' from 'C:<...>es\\\\pandas\\\\__init__.py'>\n",
      "pickle                            module      <module 'pickle' from 'C:<...>aconda3\\\\lib\\\\pickle.py'>\n",
      "plt                               module      <module 'matplotlib.pyplo<...>\\\\matplotlib\\\\pyplot.py'>\n",
      "precision_recall_fscore_support   function    <function precision_recal<...>rt at 0x00000124D4EFC8B0>\n",
      "random                            module      <module 'random' from 'C:<...>aconda3\\\\lib\\\\random.py'>\n",
      "sns                               module      <module 'seaborn' from 'C<...>s\\\\seaborn\\\\__init__.py'>\n",
      "sp                                module      <module 'scipy.sparse' fr<...>py\\\\sparse\\\\__init__.py'>\n",
      "tqdm                              type        <class 'tqdm.std.tqdm'>\n",
      "train_test_split                  function    <function train_test_split at 0x00000124D50C1790>\n",
      "utils                             module      <module 'iteration_0_util<...> at 0x00000124A637FC40>)>\n"
     ]
    }
   ],
   "source": [
    "%whos"
   ]
  },
  {
   "cell_type": "markdown",
   "id": "728d10de",
   "metadata": {},
   "source": [
    "# make X, y"
   ]
  },
  {
   "cell_type": "code",
   "execution_count": 6,
   "id": "ae617937",
   "metadata": {},
   "outputs": [],
   "source": [
    "DATE_TIME = \"2021-11-18_20-39-00\""
   ]
  },
  {
   "cell_type": "code",
   "execution_count": 7,
   "id": "3ec21e2f",
   "metadata": {},
   "outputs": [],
   "source": [
    "# get list \n",
    "list_path_sample_img = []\n",
    "list_path_sample_img.extend(glob.glob(PATH_DATA_SAMPLE+\"/\"+DATE_TIME+ \"/\"+ \"*.pklz\"))"
   ]
  },
  {
   "cell_type": "code",
   "execution_count": 8,
   "id": "e8a93d0b",
   "metadata": {},
   "outputs": [],
   "source": [
    "# split train, validation, test set\n",
    "list_path_sample_img_train, list_path_sample_img_test  = train_test_split(list_path_sample_img, test_size=0.2)\n",
    "list_path_sample_img_train, list_path_sample_img_valid = train_test_split(list_path_sample_img_train, test_size=0.2)"
   ]
  },
  {
   "cell_type": "code",
   "execution_count": 9,
   "id": "eec763dc",
   "metadata": {},
   "outputs": [],
   "source": [
    "def make_Xy(list_path_sample_img: list) -> (np.array, np.array):\n",
    "    X = np.ndarray( (len(list_path_sample_img), IMG_SIZE, IMG_SIZE, 3) ,dtype = \"float16\")\n",
    "    y = np.array([\"\"] * len(list_path_sample_img))\n",
    "    for i, path in tqdm(enumerate(list_path_sample_img)):\n",
    "        \n",
    "        X[i] = utils.pickle_read(path).astype(\"float16\")\n",
    "    \n",
    "        _, file_name, _ = utils.split_file_info(path)\n",
    "        y[i] = file_name[0]\n",
    "    \n",
    "    return X, y\n",
    "    "
   ]
  },
  {
   "cell_type": "code",
   "execution_count": 10,
   "id": "bfa5a003",
   "metadata": {},
   "outputs": [
    {
     "name": "stderr",
     "output_type": "stream",
     "text": [
      "12800it [02:11, 97.14it/s] \n"
     ]
    }
   ],
   "source": [
    "X_train, y_train  = make_Xy(list_path_sample_img_train)"
   ]
  },
  {
   "cell_type": "code",
   "execution_count": 11,
   "id": "ff8be7c9",
   "metadata": {},
   "outputs": [
    {
     "name": "stderr",
     "output_type": "stream",
     "text": [
      "3200it [00:31, 102.66it/s]\n"
     ]
    }
   ],
   "source": [
    "X_valid, y_valid  = make_Xy(list_path_sample_img_valid)"
   ]
  },
  {
   "cell_type": "code",
   "execution_count": 12,
   "id": "0d2de151",
   "metadata": {},
   "outputs": [
    {
     "name": "stderr",
     "output_type": "stream",
     "text": [
      "4000it [00:36, 111.02it/s]\n"
     ]
    }
   ],
   "source": [
    "X_test, y_test  = make_Xy(list_path_sample_img_test)"
   ]
  },
  {
   "cell_type": "markdown",
   "id": "0c423644",
   "metadata": {},
   "source": [
    "# model_cnn"
   ]
  },
  {
   "cell_type": "markdown",
   "id": "97ce4353",
   "metadata": {},
   "source": [
    "* Ref: https://towardsdatascience.com/detecting-malaria-with-deep-learning-9e45c1e34b60\n",
    "* https://towardsdatascience.com/understanding-and-calculating-the-number-of-parameters-in-convolution-neural-networks-cnns-fc88790d530d"
   ]
  },
  {
   "cell_type": "code",
   "execution_count": 13,
   "id": "f5ee11c5",
   "metadata": {},
   "outputs": [],
   "source": [
    "BATCH_SIZE = 500\n",
    "NUM_CLASSES = 2\n",
    "EPOCHS = 15\n",
    "INPUT_SHAPE = (IMG_SIZE, IMG_SIZE, 3)"
   ]
  },
  {
   "cell_type": "code",
   "execution_count": 14,
   "id": "b98239fd",
   "metadata": {},
   "outputs": [],
   "source": [
    "# Encoder y\n",
    "from sklearn.preprocessing import LabelEncoder"
   ]
  },
  {
   "cell_type": "code",
   "execution_count": 15,
   "id": "d571ce4c",
   "metadata": {},
   "outputs": [],
   "source": [
    "le = LabelEncoder()"
   ]
  },
  {
   "cell_type": "code",
   "execution_count": 16,
   "id": "a34d0d82",
   "metadata": {},
   "outputs": [],
   "source": [
    "y_train_enc = le.fit_transform(y_train)"
   ]
  },
  {
   "cell_type": "code",
   "execution_count": 17,
   "id": "2be28076",
   "metadata": {},
   "outputs": [],
   "source": [
    "y_valid_enc = le.transform(y_valid)\n",
    "y_test_enc  = le.transform(y_test)"
   ]
  },
  {
   "cell_type": "code",
   "execution_count": 18,
   "id": "1eeddc9c",
   "metadata": {},
   "outputs": [
    {
     "data": {
      "text/plain": [
       "array(['H', 'S'], dtype='<U1')"
      ]
     },
     "execution_count": 18,
     "metadata": {},
     "output_type": "execute_result"
    }
   ],
   "source": [
    "le.classes_"
   ]
  },
  {
   "cell_type": "code",
   "execution_count": 19,
   "id": "8fcd3eac",
   "metadata": {},
   "outputs": [],
   "source": [
    "#!pip uninstall tensorflow"
   ]
  },
  {
   "cell_type": "markdown",
   "id": "e6645d34",
   "metadata": {},
   "source": [
    "Créer un fichier .reg avec les instructions suivantes :\n",
    "\n",
    "===\n",
    "\n",
    "Windows Registry Editor Version 5.00\n",
    "\n",
    "[HKEY_LOCAL_MACHINE\\SYSTEM\\CurrentControlSet\\Control\\FileSystem]\n",
    "\"LongPathsEnabled\"=dword:00000001\n",
    "\n",
    "---\n",
    "\n",
    "Exécuter le .reg"
   ]
  },
  {
   "cell_type": "code",
   "execution_count": 20,
   "id": "35a7ccfd",
   "metadata": {},
   "outputs": [],
   "source": [
    "#!pip install tensorflow"
   ]
  },
  {
   "cell_type": "code",
   "execution_count": 21,
   "id": "560e9bf3",
   "metadata": {},
   "outputs": [],
   "source": [
    "import tensorflow as tf"
   ]
  },
  {
   "cell_type": "code",
   "execution_count": 22,
   "id": "d47057fe",
   "metadata": {},
   "outputs": [],
   "source": [
    "from keras.models import Sequential"
   ]
  },
  {
   "cell_type": "code",
   "execution_count": 23,
   "id": "661d37eb",
   "metadata": {},
   "outputs": [],
   "source": [
    "#assert False"
   ]
  },
  {
   "cell_type": "code",
   "execution_count": 24,
   "id": "28323982",
   "metadata": {},
   "outputs": [],
   "source": [
    "model_cnn = Sequential()\n",
    "model_cnn.add(tf.keras.layers.Input(name = \"input\", shape=INPUT_SHAPE))\n",
    "model_cnn.add(tf.keras.layers.Conv2D(name = \"conv2D\",\n",
    "                                     filters=32,\n",
    "                                     kernel_size=(3,3),\n",
    "                                     activation=\"LeakyReLU\",\n",
    "                                     padding=\"same\",\n",
    "                                     kernel_initializer=\"he_uniform\"\n",
    "                                    ))\n",
    "model_cnn.add(tf.keras.layers.MaxPooling2D(name=\"pooling\", pool_size=(2,2)))\n",
    "model_cnn.add(tf.keras.layers.Flatten(name=\"flatten\"))\n",
    "model_cnn.add(tf.keras.layers.Dense(name=\"dense_hidden\", units = 256, activation=\"LeakyReLU\",\n",
    "                                    kernel_initializer=\"he_uniform\" ))\n",
    "model_cnn.add(tf.keras.layers.Dense(name=\"ouput\", units = 1, activation=\"sigmoid\"))\n"
   ]
  },
  {
   "cell_type": "code",
   "execution_count": 25,
   "id": "d2ecd10b",
   "metadata": {},
   "outputs": [],
   "source": [
    "# compiler modele\n",
    "model_cnn.compile(optimizer = \"adam\", loss =\"binary_crossentropy\", metrics=[\"accuracy\"])"
   ]
  },
  {
   "cell_type": "code",
   "execution_count": 26,
   "id": "b7acd6ff",
   "metadata": {},
   "outputs": [
    {
     "name": "stdout",
     "output_type": "stream",
     "text": [
      "Model: \"sequential\"\n",
      "_________________________________________________________________\n",
      " Layer (type)                Output Shape              Param #   \n",
      "=================================================================\n",
      " conv2D (Conv2D)             (None, 64, 64, 32)        896       \n",
      "                                                                 \n",
      " pooling (MaxPooling2D)      (None, 32, 32, 32)        0         \n",
      "                                                                 \n",
      " flatten (Flatten)           (None, 32768)             0         \n",
      "                                                                 \n",
      " dense_hidden (Dense)        (None, 256)               8388864   \n",
      "                                                                 \n",
      " ouput (Dense)               (None, 1)                 257       \n",
      "                                                                 \n",
      "=================================================================\n",
      "Total params: 8,390,017\n",
      "Trainable params: 8,390,017\n",
      "Non-trainable params: 0\n",
      "_________________________________________________________________\n"
     ]
    }
   ],
   "source": [
    "model_cnn.summary()"
   ]
  },
  {
   "cell_type": "code",
   "execution_count": 27,
   "id": "552a0799",
   "metadata": {},
   "outputs": [],
   "source": [
    "from keras.callbacks import EarlyStopping"
   ]
  },
  {
   "cell_type": "code",
   "execution_count": 28,
   "id": "f48ebb6b",
   "metadata": {},
   "outputs": [],
   "source": [
    "# es = EarlyStopping(mode='min', monitor='val_loss')"
   ]
  },
  {
   "cell_type": "code",
   "execution_count": 29,
   "id": "03de2876",
   "metadata": {},
   "outputs": [
    {
     "name": "stdout",
     "output_type": "stream",
     "text": [
      "Epoch 1/15\n",
      "26/26 [==============================] - 20s 688ms/step - loss: 11.0210 - accuracy: 0.5146 - val_loss: 4.2397 - val_accuracy: 0.5041\n",
      "Epoch 2/15\n",
      "26/26 [==============================] - 17s 664ms/step - loss: 1.7115 - accuracy: 0.5702 - val_loss: 0.7306 - val_accuracy: 0.6397\n",
      "Epoch 3/15\n",
      "26/26 [==============================] - 17s 659ms/step - loss: 0.6880 - accuracy: 0.6584 - val_loss: 0.6668 - val_accuracy: 0.6581\n",
      "Epoch 4/15\n",
      "26/26 [==============================] - 17s 662ms/step - loss: 0.6010 - accuracy: 0.6861 - val_loss: 0.5959 - val_accuracy: 0.6913\n",
      "Epoch 5/15\n",
      "26/26 [==============================] - 17s 652ms/step - loss: 0.5641 - accuracy: 0.7118 - val_loss: 0.6075 - val_accuracy: 0.6725\n",
      "Epoch 6/15\n",
      "26/26 [==============================] - 17s 659ms/step - loss: 0.5488 - accuracy: 0.7274 - val_loss: 0.6422 - val_accuracy: 0.6566\n",
      "Epoch 7/15\n",
      "26/26 [==============================] - 17s 670ms/step - loss: 0.5765 - accuracy: 0.6995 - val_loss: 0.5860 - val_accuracy: 0.6988\n",
      "Epoch 8/15\n",
      "26/26 [==============================] - 19s 741ms/step - loss: 0.5621 - accuracy: 0.7150 - val_loss: 0.5882 - val_accuracy: 0.6925\n",
      "Epoch 9/15\n",
      "26/26 [==============================] - 18s 684ms/step - loss: 0.5727 - accuracy: 0.7085 - val_loss: 0.6131 - val_accuracy: 0.6906\n",
      "Epoch 10/15\n",
      "26/26 [==============================] - 18s 710ms/step - loss: 0.5196 - accuracy: 0.7482 - val_loss: 0.5683 - val_accuracy: 0.7159\n",
      "Epoch 11/15\n",
      "26/26 [==============================] - 17s 664ms/step - loss: 0.4951 - accuracy: 0.7773 - val_loss: 0.5728 - val_accuracy: 0.7166\n",
      "Epoch 12/15\n",
      "26/26 [==============================] - 17s 672ms/step - loss: 0.5295 - accuracy: 0.7377 - val_loss: 0.9444 - val_accuracy: 0.5753\n",
      "Epoch 13/15\n",
      "26/26 [==============================] - 18s 703ms/step - loss: 0.5265 - accuracy: 0.7489 - val_loss: 0.5869 - val_accuracy: 0.7006\n",
      "Epoch 14/15\n",
      "26/26 [==============================] - 18s 687ms/step - loss: 0.5179 - accuracy: 0.7482 - val_loss: 0.8624 - val_accuracy: 0.5950\n",
      "Epoch 15/15\n",
      "26/26 [==============================] - 19s 728ms/step - loss: 0.4961 - accuracy: 0.7702 - val_loss: 0.5694 - val_accuracy: 0.7231\n"
     ]
    }
   ],
   "source": [
    "history = model_cnn.fit(X_train, y_train_enc, epochs=EPOCHS, validation_data=(X_valid, y_valid_enc), batch_size = BATCH_SIZE,\n",
    "                        )"
   ]
  },
  {
   "cell_type": "code",
   "execution_count": 30,
   "id": "2ef83ba9",
   "metadata": {},
   "outputs": [
    {
     "data": {
      "text/plain": [
       "{'loss': [11.020992279052734,\n",
       "  1.7114545106887817,\n",
       "  0.6879846453666687,\n",
       "  0.6009969711303711,\n",
       "  0.5640572905540466,\n",
       "  0.5488331913948059,\n",
       "  0.5764908194541931,\n",
       "  0.5621466636657715,\n",
       "  0.5727487206459045,\n",
       "  0.5195578336715698,\n",
       "  0.49514147639274597,\n",
       "  0.5295421481132507,\n",
       "  0.5265154838562012,\n",
       "  0.5178870558738708,\n",
       "  0.49612659215927124],\n",
       " 'accuracy': [0.5146093964576721,\n",
       "  0.5701562762260437,\n",
       "  0.6583593487739563,\n",
       "  0.6860937476158142,\n",
       "  0.7117968797683716,\n",
       "  0.7274218797683716,\n",
       "  0.6994531154632568,\n",
       "  0.7149999737739563,\n",
       "  0.7085156440734863,\n",
       "  0.7482030987739563,\n",
       "  0.77734375,\n",
       "  0.7376562356948853,\n",
       "  0.7489062547683716,\n",
       "  0.7482030987739563,\n",
       "  0.7702343463897705],\n",
       " 'val_loss': [4.239746570587158,\n",
       "  0.7306099534034729,\n",
       "  0.6667543053627014,\n",
       "  0.5959107875823975,\n",
       "  0.6074750423431396,\n",
       "  0.6421838402748108,\n",
       "  0.5859538316726685,\n",
       "  0.5882046222686768,\n",
       "  0.613130509853363,\n",
       "  0.5682913661003113,\n",
       "  0.5727587938308716,\n",
       "  0.9443901181221008,\n",
       "  0.5869402885437012,\n",
       "  0.862395167350769,\n",
       "  0.5694417357444763],\n",
       " 'val_accuracy': [0.5040624737739563,\n",
       "  0.6396874785423279,\n",
       "  0.6581249833106995,\n",
       "  0.6912500262260437,\n",
       "  0.6725000143051147,\n",
       "  0.6565625071525574,\n",
       "  0.6987500190734863,\n",
       "  0.6924999952316284,\n",
       "  0.690625011920929,\n",
       "  0.7159374952316284,\n",
       "  0.7165625095367432,\n",
       "  0.5753124952316284,\n",
       "  0.7006250023841858,\n",
       "  0.5950000286102295,\n",
       "  0.7231249809265137]}"
      ]
     },
     "execution_count": 30,
     "metadata": {},
     "output_type": "execute_result"
    }
   ],
   "source": [
    "history.history"
   ]
  },
  {
   "cell_type": "code",
   "execution_count": 31,
   "id": "20b71180",
   "metadata": {},
   "outputs": [
    {
     "name": "stdout",
     "output_type": "stream",
     "text": [
      "['loss', 'accuracy']\n"
     ]
    }
   ],
   "source": [
    "print(model_cnn.metrics_names)"
   ]
  },
  {
   "cell_type": "code",
   "execution_count": 32,
   "id": "98bb166e",
   "metadata": {},
   "outputs": [],
   "source": [
    "def plot_history(history):\n",
    "    plt.figure(figsize=(16,9))\n",
    "    # plot loss\n",
    "    plt.subplot(211)\n",
    "    plt.grid()\n",
    "    plt.title('binary_crossentropy')\n",
    "    plt.plot(history.history['loss'], \"o-\", color='blue', label='train')\n",
    "    plt.plot(history.history['val_loss'], \"o-\", color='orange', label='validation')\n",
    "    plt.legend()    \n",
    "    # plot accuracy\n",
    "    plt.subplot(212)\n",
    "    plt.grid()\n",
    "    plt.title('Classification Accuracy')\n",
    "    plt.plot(history.history['accuracy'], \"o-\",color='blue', label='train')\n",
    "    plt.plot(history.history['val_accuracy'], \"o-\",color='orange', label='validation')\n",
    "    plt.legend()\n",
    "    plt.show()"
   ]
  },
  {
   "cell_type": "code",
   "execution_count": 33,
   "id": "0b1ee473",
   "metadata": {},
   "outputs": [
    {
     "data": {
      "image/png": "[encoded data removed]",
      "text/plain": [
       "<Figure size 1152x648 with 2 Axes>"
      ]
     },
     "metadata": {
      "needs_background": "light"
     },
     "output_type": "display_data"
    }
   ],
   "source": [
    "plot_history(history)"
   ]
  },
  {
   "cell_type": "code",
   "execution_count": 34,
   "id": "fa9d607c",
   "metadata": {},
   "outputs": [],
   "source": [
    "model_cnn_2 = Sequential()\n",
    "model_cnn_2.add(tf.keras.layers.Input(name = \"input\", shape=INPUT_SHAPE))\n",
    "model_cnn_2.add(tf.keras.layers.Conv2D(name = \"conv2D\",\n",
    "                                     filters=32,\n",
    "                                     kernel_size=(3,3),\n",
    "                                     activation=\"LeakyReLU\",\n",
    "                                     padding=\"same\",\n",
    "                                     kernel_initializer=\"he_uniform\"\n",
    "                                    ))\n",
    "model_cnn_2.add(tf.keras.layers.MaxPooling2D(name=\"pooling\", pool_size=(2,2)))\n",
    "model_cnn_2.add(tf.keras.layers.Conv2D(name = \"conv2D_2\",\n",
    "                                     filters=64,\n",
    "                                     kernel_size=(3,3),\n",
    "                                     activation=\"LeakyReLU\",\n",
    "                                     padding=\"same\",\n",
    "                                     kernel_initializer=\"he_uniform\"\n",
    "                                    ))\n",
    "model_cnn_2.add(tf.keras.layers.MaxPooling2D(name=\"pooling_2\", pool_size=(2,2)))\n",
    "model_cnn_2.add(tf.keras.layers.Flatten(name=\"flatten\"))\n",
    "model_cnn_2.add(tf.keras.layers.Dense(name=\"dense_hidden\", units = 256, activation=\"LeakyReLU\",\n",
    "                                    kernel_initializer=\"he_uniform\" ))\n",
    "model_cnn_2.add(tf.keras.layers.Dense(name=\"dense_hidden_2\", units = 128, activation=\"LeakyReLU\",\n",
    "                                    kernel_initializer=\"he_uniform\" ))\n",
    "model_cnn_2.add(tf.keras.layers.Dense(name=\"ouput\", units = 1, activation=\"sigmoid\"))\n"
   ]
  },
  {
   "cell_type": "code",
   "execution_count": 35,
   "id": "f23c3b6e",
   "metadata": {},
   "outputs": [],
   "source": [
    "# compiler modele\n",
    "model_cnn_2.compile(optimizer = \"adam\", loss =\"binary_crossentropy\", metrics=[\"accuracy\"])"
   ]
  },
  {
   "cell_type": "code",
   "execution_count": 36,
   "id": "35b6bfdc",
   "metadata": {},
   "outputs": [
    {
     "name": "stdout",
     "output_type": "stream",
     "text": [
      "Model: \"sequential_1\"\n",
      "_________________________________________________________________\n",
      " Layer (type)                Output Shape              Param #   \n",
      "=================================================================\n",
      " conv2D (Conv2D)             (None, 64, 64, 32)        896       \n",
      "                                                                 \n",
      " pooling (MaxPooling2D)      (None, 32, 32, 32)        0         \n",
      "                                                                 \n",
      " conv2D_2 (Conv2D)           (None, 32, 32, 64)        18496     \n",
      "                                                                 \n",
      " pooling_2 (MaxPooling2D)    (None, 16, 16, 64)        0         \n",
      "                                                                 \n",
      " flatten (Flatten)           (None, 16384)             0         \n",
      "                                                                 \n",
      " dense_hidden (Dense)        (None, 256)               4194560   \n",
      "                                                                 \n",
      " dense_hidden_2 (Dense)      (None, 128)               32896     \n",
      "                                                                 \n",
      " ouput (Dense)               (None, 1)                 129       \n",
      "                                                                 \n",
      "=================================================================\n",
      "Total params: 4,246,977\n",
      "Trainable params: 4,246,977\n",
      "Non-trainable params: 0\n",
      "_________________________________________________________________\n"
     ]
    }
   ],
   "source": [
    "model_cnn_2.summary()"
   ]
  },
  {
   "cell_type": "code",
   "execution_count": 37,
   "id": "f0749f80",
   "metadata": {},
   "outputs": [
    {
     "data": {
      "text/plain": [
       "(12800, 64, 64, 3)"
      ]
     },
     "execution_count": 37,
     "metadata": {},
     "output_type": "execute_result"
    }
   ],
   "source": [
    "X_train.shape"
   ]
  },
  {
   "cell_type": "code",
   "execution_count": 38,
   "id": "66f15896",
   "metadata": {},
   "outputs": [
    {
     "name": "stdout",
     "output_type": "stream",
     "text": [
      "Epoch 1/15\n",
      "26/26 [==============================] - 35s 1s/step - loss: 2.7711 - accuracy: 0.5384 - val_loss: 0.6566 - val_accuracy: 0.6228\n",
      "Epoch 2/15\n",
      "26/26 [==============================] - 33s 1s/step - loss: 0.6316 - accuracy: 0.6454 - val_loss: 0.6194 - val_accuracy: 0.6603\n",
      "Epoch 3/15\n",
      "26/26 [==============================] - 33s 1s/step - loss: 0.5733 - accuracy: 0.7088 - val_loss: 0.5853 - val_accuracy: 0.7013\n",
      "Epoch 4/15\n",
      "26/26 [==============================] - 34s 1s/step - loss: 0.5397 - accuracy: 0.7309 - val_loss: 0.5498 - val_accuracy: 0.7181\n",
      "Epoch 5/15\n",
      "26/26 [==============================] - 33s 1s/step - loss: 0.5262 - accuracy: 0.7341 - val_loss: 0.5269 - val_accuracy: 0.7447\n",
      "Epoch 6/15\n",
      "26/26 [==============================] - 33s 1s/step - loss: 0.4648 - accuracy: 0.7827 - val_loss: 0.4909 - val_accuracy: 0.7616\n",
      "Epoch 7/15\n",
      "26/26 [==============================] - 33s 1s/step - loss: 0.4306 - accuracy: 0.8038 - val_loss: 0.5289 - val_accuracy: 0.7459\n",
      "Epoch 8/15\n",
      "26/26 [==============================] - 33s 1s/step - loss: 0.4211 - accuracy: 0.8034 - val_loss: 0.4825 - val_accuracy: 0.7681\n",
      "Epoch 9/15\n",
      "26/26 [==============================] - 33s 1s/step - loss: 0.3701 - accuracy: 0.8370 - val_loss: 0.4274 - val_accuracy: 0.8000\n",
      "Epoch 10/15\n",
      "26/26 [==============================] - 33s 1s/step - loss: 0.4103 - accuracy: 0.8127 - val_loss: 0.4506 - val_accuracy: 0.7862\n",
      "Epoch 11/15\n",
      "26/26 [==============================] - 35s 1s/step - loss: 0.3203 - accuracy: 0.8707 - val_loss: 0.3982 - val_accuracy: 0.8247\n",
      "Epoch 12/15\n",
      "26/26 [==============================] - 33s 1s/step - loss: 0.3261 - accuracy: 0.8569 - val_loss: 0.4062 - val_accuracy: 0.8159\n",
      "Epoch 13/15\n",
      "26/26 [==============================] - 33s 1s/step - loss: 0.2520 - accuracy: 0.9014 - val_loss: 0.3694 - val_accuracy: 0.8406\n",
      "Epoch 14/15\n",
      "26/26 [==============================] - 33s 1s/step - loss: 0.2888 - accuracy: 0.8759 - val_loss: 0.4977 - val_accuracy: 0.7837\n",
      "Epoch 15/15\n",
      "26/26 [==============================] - 32s 1s/step - loss: 0.2458 - accuracy: 0.9014 - val_loss: 0.3592 - val_accuracy: 0.8462\n"
     ]
    }
   ],
   "source": [
    "history_2 = model_cnn_2.fit(X_train, y_train_enc, epochs=EPOCHS, validation_data=(X_valid, y_valid_enc), batch_size = BATCH_SIZE,\n",
    "                        )"
   ]
  },
  {
   "cell_type": "code",
   "execution_count": 39,
   "id": "958ad90b",
   "metadata": {},
   "outputs": [
    {
     "data": {
      "image/png": "[encoded data removed]",
      "text/plain": [
       "<Figure size 1152x648 with 2 Axes>"
      ]
     },
     "metadata": {
      "needs_background": "light"
     },
     "output_type": "display_data"
    }
   ],
   "source": [
    "plot_history(history_2)"
   ]
  },
  {
   "cell_type": "code",
   "execution_count": 40,
   "id": "22674556",
   "metadata": {},
   "outputs": [],
   "source": [
    "model_cnn_2.save(PATH_MODEL + \"/model_cnn_2.h5\")"
   ]
  },
  {
   "cell_type": "code",
   "execution_count": 41,
   "id": "001927c1",
   "metadata": {},
   "outputs": [
    {
     "data": {
      "text/plain": [
       "'2.7.0'"
      ]
     },
     "execution_count": 41,
     "metadata": {},
     "output_type": "execute_result"
    }
   ],
   "source": [
    "tf.keras.__version__"
   ]
  },
  {
   "cell_type": "code",
   "execution_count": 42,
   "id": "afb9217a",
   "metadata": {},
   "outputs": [],
   "source": [
    "# assert False"
   ]
  },
  {
   "cell_type": "code",
   "execution_count": 43,
   "id": "75a628bd",
   "metadata": {},
   "outputs": [],
   "source": [
    "# modele article"
   ]
  },
  {
   "cell_type": "code",
   "execution_count": 44,
   "id": "59be81a9",
   "metadata": {},
   "outputs": [],
   "source": [
    "BATCH_SIZE = 64\n",
    "NUM_CLASSES = 2\n",
    "EPOCHS = 25\n",
    "INPUT_SHAPE = (IMG_SIZE, IMG_SIZE, 3)"
   ]
  },
  {
   "cell_type": "code",
   "execution_count": 45,
   "id": "b2d51376",
   "metadata": {},
   "outputs": [],
   "source": [
    "\n",
    "model_cnn_3 = Sequential()\n",
    "model_cnn_3.add(tf.keras.layers.Input(name = \"input\", shape=INPUT_SHAPE))\n",
    "\n",
    "model_cnn_3.add(tf.keras.layers.Conv2D(name = \"conv2D\",\n",
    "                                       filters=32,\n",
    "                                       kernel_size=(3,3),\n",
    "                                       activation=\"relu\",\n",
    "                                       padding=\"same\",\n",
    "                                       ))\n",
    "model_cnn_3.add(tf.keras.layers.MaxPooling2D(name=\"pooling\",\n",
    "                                             pool_size=(2,2)\n",
    "                                            ))\n",
    "model_cnn_3.add(tf.keras.layers.Conv2D(name = \"conv2D_2\",\n",
    "                                       filters=64,\n",
    "                                       kernel_size=(3,3),\n",
    "                                       activation=\"relu\",\n",
    "                                       padding=\"same\",\n",
    "                                       ))\n",
    "model_cnn_3.add(tf.keras.layers.MaxPooling2D(name=\"pooling_2\",\n",
    "                                             pool_size=(2,2)\n",
    "                                            ))\n",
    "model_cnn_3.add(tf.keras.layers.Conv2D(name=\"conv2D_3\",\n",
    "                                       filters=128,\n",
    "                                       kernel_size=(3,3),\n",
    "                                       activation=\"relu\",\n",
    "                                       padding=\"same\",\n",
    "                                      ))\n",
    "model_cnn_3.add(tf.keras.layers.MaxPooling2D(name=\"pooling_3\",\n",
    "                                             pool_size=(2,2)\n",
    "                                            ))\n",
    "model_cnn_3.add(tf.keras.layers.Flatten(name=\"flatten\"))\n",
    "model_cnn_3.add(tf.keras.layers.Dense(name=\"dense_hidden\",\n",
    "                                      units = 512,\n",
    "                                      activation=\"relu\",\n",
    "                                     ))\n",
    "model_cnn_3.add(tf.keras.layers.Dropout(name=\"drop_1\",\n",
    "                                      rate=0.3,                                      \n",
    "                                     ))\n",
    "model_cnn_3.add(tf.keras.layers.Dense(name=\"dense_hidden_2\",\n",
    "                                      units = 512,\n",
    "                                      activation=\"relu\",\n",
    "                                     ))\n",
    "model_cnn_3.add(tf.keras.layers.Dropout(name=\"drop_2\",\n",
    "                                      rate=0.3,                                      \n",
    "                                     ))\n",
    "model_cnn_3.add(tf.keras.layers.Dense(name=\"ouput\", units = 1, activation=\"sigmoid\"))"
   ]
  },
  {
   "cell_type": "code",
   "execution_count": 46,
   "id": "82c5a135",
   "metadata": {},
   "outputs": [],
   "source": [
    "# compiler modele\n",
    "model_cnn_3.compile(optimizer = \"adam\", loss =\"binary_crossentropy\", metrics=[\"accuracy\"])"
   ]
  },
  {
   "cell_type": "code",
   "execution_count": 47,
   "id": "c9ebdb73",
   "metadata": {},
   "outputs": [
    {
     "name": "stdout",
     "output_type": "stream",
     "text": [
      "Model: \"sequential_2\"\n",
      "_________________________________________________________________\n",
      " Layer (type)                Output Shape              Param #   \n",
      "=================================================================\n",
      " conv2D (Conv2D)             (None, 64, 64, 32)        896       \n",
      "                                                                 \n",
      " pooling (MaxPooling2D)      (None, 32, 32, 32)        0         \n",
      "                                                                 \n",
      " conv2D_2 (Conv2D)           (None, 32, 32, 64)        18496     \n",
      "                                                                 \n",
      " pooling_2 (MaxPooling2D)    (None, 16, 16, 64)        0         \n",
      "                                                                 \n",
      " conv2D_3 (Conv2D)           (None, 16, 16, 128)       73856     \n",
      "                                                                 \n",
      " pooling_3 (MaxPooling2D)    (None, 8, 8, 128)         0         \n",
      "                                                                 \n",
      " flatten (Flatten)           (None, 8192)              0         \n",
      "                                                                 \n",
      " dense_hidden (Dense)        (None, 512)               4194816   \n",
      "                                                                 \n",
      " drop_1 (Dropout)            (None, 512)               0         \n",
      "                                                                 \n",
      " dense_hidden_2 (Dense)      (None, 512)               262656    \n",
      "                                                                 \n",
      " drop_2 (Dropout)            (None, 512)               0         \n",
      "                                                                 \n",
      " ouput (Dense)               (None, 1)                 513       \n",
      "                                                                 \n",
      "=================================================================\n",
      "Total params: 4,551,233\n",
      "Trainable params: 4,551,233\n",
      "Non-trainable params: 0\n",
      "_________________________________________________________________\n"
     ]
    }
   ],
   "source": [
    "model_cnn_3.summary()"
   ]
  },
  {
   "cell_type": "code",
   "execution_count": 48,
   "id": "888ed98c",
   "metadata": {
    "scrolled": false
   },
   "outputs": [
    {
     "name": "stdout",
     "output_type": "stream",
     "text": [
      "Epoch 1/25\n",
      "200/200 [==============================] - 45s 221ms/step - loss: 0.5196 - accuracy: 0.7189 - val_loss: 0.1797 - val_accuracy: 0.9322\n",
      "Epoch 2/25\n",
      "200/200 [==============================] - 44s 218ms/step - loss: 0.1715 - accuracy: 0.9442 - val_loss: 0.1568 - val_accuracy: 0.9522\n",
      "Epoch 3/25\n",
      "200/200 [==============================] - 44s 218ms/step - loss: 0.1480 - accuracy: 0.9523 - val_loss: 0.1516 - val_accuracy: 0.9519\n",
      "Epoch 4/25\n",
      "200/200 [==============================] - 43s 217ms/step - loss: 0.1297 - accuracy: 0.9574 - val_loss: 0.1287 - val_accuracy: 0.9609\n",
      "Epoch 5/25\n",
      "200/200 [==============================] - 43s 216ms/step - loss: 0.1206 - accuracy: 0.9597 - val_loss: 0.1305 - val_accuracy: 0.9609\n",
      "Epoch 6/25\n",
      "200/200 [==============================] - 44s 219ms/step - loss: 0.1027 - accuracy: 0.9639 - val_loss: 0.1310 - val_accuracy: 0.9581\n",
      "Epoch 7/25\n",
      "200/200 [==============================] - 43s 214ms/step - loss: 0.0873 - accuracy: 0.9705 - val_loss: 0.1554 - val_accuracy: 0.9591\n",
      "Epoch 8/25\n",
      "200/200 [==============================] - 43s 216ms/step - loss: 0.0760 - accuracy: 0.9732 - val_loss: 0.1357 - val_accuracy: 0.9556\n",
      "Epoch 9/25\n",
      "200/200 [==============================] - 42s 212ms/step - loss: 0.0600 - accuracy: 0.9792 - val_loss: 0.1472 - val_accuracy: 0.9559\n",
      "Epoch 10/25\n",
      "200/200 [==============================] - 43s 217ms/step - loss: 0.0442 - accuracy: 0.9845 - val_loss: 0.1931 - val_accuracy: 0.9553\n",
      "Epoch 11/25\n",
      "200/200 [==============================] - 43s 213ms/step - loss: 0.0341 - accuracy: 0.9874 - val_loss: 0.2109 - val_accuracy: 0.9556\n",
      "Epoch 12/25\n",
      "200/200 [==============================] - 43s 216ms/step - loss: 0.0295 - accuracy: 0.9899 - val_loss: 0.2324 - val_accuracy: 0.9588\n",
      "Epoch 13/25\n",
      "200/200 [==============================] - 43s 214ms/step - loss: 0.0227 - accuracy: 0.9916 - val_loss: 0.2690 - val_accuracy: 0.9528\n",
      "Epoch 14/25\n",
      "200/200 [==============================] - 43s 214ms/step - loss: 0.0155 - accuracy: 0.9951 - val_loss: 0.2957 - val_accuracy: 0.9544\n",
      "Epoch 15/25\n",
      "200/200 [==============================] - 43s 216ms/step - loss: 0.0138 - accuracy: 0.9953 - val_loss: 0.3081 - val_accuracy: 0.9494\n",
      "Epoch 16/25\n",
      "200/200 [==============================] - 44s 218ms/step - loss: 0.0186 - accuracy: 0.9930 - val_loss: 0.3080 - val_accuracy: 0.9541\n",
      "Epoch 17/25\n",
      "200/200 [==============================] - 44s 220ms/step - loss: 0.0085 - accuracy: 0.9968 - val_loss: 0.3655 - val_accuracy: 0.9572\n",
      "Epoch 18/25\n",
      "200/200 [==============================] - 46s 229ms/step - loss: 0.0135 - accuracy: 0.9957 - val_loss: 0.3292 - val_accuracy: 0.9500\n",
      "Epoch 19/25\n",
      "200/200 [==============================] - 47s 235ms/step - loss: 0.0156 - accuracy: 0.9948 - val_loss: 0.3163 - val_accuracy: 0.9500\n",
      "Epoch 20/25\n",
      "200/200 [==============================] - 47s 233ms/step - loss: 0.0132 - accuracy: 0.9959 - val_loss: 0.3239 - val_accuracy: 0.9472\n",
      "Epoch 21/25\n",
      "200/200 [==============================] - 47s 235ms/step - loss: 0.0158 - accuracy: 0.9948 - val_loss: 0.3037 - val_accuracy: 0.9519\n",
      "Epoch 22/25\n",
      "200/200 [==============================] - 47s 234ms/step - loss: 0.0076 - accuracy: 0.9973 - val_loss: 0.3925 - val_accuracy: 0.9506\n",
      "Epoch 23/25\n",
      "200/200 [==============================] - 46s 232ms/step - loss: 0.0070 - accuracy: 0.9973 - val_loss: 0.4017 - val_accuracy: 0.9547\n",
      "Epoch 24/25\n",
      "200/200 [==============================] - 49s 243ms/step - loss: 0.0138 - accuracy: 0.9947 - val_loss: 0.3062 - val_accuracy: 0.9534\n",
      "Epoch 25/25\n",
      "200/200 [==============================] - 47s 234ms/step - loss: 0.0041 - accuracy: 0.9990 - val_loss: 0.3531 - val_accuracy: 0.9553\n"
     ]
    }
   ],
   "source": [
    "history_3 = model_cnn_3.fit(X_train, y_train_enc,\n",
    "                            epochs=EPOCHS, validation_data=(X_valid, y_valid_enc),\n",
    "                            batch_size = BATCH_SIZE\n",
    "                           )"
   ]
  },
  {
   "cell_type": "code",
   "execution_count": 49,
   "id": "ce18298b",
   "metadata": {
    "scrolled": false
   },
   "outputs": [
    {
     "data": {
      "image/png": "[encoded data removed]",
      "text/plain": [
       "<Figure size 1152x648 with 2 Axes>"
      ]
     },
     "metadata": {
      "needs_background": "light"
     },
     "output_type": "display_data"
    }
   ],
   "source": [
    "plot_history(history_3)"
   ]
  },
  {
   "cell_type": "markdown",
   "id": "56c412e8",
   "metadata": {},
   "source": [
    "Keras avec GPU AMD\n",
    "https://medium.com/@Vatsal410/keras-without-nvidia-gpus-with-plaidml-and-amd-gpu-4ba6f60025ce"
   ]
  }
 ],
 "metadata": {
  "kernelspec": {
   "display_name": "keras",
   "language": "python",
   "name": "keras"
  },
  "language_info": {
   "codemirror_mode": {
    "name": "ipython",
    "version": 3
   },
   "file_extension": ".py",
   "mimetype": "text/x-python",
   "name": "python",
   "nbconvert_exporter": "python",
   "pygments_lexer": "ipython3",
   "version": "3.8.5"
  },
  "toc": {
   "base_numbering": 1,
   "nav_menu": {},
   "number_sections": true,
   "sideBar": true,
   "skip_h1_title": false,
   "title_cell": "Table of Contents",
   "title_sidebar": "Contents",
   "toc_cell": false,
   "toc_position": {
    "height": "calc(100% - 180px)",
    "left": "10px",
    "top": "150px",
    "width": "349.091px"
   },
   "toc_section_display": true,
   "toc_window_display": true
  }
 },
 "nbformat": 4,
 "nbformat_minor": 5
}
