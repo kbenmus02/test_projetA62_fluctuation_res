{
 "cells": [
  {
   "cell_type": "code",
   "execution_count": 3,
   "id": "earned-consortium",
   "metadata": {
    "id": "A-PWEKuUKayP"
   },
   "outputs": [],
   "source": [
    "import os\n",
    "import pickle\n",
    "#import gzip\n",
    "import bz2"
   ]
  },
  {
   "cell_type": "code",
   "execution_count": 4,
   "id": "compliant-sword",
   "metadata": {},
   "outputs": [],
   "source": [
    "def pickle_save(object_to_save: object, file_info: str):\n",
    "    compressed_file = bz2.open(file_info,\"wb\")\n",
    "    pickle.dump(object_to_save, compressed_file)\n",
    "    compressed_file.close()"
   ]
  },
  {
   "cell_type": "code",
   "execution_count": 5,
   "id": "appropriate-knitting",
   "metadata": {
    "id": "Wuc7lb6l6I2s"
   },
   "outputs": [],
   "source": [
    "def pickle_read(file_info: str) -> object:\n",
    "    compressed_file = bz2.open(file_info,\"rb\")\n",
    "    result=pickle.load(compressed_file)\n",
    "    compressed_file.close()\n",
    "    return result"
   ]
  },
  {
   "cell_type": "code",
   "execution_count": 6,
   "id": "interstate-processing",
   "metadata": {
    "id": "TlyO2ALw6I2t"
   },
   "outputs": [],
   "source": [
    "def split_file_info(file_info: str) -> (str, str, str):\n",
    "    file_info_temp  = file_info.replace(\"/\", \"\\\\\")\n",
    "    info_token_list = file_info_temp.split(\"\\\\\")\n",
    "    file_token_list = info_token_list[-1].split(\".\")\n",
    "    file_name       = file_token_list[0]\n",
    "    file_extension  = file_token_list[1]\n",
    "    path = \"/\".join(info_token_list[:-1])\n",
    "    return path, file_name, file_extension"
   ]
  }
 ],
 "metadata": {
  "colab": {
   "collapsed_sections": [],
   "name": "iteration_01_0_utils.ipynb",
   "provenance": [
    {
     "file_id": "https://github.com/YounesZ/A62-EquipeCV/blob/feature-colab-integration/notebook/iteration_01_0_utils.ipynb",
     "timestamp": 1637790392333
    }
   ]
  },
  "kernelspec": {
   "display_name": "Python 3",
   "language": "python",
   "name": "python3"
  },
  "language_info": {
   "codemirror_mode": {
    "name": "ipython",
    "version": 3
   },
   "file_extension": ".py",
   "mimetype": "text/x-python",
   "name": "python",
   "nbconvert_exporter": "python",
   "pygments_lexer": "ipython3",
   "version": "3.8.5"
  },
  "toc": {
   "base_numbering": 1,
   "nav_menu": {},
   "number_sections": true,
   "sideBar": true,
   "skip_h1_title": false,
   "title_cell": "Table of Contents",
   "title_sidebar": "Contents",
   "toc_cell": false,
   "toc_position": {},
   "toc_section_display": true,
   "toc_window_display": false
  }
 },
 "nbformat": 4,
 "nbformat_minor": 5
}
